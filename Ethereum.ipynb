{
 "cells": [
  {
   "cell_type": "markdown",
   "id": "a6a583bf-fe80-43d9-8cd1-c78042b0b488",
   "metadata": {},
   "source": [
    "# Ethereum EDA "
   ]
  },
  {
   "cell_type": "code",
   "execution_count": 6,
   "id": "7bfd6cbf-a93e-45a4-935a-0adc7b964c8a",
   "metadata": {},
   "outputs": [],
   "source": [
    "# Standar import\n",
    "import os\n",
    "# Third Party imports\n",
    "import pandas as pd\n",
    "import numpy as np\n",
    "import matplotlib.pyplot as plt\n",
    "import seaborn as sns\n",
    "from sklearn import datasets \n",
    "# Local imports\n",
    "\n",
    "data=pd.read_csv('./data/ethereum.csv')"
   ]
  },
  {
   "cell_type": "code",
   "execution_count": 9,
   "id": "7ec245d3-7b82-4b92-b2d8-ec2345f330e4",
   "metadata": {},
   "outputs": [
    {
     "name": "stdout",
     "output_type": "stream",
     "text": [
      "\u001b[37mTotal records:\u001b[36m(1873, 7)\n",
      "\n"
     ]
    }
   ],
   "source": [
    "print(f\"{m_}Total records:{y_}{data.shape}\\n\")"
   ]
  },
  {
   "cell_type": "code",
   "execution_count": 8,
   "id": "d80be3a8-3cf4-42bc-86d1-ef30d7ad7ee8",
   "metadata": {},
   "outputs": [
    {
     "data": {
      "text/html": [
       "<div>\n",
       "<style scoped>\n",
       "    .dataframe tbody tr th:only-of-type {\n",
       "        vertical-align: middle;\n",
       "    }\n",
       "\n",
       "    .dataframe tbody tr th {\n",
       "        vertical-align: top;\n",
       "    }\n",
       "\n",
       "    .dataframe thead th {\n",
       "        text-align: right;\n",
       "    }\n",
       "</style>\n",
       "<table border=\"1\" class=\"dataframe\">\n",
       "  <thead>\n",
       "    <tr style=\"text-align: right;\">\n",
       "      <th></th>\n",
       "      <th>Date</th>\n",
       "      <th>Price</th>\n",
       "      <th>Open</th>\n",
       "      <th>High</th>\n",
       "      <th>Low</th>\n",
       "      <th>Vol.</th>\n",
       "      <th>Change %</th>\n",
       "    </tr>\n",
       "  </thead>\n",
       "  <tbody>\n",
       "    <tr>\n",
       "      <th>0</th>\n",
       "      <td>Apr 25, 2021</td>\n",
       "      <td>2,266.24</td>\n",
       "      <td>2,217.23</td>\n",
       "      <td>2,287.87</td>\n",
       "      <td>2,182.37</td>\n",
       "      <td>1.37M</td>\n",
       "      <td>2.27%</td>\n",
       "    </tr>\n",
       "    <tr>\n",
       "      <th>1</th>\n",
       "      <td>Apr 24, 2021</td>\n",
       "      <td>2,215.93</td>\n",
       "      <td>2,367.35</td>\n",
       "      <td>2,367.46</td>\n",
       "      <td>2,159.60</td>\n",
       "      <td>1.61M</td>\n",
       "      <td>-6.39%</td>\n",
       "    </tr>\n",
       "    <tr>\n",
       "      <th>2</th>\n",
       "      <td>Apr 23, 2021</td>\n",
       "      <td>2,367.31</td>\n",
       "      <td>2,398.95</td>\n",
       "      <td>2,440.21</td>\n",
       "      <td>2,119.26</td>\n",
       "      <td>3.46M</td>\n",
       "      <td>-1.41%</td>\n",
       "    </tr>\n",
       "    <tr>\n",
       "      <th>3</th>\n",
       "      <td>Apr 22, 2021</td>\n",
       "      <td>2,401.10</td>\n",
       "      <td>2,360.32</td>\n",
       "      <td>2,642.99</td>\n",
       "      <td>2,313.46</td>\n",
       "      <td>3.17M</td>\n",
       "      <td>1.71%</td>\n",
       "    </tr>\n",
       "    <tr>\n",
       "      <th>4</th>\n",
       "      <td>Apr 21, 2021</td>\n",
       "      <td>2,360.81</td>\n",
       "      <td>2,331.84</td>\n",
       "      <td>2,467.51</td>\n",
       "      <td>2,238.15</td>\n",
       "      <td>2.10M</td>\n",
       "      <td>1.23%</td>\n",
       "    </tr>\n",
       "  </tbody>\n",
       "</table>\n",
       "</div>"
      ],
      "text/plain": [
       "           Date     Price      Open      High       Low   Vol. Change %\n",
       "0  Apr 25, 2021  2,266.24  2,217.23  2,287.87  2,182.37  1.37M    2.27%\n",
       "1  Apr 24, 2021  2,215.93  2,367.35  2,367.46  2,159.60  1.61M   -6.39%\n",
       "2  Apr 23, 2021  2,367.31  2,398.95  2,440.21  2,119.26  3.46M   -1.41%\n",
       "3  Apr 22, 2021  2,401.10  2,360.32  2,642.99  2,313.46  3.17M    1.71%\n",
       "4  Apr 21, 2021  2,360.81  2,331.84  2,467.51  2,238.15  2.10M    1.23%"
      ]
     },
     "execution_count": 8,
     "metadata": {},
     "output_type": "execute_result"
    }
   ],
   "source": [
    "data.head()"
   ]
  }
 ],
 "metadata": {
  "kernelspec": {
   "display_name": "Python 3 (ipykernel)",
   "language": "python",
   "name": "python3"
  },
  "language_info": {
   "codemirror_mode": {
    "name": "ipython",
    "version": 3
   },
   "file_extension": ".py",
   "mimetype": "text/x-python",
   "name": "python",
   "nbconvert_exporter": "python",
   "pygments_lexer": "ipython3",
   "version": "3.10.8"
  }
 },
 "nbformat": 4,
 "nbformat_minor": 5
}
