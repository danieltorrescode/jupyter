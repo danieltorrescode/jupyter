{
 "cells": [
  {
   "cell_type": "code",
   "execution_count": 43,
   "metadata": {
    "colab": {
     "base_uri": "https://localhost:8080/"
    },
    "id": "BVd8uqTaxp_2",
    "outputId": "c757c233-e591-46e1-914c-d181ef277e46"
   },
   "outputs": [
    {
     "name": "stdout",
     "output_type": "stream",
     "text": [
      "Requirement already satisfied: sidetable in /opt/conda/lib/python3.10/site-packages (0.9.1)\n",
      "Requirement already satisfied: pandas>=1.0 in /opt/conda/lib/python3.10/site-packages (from sidetable) (1.4.4)\n",
      "Requirement already satisfied: python-dateutil>=2.8.1 in /opt/conda/lib/python3.10/site-packages (from pandas>=1.0->sidetable) (2.8.2)\n",
      "Requirement already satisfied: numpy>=1.21.0 in /opt/conda/lib/python3.10/site-packages (from pandas>=1.0->sidetable) (1.23.5)\n",
      "Requirement already satisfied: pytz>=2020.1 in /opt/conda/lib/python3.10/site-packages (from pandas>=1.0->sidetable) (2022.6)\n",
      "Requirement already satisfied: six>=1.5 in /opt/conda/lib/python3.10/site-packages (from python-dateutil>=2.8.1->pandas>=1.0->sidetable) (1.16.0)\n",
      "Note: you may need to restart the kernel to use updated packages.\n"
     ]
    }
   ],
   "source": [
    "%pip install sidetable"
   ]
  },
  {
   "cell_type": "markdown",
   "metadata": {
    "id": "u7WmD7E0gzZh"
   },
   "source": [
    "## Load libraries"
   ]
  },
  {
   "cell_type": "code",
   "execution_count": 45,
   "metadata": {
    "id": "EaY0DDRzES8_"
   },
   "outputs": [],
   "source": [
    "import numpy as np\n",
    "import pandas as pd\n",
    "import sidetable\n",
    "from scipy import stats\n",
    "\n",
    "import seaborn as sns\n",
    "import matplotlib.pyplot as plt\n",
    "\n",
    "import plotly.express as px\n",
    "\n",
    "from ipywidgets import interact"
   ]
  },
  {
   "cell_type": "code",
   "execution_count": 46,
   "metadata": {
    "id": "pzLJRIymEYU1"
   },
   "outputs": [],
   "source": [
    "DATA_URL = 'https://raw.githubusercontent.com/cmcouto-silva/datasets/main/datasets/ds_salaries.csv'"
   ]
  },
  {
   "cell_type": "code",
   "execution_count": 47,
   "metadata": {
    "colab": {
     "base_uri": "https://localhost:8080/",
     "height": 427
    },
    "id": "-9Omy2e6Nrtw",
    "outputId": "6b8b1a46-b604-44d5-ea2f-09f7fab99b83"
   },
   "outputs": [
    {
     "name": "stdout",
     "output_type": "stream",
     "text": [
      "(607, 11)\n"
     ]
    },
    {
     "data": {
      "text/html": [
       "<div>\n",
       "<style scoped>\n",
       "    .dataframe tbody tr th:only-of-type {\n",
       "        vertical-align: middle;\n",
       "    }\n",
       "\n",
       "    .dataframe tbody tr th {\n",
       "        vertical-align: top;\n",
       "    }\n",
       "\n",
       "    .dataframe thead th {\n",
       "        text-align: right;\n",
       "    }\n",
       "</style>\n",
       "<table border=\"1\" class=\"dataframe\">\n",
       "  <thead>\n",
       "    <tr style=\"text-align: right;\">\n",
       "      <th></th>\n",
       "      <th>work_year</th>\n",
       "      <th>experience_level</th>\n",
       "      <th>employment_type</th>\n",
       "      <th>job_title</th>\n",
       "      <th>salary</th>\n",
       "      <th>salary_currency</th>\n",
       "      <th>salary_in_usd</th>\n",
       "      <th>employee_residence</th>\n",
       "      <th>remote_ratio</th>\n",
       "      <th>company_location</th>\n",
       "      <th>company_size</th>\n",
       "    </tr>\n",
       "  </thead>\n",
       "  <tbody>\n",
       "    <tr>\n",
       "      <th>0</th>\n",
       "      <td>2020</td>\n",
       "      <td>MI</td>\n",
       "      <td>FT</td>\n",
       "      <td>Data Scientist</td>\n",
       "      <td>70000</td>\n",
       "      <td>EUR</td>\n",
       "      <td>79833</td>\n",
       "      <td>DE</td>\n",
       "      <td>0</td>\n",
       "      <td>DE</td>\n",
       "      <td>L</td>\n",
       "    </tr>\n",
       "    <tr>\n",
       "      <th>1</th>\n",
       "      <td>2020</td>\n",
       "      <td>SE</td>\n",
       "      <td>FT</td>\n",
       "      <td>Machine Learning Scientist</td>\n",
       "      <td>260000</td>\n",
       "      <td>USD</td>\n",
       "      <td>260000</td>\n",
       "      <td>JP</td>\n",
       "      <td>0</td>\n",
       "      <td>JP</td>\n",
       "      <td>S</td>\n",
       "    </tr>\n",
       "    <tr>\n",
       "      <th>2</th>\n",
       "      <td>2020</td>\n",
       "      <td>SE</td>\n",
       "      <td>FT</td>\n",
       "      <td>Big Data Engineer</td>\n",
       "      <td>85000</td>\n",
       "      <td>GBP</td>\n",
       "      <td>109024</td>\n",
       "      <td>GB</td>\n",
       "      <td>50</td>\n",
       "      <td>GB</td>\n",
       "      <td>M</td>\n",
       "    </tr>\n",
       "    <tr>\n",
       "      <th>3</th>\n",
       "      <td>2020</td>\n",
       "      <td>MI</td>\n",
       "      <td>FT</td>\n",
       "      <td>Product Data Analyst</td>\n",
       "      <td>20000</td>\n",
       "      <td>USD</td>\n",
       "      <td>20000</td>\n",
       "      <td>HN</td>\n",
       "      <td>0</td>\n",
       "      <td>HN</td>\n",
       "      <td>S</td>\n",
       "    </tr>\n",
       "    <tr>\n",
       "      <th>4</th>\n",
       "      <td>2020</td>\n",
       "      <td>SE</td>\n",
       "      <td>FT</td>\n",
       "      <td>Machine Learning Engineer</td>\n",
       "      <td>150000</td>\n",
       "      <td>USD</td>\n",
       "      <td>150000</td>\n",
       "      <td>US</td>\n",
       "      <td>50</td>\n",
       "      <td>US</td>\n",
       "      <td>L</td>\n",
       "    </tr>\n",
       "  </tbody>\n",
       "</table>\n",
       "</div>"
      ],
      "text/plain": [
       "   work_year experience_level employment_type                   job_title  \\\n",
       "0       2020               MI              FT              Data Scientist   \n",
       "1       2020               SE              FT  Machine Learning Scientist   \n",
       "2       2020               SE              FT           Big Data Engineer   \n",
       "3       2020               MI              FT        Product Data Analyst   \n",
       "4       2020               SE              FT   Machine Learning Engineer   \n",
       "\n",
       "   salary salary_currency  salary_in_usd employee_residence  remote_ratio  \\\n",
       "0   70000             EUR          79833                 DE             0   \n",
       "1  260000             USD         260000                 JP             0   \n",
       "2   85000             GBP         109024                 GB            50   \n",
       "3   20000             USD          20000                 HN             0   \n",
       "4  150000             USD         150000                 US            50   \n",
       "\n",
       "  company_location company_size  \n",
       "0               DE            L  \n",
       "1               JP            S  \n",
       "2               GB            M  \n",
       "3               HN            S  \n",
       "4               US            L  "
      ]
     },
     "execution_count": 47,
     "metadata": {},
     "output_type": "execute_result"
    }
   ],
   "source": [
    "df = pd.read_csv(DATA_URL, index_col=0)\n",
    "print(df.shape)\n",
    "df.head()"
   ]
  },
  {
   "cell_type": "markdown",
   "metadata": {
    "id": "oOtU-p29jHvw"
   },
   "source": [
    "# EDA"
   ]
  },
  {
   "cell_type": "code",
   "execution_count": 48,
   "metadata": {
    "colab": {
     "base_uri": "https://localhost:8080/"
    },
    "id": "V_T18olWJaPu",
    "outputId": "ad56d8f5-9a43-4af1-eeb6-e1d7bccc0f00"
   },
   "outputs": [
    {
     "name": "stdout",
     "output_type": "stream",
     "text": [
      "<class 'pandas.core.frame.DataFrame'>\n",
      "Int64Index: 607 entries, 0 to 606\n",
      "Data columns (total 11 columns):\n",
      " #   Column              Non-Null Count  Dtype \n",
      "---  ------              --------------  ----- \n",
      " 0   work_year           607 non-null    int64 \n",
      " 1   experience_level    607 non-null    object\n",
      " 2   employment_type     607 non-null    object\n",
      " 3   job_title           607 non-null    object\n",
      " 4   salary              607 non-null    int64 \n",
      " 5   salary_currency     607 non-null    object\n",
      " 6   salary_in_usd       607 non-null    int64 \n",
      " 7   employee_residence  607 non-null    object\n",
      " 8   remote_ratio        607 non-null    int64 \n",
      " 9   company_location    607 non-null    object\n",
      " 10  company_size        607 non-null    object\n",
      "dtypes: int64(4), object(7)\n",
      "memory usage: 56.9+ KB\n"
     ]
    }
   ],
   "source": [
    "df.info()"
   ]
  },
  {
   "cell_type": "code",
   "execution_count": 49,
   "metadata": {
    "id": "j5VZ4AG0JeHT"
   },
   "outputs": [],
   "source": [
    "memory_usage1 = df.memory_usage().sum()"
   ]
  },
  {
   "cell_type": "code",
   "execution_count": 50,
   "metadata": {
    "id": "qSsxhS6bJz9e"
   },
   "outputs": [],
   "source": [
    "categorical_columns = df.columns[df.dtypes==object].tolist() + ['work_year', 'remote_ratio']\n",
    "df[categorical_columns] = df[categorical_columns].astype('category')"
   ]
  },
  {
   "cell_type": "code",
   "execution_count": 51,
   "metadata": {
    "colab": {
     "base_uri": "https://localhost:8080/"
    },
    "id": "KRkiYTV-JeAG",
    "outputId": "c1d915ef-3914-4b7f-971c-6c271d1dc57a"
   },
   "outputs": [
    {
     "name": "stdout",
     "output_type": "stream",
     "text": [
      "<class 'pandas.core.frame.DataFrame'>\n",
      "Int64Index: 607 entries, 0 to 606\n",
      "Data columns (total 11 columns):\n",
      " #   Column              Non-Null Count  Dtype   \n",
      "---  ------              --------------  -----   \n",
      " 0   work_year           607 non-null    category\n",
      " 1   experience_level    607 non-null    category\n",
      " 2   employment_type     607 non-null    category\n",
      " 3   job_title           607 non-null    category\n",
      " 4   salary              607 non-null    int64   \n",
      " 5   salary_currency     607 non-null    category\n",
      " 6   salary_in_usd       607 non-null    int64   \n",
      " 7   employee_residence  607 non-null    category\n",
      " 8   remote_ratio        607 non-null    category\n",
      " 9   company_location    607 non-null    category\n",
      " 10  company_size        607 non-null    category\n",
      "dtypes: category(9), int64(2)\n",
      "memory usage: 28.4 KB\n"
     ]
    }
   ],
   "source": [
    "df.info()"
   ]
  },
  {
   "cell_type": "code",
   "execution_count": 52,
   "metadata": {
    "id": "cXoVBXVmJbza"
   },
   "outputs": [],
   "source": [
    "memory_usage2 = df.memory_usage().sum()"
   ]
  },
  {
   "cell_type": "code",
   "execution_count": 53,
   "metadata": {
    "colab": {
     "base_uri": "https://localhost:8080/"
    },
    "id": "LjEzt6uvKbxa",
    "outputId": "89390321-a0ee-4b09-8139-d2097e20d708"
   },
   "outputs": [
    {
     "data": {
      "text/plain": [
       "0.5007035969247666"
      ]
     },
     "execution_count": 53,
     "metadata": {},
     "output_type": "execute_result"
    }
   ],
   "source": [
    "1 - memory_usage2 / memory_usage1"
   ]
  },
  {
   "cell_type": "markdown",
   "metadata": {
    "id": "H-VpvZIEjYQ8"
   },
   "source": [
    "## Data Cleaning"
   ]
  },
  {
   "cell_type": "code",
   "execution_count": 54,
   "metadata": {
    "colab": {
     "base_uri": "https://localhost:8080/"
    },
    "id": "pfRQxCBDKmEA",
    "outputId": "fe5640b7-ed81-4216-dc50-1b775827d28d"
   },
   "outputs": [
    {
     "data": {
      "text/plain": [
       "False"
      ]
     },
     "execution_count": 54,
     "metadata": {},
     "output_type": "execute_result"
    }
   ],
   "source": [
    "df.isna().sum().any()"
   ]
  },
  {
   "cell_type": "code",
   "execution_count": 55,
   "metadata": {
    "colab": {
     "base_uri": "https://localhost:8080/"
    },
    "id": "gmY3mIcYKmAV",
    "outputId": "d3d04f2b-d3ce-4e2e-be23-5ad07ae6f728"
   },
   "outputs": [
    {
     "data": {
      "text/plain": [
       "42"
      ]
     },
     "execution_count": 55,
     "metadata": {},
     "output_type": "execute_result"
    }
   ],
   "source": [
    "df.duplicated().sum()"
   ]
  },
  {
   "cell_type": "code",
   "execution_count": 56,
   "metadata": {
    "colab": {
     "base_uri": "https://localhost:8080/",
     "height": 730
    },
    "id": "UOwWxl5WKl9q",
    "outputId": "1cbe6c61-4987-4f6c-efcd-9e53a1ffbb73"
   },
   "outputs": [
    {
     "data": {
      "text/html": [
       "<div>\n",
       "<style scoped>\n",
       "    .dataframe tbody tr th:only-of-type {\n",
       "        vertical-align: middle;\n",
       "    }\n",
       "\n",
       "    .dataframe tbody tr th {\n",
       "        vertical-align: top;\n",
       "    }\n",
       "\n",
       "    .dataframe thead th {\n",
       "        text-align: right;\n",
       "    }\n",
       "</style>\n",
       "<table border=\"1\" class=\"dataframe\">\n",
       "  <thead>\n",
       "    <tr style=\"text-align: right;\">\n",
       "      <th></th>\n",
       "      <th>work_year</th>\n",
       "      <th>experience_level</th>\n",
       "      <th>employment_type</th>\n",
       "      <th>job_title</th>\n",
       "      <th>salary</th>\n",
       "      <th>salary_currency</th>\n",
       "      <th>salary_in_usd</th>\n",
       "      <th>employee_residence</th>\n",
       "      <th>remote_ratio</th>\n",
       "      <th>company_location</th>\n",
       "      <th>company_size</th>\n",
       "    </tr>\n",
       "  </thead>\n",
       "  <tbody>\n",
       "    <tr>\n",
       "      <th>119</th>\n",
       "      <td>2021</td>\n",
       "      <td>MI</td>\n",
       "      <td>FT</td>\n",
       "      <td>Data Engineer</td>\n",
       "      <td>200000</td>\n",
       "      <td>USD</td>\n",
       "      <td>200000</td>\n",
       "      <td>US</td>\n",
       "      <td>100</td>\n",
       "      <td>US</td>\n",
       "      <td>L</td>\n",
       "    </tr>\n",
       "    <tr>\n",
       "      <th>256</th>\n",
       "      <td>2021</td>\n",
       "      <td>MI</td>\n",
       "      <td>FT</td>\n",
       "      <td>Data Engineer</td>\n",
       "      <td>200000</td>\n",
       "      <td>USD</td>\n",
       "      <td>200000</td>\n",
       "      <td>US</td>\n",
       "      <td>100</td>\n",
       "      <td>US</td>\n",
       "      <td>L</td>\n",
       "    </tr>\n",
       "    <tr>\n",
       "      <th>181</th>\n",
       "      <td>2021</td>\n",
       "      <td>MI</td>\n",
       "      <td>FT</td>\n",
       "      <td>Data Scientist</td>\n",
       "      <td>76760</td>\n",
       "      <td>EUR</td>\n",
       "      <td>90734</td>\n",
       "      <td>DE</td>\n",
       "      <td>50</td>\n",
       "      <td>DE</td>\n",
       "      <td>L</td>\n",
       "    </tr>\n",
       "    <tr>\n",
       "      <th>217</th>\n",
       "      <td>2021</td>\n",
       "      <td>MI</td>\n",
       "      <td>FT</td>\n",
       "      <td>Data Scientist</td>\n",
       "      <td>76760</td>\n",
       "      <td>EUR</td>\n",
       "      <td>90734</td>\n",
       "      <td>DE</td>\n",
       "      <td>50</td>\n",
       "      <td>DE</td>\n",
       "      <td>L</td>\n",
       "    </tr>\n",
       "    <tr>\n",
       "      <th>367</th>\n",
       "      <td>2022</td>\n",
       "      <td>MI</td>\n",
       "      <td>FT</td>\n",
       "      <td>Data Analyst</td>\n",
       "      <td>58000</td>\n",
       "      <td>USD</td>\n",
       "      <td>58000</td>\n",
       "      <td>US</td>\n",
       "      <td>0</td>\n",
       "      <td>US</td>\n",
       "      <td>S</td>\n",
       "    </tr>\n",
       "    <tr>\n",
       "      <th>...</th>\n",
       "      <td>...</td>\n",
       "      <td>...</td>\n",
       "      <td>...</td>\n",
       "      <td>...</td>\n",
       "      <td>...</td>\n",
       "      <td>...</td>\n",
       "      <td>...</td>\n",
       "      <td>...</td>\n",
       "      <td>...</td>\n",
       "      <td>...</td>\n",
       "      <td>...</td>\n",
       "    </tr>\n",
       "    <tr>\n",
       "      <th>592</th>\n",
       "      <td>2022</td>\n",
       "      <td>SE</td>\n",
       "      <td>FT</td>\n",
       "      <td>Data Scientist</td>\n",
       "      <td>230000</td>\n",
       "      <td>USD</td>\n",
       "      <td>230000</td>\n",
       "      <td>US</td>\n",
       "      <td>100</td>\n",
       "      <td>US</td>\n",
       "      <td>M</td>\n",
       "    </tr>\n",
       "    <tr>\n",
       "      <th>372</th>\n",
       "      <td>2022</td>\n",
       "      <td>SE</td>\n",
       "      <td>FT</td>\n",
       "      <td>Machine Learning Engineer</td>\n",
       "      <td>164996</td>\n",
       "      <td>USD</td>\n",
       "      <td>164996</td>\n",
       "      <td>US</td>\n",
       "      <td>0</td>\n",
       "      <td>US</td>\n",
       "      <td>M</td>\n",
       "    </tr>\n",
       "    <tr>\n",
       "      <th>439</th>\n",
       "      <td>2022</td>\n",
       "      <td>SE</td>\n",
       "      <td>FT</td>\n",
       "      <td>Machine Learning Engineer</td>\n",
       "      <td>164996</td>\n",
       "      <td>USD</td>\n",
       "      <td>164996</td>\n",
       "      <td>US</td>\n",
       "      <td>0</td>\n",
       "      <td>US</td>\n",
       "      <td>M</td>\n",
       "    </tr>\n",
       "    <tr>\n",
       "      <th>371</th>\n",
       "      <td>2022</td>\n",
       "      <td>SE</td>\n",
       "      <td>FT</td>\n",
       "      <td>Machine Learning Engineer</td>\n",
       "      <td>189650</td>\n",
       "      <td>USD</td>\n",
       "      <td>189650</td>\n",
       "      <td>US</td>\n",
       "      <td>0</td>\n",
       "      <td>US</td>\n",
       "      <td>M</td>\n",
       "    </tr>\n",
       "    <tr>\n",
       "      <th>438</th>\n",
       "      <td>2022</td>\n",
       "      <td>SE</td>\n",
       "      <td>FT</td>\n",
       "      <td>Machine Learning Engineer</td>\n",
       "      <td>189650</td>\n",
       "      <td>USD</td>\n",
       "      <td>189650</td>\n",
       "      <td>US</td>\n",
       "      <td>0</td>\n",
       "      <td>US</td>\n",
       "      <td>M</td>\n",
       "    </tr>\n",
       "  </tbody>\n",
       "</table>\n",
       "<p>71 rows × 11 columns</p>\n",
       "</div>"
      ],
      "text/plain": [
       "    work_year experience_level employment_type                  job_title  \\\n",
       "119      2021               MI              FT              Data Engineer   \n",
       "256      2021               MI              FT              Data Engineer   \n",
       "181      2021               MI              FT             Data Scientist   \n",
       "217      2021               MI              FT             Data Scientist   \n",
       "367      2022               MI              FT               Data Analyst   \n",
       "..        ...              ...             ...                        ...   \n",
       "592      2022               SE              FT             Data Scientist   \n",
       "372      2022               SE              FT  Machine Learning Engineer   \n",
       "439      2022               SE              FT  Machine Learning Engineer   \n",
       "371      2022               SE              FT  Machine Learning Engineer   \n",
       "438      2022               SE              FT  Machine Learning Engineer   \n",
       "\n",
       "     salary salary_currency  salary_in_usd employee_residence remote_ratio  \\\n",
       "119  200000             USD         200000                 US          100   \n",
       "256  200000             USD         200000                 US          100   \n",
       "181   76760             EUR          90734                 DE           50   \n",
       "217   76760             EUR          90734                 DE           50   \n",
       "367   58000             USD          58000                 US            0   \n",
       "..      ...             ...            ...                ...          ...   \n",
       "592  230000             USD         230000                 US          100   \n",
       "372  164996             USD         164996                 US            0   \n",
       "439  164996             USD         164996                 US            0   \n",
       "371  189650             USD         189650                 US            0   \n",
       "438  189650             USD         189650                 US            0   \n",
       "\n",
       "    company_location company_size  \n",
       "119               US            L  \n",
       "256               US            L  \n",
       "181               DE            L  \n",
       "217               DE            L  \n",
       "367               US            S  \n",
       "..               ...          ...  \n",
       "592               US            M  \n",
       "372               US            M  \n",
       "439               US            M  \n",
       "371               US            M  \n",
       "438               US            M  \n",
       "\n",
       "[71 rows x 11 columns]"
      ]
     },
     "execution_count": 56,
     "metadata": {},
     "output_type": "execute_result"
    }
   ],
   "source": [
    "df[df.duplicated(keep=False)].sort_values(df.columns.tolist())"
   ]
  },
  {
   "cell_type": "code",
   "execution_count": 57,
   "metadata": {
    "id": "zUrhsSpxjT6b"
   },
   "outputs": [],
   "source": [
    "df.drop_duplicates(inplace=True)"
   ]
  },
  {
   "cell_type": "markdown",
   "metadata": {
    "id": "HMoGqHnmoknq"
   },
   "source": [
    "# Univariate Analysis"
   ]
  },
  {
   "cell_type": "code",
   "execution_count": 58,
   "metadata": {
    "colab": {
     "base_uri": "https://localhost:8080/",
     "height": 300
    },
    "id": "rL0S3_eOGDkM",
    "outputId": "08698ee0-8992-40da-ef96-0c95c38d6ccc"
   },
   "outputs": [
    {
     "data": {
      "text/html": [
       "<div>\n",
       "<style scoped>\n",
       "    .dataframe tbody tr th:only-of-type {\n",
       "        vertical-align: middle;\n",
       "    }\n",
       "\n",
       "    .dataframe tbody tr th {\n",
       "        vertical-align: top;\n",
       "    }\n",
       "\n",
       "    .dataframe thead th {\n",
       "        text-align: right;\n",
       "    }\n",
       "</style>\n",
       "<table border=\"1\" class=\"dataframe\">\n",
       "  <thead>\n",
       "    <tr style=\"text-align: right;\">\n",
       "      <th></th>\n",
       "      <th>salary</th>\n",
       "      <th>salary_in_usd</th>\n",
       "    </tr>\n",
       "  </thead>\n",
       "  <tbody>\n",
       "    <tr>\n",
       "      <th>count</th>\n",
       "      <td>5.650000e+02</td>\n",
       "      <td>565.000000</td>\n",
       "    </tr>\n",
       "    <tr>\n",
       "      <th>mean</th>\n",
       "      <td>3.381160e+05</td>\n",
       "      <td>110610.343363</td>\n",
       "    </tr>\n",
       "    <tr>\n",
       "      <th>std</th>\n",
       "      <td>1.599879e+06</td>\n",
       "      <td>72280.702792</td>\n",
       "    </tr>\n",
       "    <tr>\n",
       "      <th>min</th>\n",
       "      <td>4.000000e+03</td>\n",
       "      <td>2859.000000</td>\n",
       "    </tr>\n",
       "    <tr>\n",
       "      <th>25%</th>\n",
       "      <td>6.700000e+04</td>\n",
       "      <td>60757.000000</td>\n",
       "    </tr>\n",
       "    <tr>\n",
       "      <th>50%</th>\n",
       "      <td>1.109250e+05</td>\n",
       "      <td>100000.000000</td>\n",
       "    </tr>\n",
       "    <tr>\n",
       "      <th>75%</th>\n",
       "      <td>1.650000e+05</td>\n",
       "      <td>150000.000000</td>\n",
       "    </tr>\n",
       "    <tr>\n",
       "      <th>max</th>\n",
       "      <td>3.040000e+07</td>\n",
       "      <td>600000.000000</td>\n",
       "    </tr>\n",
       "  </tbody>\n",
       "</table>\n",
       "</div>"
      ],
      "text/plain": [
       "             salary  salary_in_usd\n",
       "count  5.650000e+02     565.000000\n",
       "mean   3.381160e+05  110610.343363\n",
       "std    1.599879e+06   72280.702792\n",
       "min    4.000000e+03    2859.000000\n",
       "25%    6.700000e+04   60757.000000\n",
       "50%    1.109250e+05  100000.000000\n",
       "75%    1.650000e+05  150000.000000\n",
       "max    3.040000e+07  600000.000000"
      ]
     },
     "execution_count": 58,
     "metadata": {},
     "output_type": "execute_result"
    }
   ],
   "source": [
    "df.select_dtypes('number').describe()"
   ]
  },
  {
   "cell_type": "code",
   "execution_count": 59,
   "metadata": {
    "colab": {
     "base_uri": "https://localhost:8080/",
     "height": 256
    },
    "id": "PRpkteULLnZN",
    "outputId": "811564a3-39e3-4012-b7ff-4dcf7a4a1e52"
   },
   "outputs": [
    {
     "data": {
      "text/html": [
       "<div>\n",
       "<style scoped>\n",
       "    .dataframe tbody tr th:only-of-type {\n",
       "        vertical-align: middle;\n",
       "    }\n",
       "\n",
       "    .dataframe tbody tr th {\n",
       "        vertical-align: top;\n",
       "    }\n",
       "\n",
       "    .dataframe thead th {\n",
       "        text-align: right;\n",
       "    }\n",
       "</style>\n",
       "<table border=\"1\" class=\"dataframe\">\n",
       "  <thead>\n",
       "    <tr style=\"text-align: right;\">\n",
       "      <th></th>\n",
       "      <th>work_year</th>\n",
       "      <th>experience_level</th>\n",
       "      <th>employment_type</th>\n",
       "      <th>job_title</th>\n",
       "      <th>salary_currency</th>\n",
       "      <th>employee_residence</th>\n",
       "      <th>remote_ratio</th>\n",
       "      <th>company_location</th>\n",
       "      <th>company_size</th>\n",
       "    </tr>\n",
       "  </thead>\n",
       "  <tbody>\n",
       "    <tr>\n",
       "      <th>count</th>\n",
       "      <td>565</td>\n",
       "      <td>565</td>\n",
       "      <td>565</td>\n",
       "      <td>565</td>\n",
       "      <td>565</td>\n",
       "      <td>565</td>\n",
       "      <td>565</td>\n",
       "      <td>565</td>\n",
       "      <td>565</td>\n",
       "    </tr>\n",
       "    <tr>\n",
       "      <th>unique</th>\n",
       "      <td>3</td>\n",
       "      <td>4</td>\n",
       "      <td>4</td>\n",
       "      <td>50</td>\n",
       "      <td>17</td>\n",
       "      <td>57</td>\n",
       "      <td>3</td>\n",
       "      <td>50</td>\n",
       "      <td>3</td>\n",
       "    </tr>\n",
       "    <tr>\n",
       "      <th>top</th>\n",
       "      <td>2022</td>\n",
       "      <td>SE</td>\n",
       "      <td>FT</td>\n",
       "      <td>Data Scientist</td>\n",
       "      <td>USD</td>\n",
       "      <td>US</td>\n",
       "      <td>100</td>\n",
       "      <td>US</td>\n",
       "      <td>M</td>\n",
       "    </tr>\n",
       "    <tr>\n",
       "      <th>freq</th>\n",
       "      <td>278</td>\n",
       "      <td>243</td>\n",
       "      <td>546</td>\n",
       "      <td>130</td>\n",
       "      <td>359</td>\n",
       "      <td>295</td>\n",
       "      <td>346</td>\n",
       "      <td>318</td>\n",
       "      <td>290</td>\n",
       "    </tr>\n",
       "  </tbody>\n",
       "</table>\n",
       "</div>"
      ],
      "text/plain": [
       "        work_year experience_level employment_type       job_title  \\\n",
       "count         565              565             565             565   \n",
       "unique          3                4               4              50   \n",
       "top          2022               SE              FT  Data Scientist   \n",
       "freq          278              243             546             130   \n",
       "\n",
       "       salary_currency employee_residence  remote_ratio company_location  \\\n",
       "count              565                565           565              565   \n",
       "unique              17                 57             3               50   \n",
       "top                USD                 US           100               US   \n",
       "freq               359                295           346              318   \n",
       "\n",
       "       company_size  \n",
       "count           565  \n",
       "unique            3  \n",
       "top               M  \n",
       "freq            290  "
      ]
     },
     "execution_count": 59,
     "metadata": {},
     "output_type": "execute_result"
    }
   ],
   "source": [
    "df.select_dtypes('category').describe()"
   ]
  },
  {
   "cell_type": "markdown",
   "metadata": {
    "id": "m3hUbYHpGD7Q"
   },
   "source": [
    "## Frequency table for all categorical variables"
   ]
  },
  {
   "cell_type": "code",
   "execution_count": 60,
   "metadata": {
    "colab": {
     "base_uri": "https://localhost:8080/"
    },
    "id": "rECW_KBp09Au",
    "outputId": "9c517e82-2eb8-4ac0-f047-08d22b572799"
   },
   "outputs": [
    {
     "data": {
      "text/plain": [
       "SE    243\n",
       "MI    208\n",
       "EN     88\n",
       "EX     26\n",
       "Name: experience_level, dtype: int64"
      ]
     },
     "execution_count": 60,
     "metadata": {},
     "output_type": "execute_result"
    }
   ],
   "source": [
    "df.experience_level.value_counts()"
   ]
  },
  {
   "cell_type": "code",
   "execution_count": 61,
   "metadata": {
    "colab": {
     "base_uri": "https://localhost:8080/",
     "height": 175
    },
    "id": "TDHG-DGuMPsX",
    "outputId": "f7fa3087-baac-40ac-85c5-9358200a649b"
   },
   "outputs": [
    {
     "data": {
      "text/html": [
       "<div>\n",
       "<style scoped>\n",
       "    .dataframe tbody tr th:only-of-type {\n",
       "        vertical-align: middle;\n",
       "    }\n",
       "\n",
       "    .dataframe tbody tr th {\n",
       "        vertical-align: top;\n",
       "    }\n",
       "\n",
       "    .dataframe thead th {\n",
       "        text-align: right;\n",
       "    }\n",
       "</style>\n",
       "<table border=\"1\" class=\"dataframe\">\n",
       "  <thead>\n",
       "    <tr style=\"text-align: right;\">\n",
       "      <th></th>\n",
       "      <th>experience_level</th>\n",
       "      <th>count</th>\n",
       "      <th>percent</th>\n",
       "      <th>cumulative_count</th>\n",
       "      <th>cumulative_percent</th>\n",
       "    </tr>\n",
       "  </thead>\n",
       "  <tbody>\n",
       "    <tr>\n",
       "      <th>0</th>\n",
       "      <td>SE</td>\n",
       "      <td>243</td>\n",
       "      <td>43.008850</td>\n",
       "      <td>243</td>\n",
       "      <td>43.008850</td>\n",
       "    </tr>\n",
       "    <tr>\n",
       "      <th>1</th>\n",
       "      <td>MI</td>\n",
       "      <td>208</td>\n",
       "      <td>36.814159</td>\n",
       "      <td>451</td>\n",
       "      <td>79.823009</td>\n",
       "    </tr>\n",
       "    <tr>\n",
       "      <th>2</th>\n",
       "      <td>EN</td>\n",
       "      <td>88</td>\n",
       "      <td>15.575221</td>\n",
       "      <td>539</td>\n",
       "      <td>95.398230</td>\n",
       "    </tr>\n",
       "    <tr>\n",
       "      <th>3</th>\n",
       "      <td>EX</td>\n",
       "      <td>26</td>\n",
       "      <td>4.601770</td>\n",
       "      <td>565</td>\n",
       "      <td>100.000000</td>\n",
       "    </tr>\n",
       "  </tbody>\n",
       "</table>\n",
       "</div>"
      ],
      "text/plain": [
       "  experience_level  count    percent  cumulative_count  cumulative_percent\n",
       "0               SE    243  43.008850               243           43.008850\n",
       "1               MI    208  36.814159               451           79.823009\n",
       "2               EN     88  15.575221               539           95.398230\n",
       "3               EX     26   4.601770               565          100.000000"
      ]
     },
     "execution_count": 61,
     "metadata": {},
     "output_type": "execute_result"
    }
   ],
   "source": [
    "df.stb.freq(['experience_level'])"
   ]
  },
  {
   "cell_type": "code",
   "execution_count": 64,
   "metadata": {
    "colab": {
     "base_uri": "https://localhost:8080/",
     "height": 1000
    },
    "id": "N0jII4-bMPvn",
    "outputId": "932704da-67a1-410a-ce14-d3674af610b9"
   },
   "outputs": [
    {
     "name": "stdout",
     "output_type": "stream",
     "text": [
      "## -- experience_level -- ##\n"
     ]
    },
    {
     "data": {
      "text/html": [
       "<div>\n",
       "<style scoped>\n",
       "    .dataframe tbody tr th:only-of-type {\n",
       "        vertical-align: middle;\n",
       "    }\n",
       "\n",
       "    .dataframe tbody tr th {\n",
       "        vertical-align: top;\n",
       "    }\n",
       "\n",
       "    .dataframe thead th {\n",
       "        text-align: right;\n",
       "    }\n",
       "</style>\n",
       "<table border=\"1\" class=\"dataframe\">\n",
       "  <thead>\n",
       "    <tr style=\"text-align: right;\">\n",
       "      <th></th>\n",
       "      <th>experience_level</th>\n",
       "      <th>count</th>\n",
       "      <th>percent</th>\n",
       "      <th>cumulative_count</th>\n",
       "      <th>cumulative_percent</th>\n",
       "    </tr>\n",
       "  </thead>\n",
       "  <tbody>\n",
       "    <tr>\n",
       "      <th>0</th>\n",
       "      <td>SE</td>\n",
       "      <td>243</td>\n",
       "      <td>43.008850</td>\n",
       "      <td>243</td>\n",
       "      <td>43.008850</td>\n",
       "    </tr>\n",
       "    <tr>\n",
       "      <th>1</th>\n",
       "      <td>MI</td>\n",
       "      <td>208</td>\n",
       "      <td>36.814159</td>\n",
       "      <td>451</td>\n",
       "      <td>79.823009</td>\n",
       "    </tr>\n",
       "    <tr>\n",
       "      <th>2</th>\n",
       "      <td>EN</td>\n",
       "      <td>88</td>\n",
       "      <td>15.575221</td>\n",
       "      <td>539</td>\n",
       "      <td>95.398230</td>\n",
       "    </tr>\n",
       "    <tr>\n",
       "      <th>3</th>\n",
       "      <td>EX</td>\n",
       "      <td>26</td>\n",
       "      <td>4.601770</td>\n",
       "      <td>565</td>\n",
       "      <td>100.000000</td>\n",
       "    </tr>\n",
       "  </tbody>\n",
       "</table>\n",
       "</div>"
      ],
      "text/plain": [
       "  experience_level  count    percent  cumulative_count  cumulative_percent\n",
       "0               SE    243  43.008850               243           43.008850\n",
       "1               MI    208  36.814159               451           79.823009\n",
       "2               EN     88  15.575221               539           95.398230\n",
       "3               EX     26   4.601770               565          100.000000"
      ]
     },
     "metadata": {},
     "output_type": "display_data"
    },
    {
     "name": "stdout",
     "output_type": "stream",
     "text": [
      "\n",
      "## -- employment_type -- ##\n"
     ]
    },
    {
     "data": {
      "text/html": [
       "<div>\n",
       "<style scoped>\n",
       "    .dataframe tbody tr th:only-of-type {\n",
       "        vertical-align: middle;\n",
       "    }\n",
       "\n",
       "    .dataframe tbody tr th {\n",
       "        vertical-align: top;\n",
       "    }\n",
       "\n",
       "    .dataframe thead th {\n",
       "        text-align: right;\n",
       "    }\n",
       "</style>\n",
       "<table border=\"1\" class=\"dataframe\">\n",
       "  <thead>\n",
       "    <tr style=\"text-align: right;\">\n",
       "      <th></th>\n",
       "      <th>experience_level</th>\n",
       "      <th>count</th>\n",
       "      <th>percent</th>\n",
       "      <th>cumulative_count</th>\n",
       "      <th>cumulative_percent</th>\n",
       "    </tr>\n",
       "  </thead>\n",
       "  <tbody>\n",
       "    <tr>\n",
       "      <th>0</th>\n",
       "      <td>SE</td>\n",
       "      <td>243</td>\n",
       "      <td>43.008850</td>\n",
       "      <td>243</td>\n",
       "      <td>43.008850</td>\n",
       "    </tr>\n",
       "    <tr>\n",
       "      <th>1</th>\n",
       "      <td>MI</td>\n",
       "      <td>208</td>\n",
       "      <td>36.814159</td>\n",
       "      <td>451</td>\n",
       "      <td>79.823009</td>\n",
       "    </tr>\n",
       "    <tr>\n",
       "      <th>2</th>\n",
       "      <td>EN</td>\n",
       "      <td>88</td>\n",
       "      <td>15.575221</td>\n",
       "      <td>539</td>\n",
       "      <td>95.398230</td>\n",
       "    </tr>\n",
       "    <tr>\n",
       "      <th>3</th>\n",
       "      <td>EX</td>\n",
       "      <td>26</td>\n",
       "      <td>4.601770</td>\n",
       "      <td>565</td>\n",
       "      <td>100.000000</td>\n",
       "    </tr>\n",
       "  </tbody>\n",
       "</table>\n",
       "</div>"
      ],
      "text/plain": [
       "  experience_level  count    percent  cumulative_count  cumulative_percent\n",
       "0               SE    243  43.008850               243           43.008850\n",
       "1               MI    208  36.814159               451           79.823009\n",
       "2               EN     88  15.575221               539           95.398230\n",
       "3               EX     26   4.601770               565          100.000000"
      ]
     },
     "metadata": {},
     "output_type": "display_data"
    },
    {
     "name": "stdout",
     "output_type": "stream",
     "text": [
      "\n",
      "## -- job_title -- ##\n"
     ]
    },
    {
     "data": {
      "text/html": [
       "<div>\n",
       "<style scoped>\n",
       "    .dataframe tbody tr th:only-of-type {\n",
       "        vertical-align: middle;\n",
       "    }\n",
       "\n",
       "    .dataframe tbody tr th {\n",
       "        vertical-align: top;\n",
       "    }\n",
       "\n",
       "    .dataframe thead th {\n",
       "        text-align: right;\n",
       "    }\n",
       "</style>\n",
       "<table border=\"1\" class=\"dataframe\">\n",
       "  <thead>\n",
       "    <tr style=\"text-align: right;\">\n",
       "      <th></th>\n",
       "      <th>experience_level</th>\n",
       "      <th>count</th>\n",
       "      <th>percent</th>\n",
       "      <th>cumulative_count</th>\n",
       "      <th>cumulative_percent</th>\n",
       "    </tr>\n",
       "  </thead>\n",
       "  <tbody>\n",
       "    <tr>\n",
       "      <th>0</th>\n",
       "      <td>SE</td>\n",
       "      <td>243</td>\n",
       "      <td>43.008850</td>\n",
       "      <td>243</td>\n",
       "      <td>43.008850</td>\n",
       "    </tr>\n",
       "    <tr>\n",
       "      <th>1</th>\n",
       "      <td>MI</td>\n",
       "      <td>208</td>\n",
       "      <td>36.814159</td>\n",
       "      <td>451</td>\n",
       "      <td>79.823009</td>\n",
       "    </tr>\n",
       "    <tr>\n",
       "      <th>2</th>\n",
       "      <td>EN</td>\n",
       "      <td>88</td>\n",
       "      <td>15.575221</td>\n",
       "      <td>539</td>\n",
       "      <td>95.398230</td>\n",
       "    </tr>\n",
       "    <tr>\n",
       "      <th>3</th>\n",
       "      <td>EX</td>\n",
       "      <td>26</td>\n",
       "      <td>4.601770</td>\n",
       "      <td>565</td>\n",
       "      <td>100.000000</td>\n",
       "    </tr>\n",
       "  </tbody>\n",
       "</table>\n",
       "</div>"
      ],
      "text/plain": [
       "  experience_level  count    percent  cumulative_count  cumulative_percent\n",
       "0               SE    243  43.008850               243           43.008850\n",
       "1               MI    208  36.814159               451           79.823009\n",
       "2               EN     88  15.575221               539           95.398230\n",
       "3               EX     26   4.601770               565          100.000000"
      ]
     },
     "metadata": {},
     "output_type": "display_data"
    },
    {
     "name": "stdout",
     "output_type": "stream",
     "text": [
      "\n",
      "## -- salary_currency -- ##\n"
     ]
    },
    {
     "data": {
      "text/html": [
       "<div>\n",
       "<style scoped>\n",
       "    .dataframe tbody tr th:only-of-type {\n",
       "        vertical-align: middle;\n",
       "    }\n",
       "\n",
       "    .dataframe tbody tr th {\n",
       "        vertical-align: top;\n",
       "    }\n",
       "\n",
       "    .dataframe thead th {\n",
       "        text-align: right;\n",
       "    }\n",
       "</style>\n",
       "<table border=\"1\" class=\"dataframe\">\n",
       "  <thead>\n",
       "    <tr style=\"text-align: right;\">\n",
       "      <th></th>\n",
       "      <th>experience_level</th>\n",
       "      <th>count</th>\n",
       "      <th>percent</th>\n",
       "      <th>cumulative_count</th>\n",
       "      <th>cumulative_percent</th>\n",
       "    </tr>\n",
       "  </thead>\n",
       "  <tbody>\n",
       "    <tr>\n",
       "      <th>0</th>\n",
       "      <td>SE</td>\n",
       "      <td>243</td>\n",
       "      <td>43.008850</td>\n",
       "      <td>243</td>\n",
       "      <td>43.008850</td>\n",
       "    </tr>\n",
       "    <tr>\n",
       "      <th>1</th>\n",
       "      <td>MI</td>\n",
       "      <td>208</td>\n",
       "      <td>36.814159</td>\n",
       "      <td>451</td>\n",
       "      <td>79.823009</td>\n",
       "    </tr>\n",
       "    <tr>\n",
       "      <th>2</th>\n",
       "      <td>EN</td>\n",
       "      <td>88</td>\n",
       "      <td>15.575221</td>\n",
       "      <td>539</td>\n",
       "      <td>95.398230</td>\n",
       "    </tr>\n",
       "    <tr>\n",
       "      <th>3</th>\n",
       "      <td>EX</td>\n",
       "      <td>26</td>\n",
       "      <td>4.601770</td>\n",
       "      <td>565</td>\n",
       "      <td>100.000000</td>\n",
       "    </tr>\n",
       "  </tbody>\n",
       "</table>\n",
       "</div>"
      ],
      "text/plain": [
       "  experience_level  count    percent  cumulative_count  cumulative_percent\n",
       "0               SE    243  43.008850               243           43.008850\n",
       "1               MI    208  36.814159               451           79.823009\n",
       "2               EN     88  15.575221               539           95.398230\n",
       "3               EX     26   4.601770               565          100.000000"
      ]
     },
     "metadata": {},
     "output_type": "display_data"
    },
    {
     "name": "stdout",
     "output_type": "stream",
     "text": [
      "\n",
      "## -- employee_residence -- ##\n"
     ]
    },
    {
     "data": {
      "text/html": [
       "<div>\n",
       "<style scoped>\n",
       "    .dataframe tbody tr th:only-of-type {\n",
       "        vertical-align: middle;\n",
       "    }\n",
       "\n",
       "    .dataframe tbody tr th {\n",
       "        vertical-align: top;\n",
       "    }\n",
       "\n",
       "    .dataframe thead th {\n",
       "        text-align: right;\n",
       "    }\n",
       "</style>\n",
       "<table border=\"1\" class=\"dataframe\">\n",
       "  <thead>\n",
       "    <tr style=\"text-align: right;\">\n",
       "      <th></th>\n",
       "      <th>experience_level</th>\n",
       "      <th>count</th>\n",
       "      <th>percent</th>\n",
       "      <th>cumulative_count</th>\n",
       "      <th>cumulative_percent</th>\n",
       "    </tr>\n",
       "  </thead>\n",
       "  <tbody>\n",
       "    <tr>\n",
       "      <th>0</th>\n",
       "      <td>SE</td>\n",
       "      <td>243</td>\n",
       "      <td>43.008850</td>\n",
       "      <td>243</td>\n",
       "      <td>43.008850</td>\n",
       "    </tr>\n",
       "    <tr>\n",
       "      <th>1</th>\n",
       "      <td>MI</td>\n",
       "      <td>208</td>\n",
       "      <td>36.814159</td>\n",
       "      <td>451</td>\n",
       "      <td>79.823009</td>\n",
       "    </tr>\n",
       "    <tr>\n",
       "      <th>2</th>\n",
       "      <td>EN</td>\n",
       "      <td>88</td>\n",
       "      <td>15.575221</td>\n",
       "      <td>539</td>\n",
       "      <td>95.398230</td>\n",
       "    </tr>\n",
       "    <tr>\n",
       "      <th>3</th>\n",
       "      <td>EX</td>\n",
       "      <td>26</td>\n",
       "      <td>4.601770</td>\n",
       "      <td>565</td>\n",
       "      <td>100.000000</td>\n",
       "    </tr>\n",
       "  </tbody>\n",
       "</table>\n",
       "</div>"
      ],
      "text/plain": [
       "  experience_level  count    percent  cumulative_count  cumulative_percent\n",
       "0               SE    243  43.008850               243           43.008850\n",
       "1               MI    208  36.814159               451           79.823009\n",
       "2               EN     88  15.575221               539           95.398230\n",
       "3               EX     26   4.601770               565          100.000000"
      ]
     },
     "metadata": {},
     "output_type": "display_data"
    },
    {
     "name": "stdout",
     "output_type": "stream",
     "text": [
      "\n",
      "## -- company_location -- ##\n"
     ]
    },
    {
     "data": {
      "text/html": [
       "<div>\n",
       "<style scoped>\n",
       "    .dataframe tbody tr th:only-of-type {\n",
       "        vertical-align: middle;\n",
       "    }\n",
       "\n",
       "    .dataframe tbody tr th {\n",
       "        vertical-align: top;\n",
       "    }\n",
       "\n",
       "    .dataframe thead th {\n",
       "        text-align: right;\n",
       "    }\n",
       "</style>\n",
       "<table border=\"1\" class=\"dataframe\">\n",
       "  <thead>\n",
       "    <tr style=\"text-align: right;\">\n",
       "      <th></th>\n",
       "      <th>experience_level</th>\n",
       "      <th>count</th>\n",
       "      <th>percent</th>\n",
       "      <th>cumulative_count</th>\n",
       "      <th>cumulative_percent</th>\n",
       "    </tr>\n",
       "  </thead>\n",
       "  <tbody>\n",
       "    <tr>\n",
       "      <th>0</th>\n",
       "      <td>SE</td>\n",
       "      <td>243</td>\n",
       "      <td>43.008850</td>\n",
       "      <td>243</td>\n",
       "      <td>43.008850</td>\n",
       "    </tr>\n",
       "    <tr>\n",
       "      <th>1</th>\n",
       "      <td>MI</td>\n",
       "      <td>208</td>\n",
       "      <td>36.814159</td>\n",
       "      <td>451</td>\n",
       "      <td>79.823009</td>\n",
       "    </tr>\n",
       "    <tr>\n",
       "      <th>2</th>\n",
       "      <td>EN</td>\n",
       "      <td>88</td>\n",
       "      <td>15.575221</td>\n",
       "      <td>539</td>\n",
       "      <td>95.398230</td>\n",
       "    </tr>\n",
       "    <tr>\n",
       "      <th>3</th>\n",
       "      <td>EX</td>\n",
       "      <td>26</td>\n",
       "      <td>4.601770</td>\n",
       "      <td>565</td>\n",
       "      <td>100.000000</td>\n",
       "    </tr>\n",
       "  </tbody>\n",
       "</table>\n",
       "</div>"
      ],
      "text/plain": [
       "  experience_level  count    percent  cumulative_count  cumulative_percent\n",
       "0               SE    243  43.008850               243           43.008850\n",
       "1               MI    208  36.814159               451           79.823009\n",
       "2               EN     88  15.575221               539           95.398230\n",
       "3               EX     26   4.601770               565          100.000000"
      ]
     },
     "metadata": {},
     "output_type": "display_data"
    },
    {
     "name": "stdout",
     "output_type": "stream",
     "text": [
      "\n",
      "## -- company_size -- ##\n"
     ]
    },
    {
     "data": {
      "text/html": [
       "<div>\n",
       "<style scoped>\n",
       "    .dataframe tbody tr th:only-of-type {\n",
       "        vertical-align: middle;\n",
       "    }\n",
       "\n",
       "    .dataframe tbody tr th {\n",
       "        vertical-align: top;\n",
       "    }\n",
       "\n",
       "    .dataframe thead th {\n",
       "        text-align: right;\n",
       "    }\n",
       "</style>\n",
       "<table border=\"1\" class=\"dataframe\">\n",
       "  <thead>\n",
       "    <tr style=\"text-align: right;\">\n",
       "      <th></th>\n",
       "      <th>experience_level</th>\n",
       "      <th>count</th>\n",
       "      <th>percent</th>\n",
       "      <th>cumulative_count</th>\n",
       "      <th>cumulative_percent</th>\n",
       "    </tr>\n",
       "  </thead>\n",
       "  <tbody>\n",
       "    <tr>\n",
       "      <th>0</th>\n",
       "      <td>SE</td>\n",
       "      <td>243</td>\n",
       "      <td>43.008850</td>\n",
       "      <td>243</td>\n",
       "      <td>43.008850</td>\n",
       "    </tr>\n",
       "    <tr>\n",
       "      <th>1</th>\n",
       "      <td>MI</td>\n",
       "      <td>208</td>\n",
       "      <td>36.814159</td>\n",
       "      <td>451</td>\n",
       "      <td>79.823009</td>\n",
       "    </tr>\n",
       "    <tr>\n",
       "      <th>2</th>\n",
       "      <td>EN</td>\n",
       "      <td>88</td>\n",
       "      <td>15.575221</td>\n",
       "      <td>539</td>\n",
       "      <td>95.398230</td>\n",
       "    </tr>\n",
       "    <tr>\n",
       "      <th>3</th>\n",
       "      <td>EX</td>\n",
       "      <td>26</td>\n",
       "      <td>4.601770</td>\n",
       "      <td>565</td>\n",
       "      <td>100.000000</td>\n",
       "    </tr>\n",
       "  </tbody>\n",
       "</table>\n",
       "</div>"
      ],
      "text/plain": [
       "  experience_level  count    percent  cumulative_count  cumulative_percent\n",
       "0               SE    243  43.008850               243           43.008850\n",
       "1               MI    208  36.814159               451           79.823009\n",
       "2               EN     88  15.575221               539           95.398230\n",
       "3               EX     26   4.601770               565          100.000000"
      ]
     },
     "metadata": {},
     "output_type": "display_data"
    },
    {
     "name": "stdout",
     "output_type": "stream",
     "text": [
      "\n",
      "## -- work_year -- ##\n"
     ]
    },
    {
     "data": {
      "text/html": [
       "<div>\n",
       "<style scoped>\n",
       "    .dataframe tbody tr th:only-of-type {\n",
       "        vertical-align: middle;\n",
       "    }\n",
       "\n",
       "    .dataframe tbody tr th {\n",
       "        vertical-align: top;\n",
       "    }\n",
       "\n",
       "    .dataframe thead th {\n",
       "        text-align: right;\n",
       "    }\n",
       "</style>\n",
       "<table border=\"1\" class=\"dataframe\">\n",
       "  <thead>\n",
       "    <tr style=\"text-align: right;\">\n",
       "      <th></th>\n",
       "      <th>experience_level</th>\n",
       "      <th>count</th>\n",
       "      <th>percent</th>\n",
       "      <th>cumulative_count</th>\n",
       "      <th>cumulative_percent</th>\n",
       "    </tr>\n",
       "  </thead>\n",
       "  <tbody>\n",
       "    <tr>\n",
       "      <th>0</th>\n",
       "      <td>SE</td>\n",
       "      <td>243</td>\n",
       "      <td>43.008850</td>\n",
       "      <td>243</td>\n",
       "      <td>43.008850</td>\n",
       "    </tr>\n",
       "    <tr>\n",
       "      <th>1</th>\n",
       "      <td>MI</td>\n",
       "      <td>208</td>\n",
       "      <td>36.814159</td>\n",
       "      <td>451</td>\n",
       "      <td>79.823009</td>\n",
       "    </tr>\n",
       "    <tr>\n",
       "      <th>2</th>\n",
       "      <td>EN</td>\n",
       "      <td>88</td>\n",
       "      <td>15.575221</td>\n",
       "      <td>539</td>\n",
       "      <td>95.398230</td>\n",
       "    </tr>\n",
       "    <tr>\n",
       "      <th>3</th>\n",
       "      <td>EX</td>\n",
       "      <td>26</td>\n",
       "      <td>4.601770</td>\n",
       "      <td>565</td>\n",
       "      <td>100.000000</td>\n",
       "    </tr>\n",
       "  </tbody>\n",
       "</table>\n",
       "</div>"
      ],
      "text/plain": [
       "  experience_level  count    percent  cumulative_count  cumulative_percent\n",
       "0               SE    243  43.008850               243           43.008850\n",
       "1               MI    208  36.814159               451           79.823009\n",
       "2               EN     88  15.575221               539           95.398230\n",
       "3               EX     26   4.601770               565          100.000000"
      ]
     },
     "metadata": {},
     "output_type": "display_data"
    },
    {
     "name": "stdout",
     "output_type": "stream",
     "text": [
      "\n",
      "## -- remote_ratio -- ##\n"
     ]
    },
    {
     "data": {
      "text/html": [
       "<div>\n",
       "<style scoped>\n",
       "    .dataframe tbody tr th:only-of-type {\n",
       "        vertical-align: middle;\n",
       "    }\n",
       "\n",
       "    .dataframe tbody tr th {\n",
       "        vertical-align: top;\n",
       "    }\n",
       "\n",
       "    .dataframe thead th {\n",
       "        text-align: right;\n",
       "    }\n",
       "</style>\n",
       "<table border=\"1\" class=\"dataframe\">\n",
       "  <thead>\n",
       "    <tr style=\"text-align: right;\">\n",
       "      <th></th>\n",
       "      <th>experience_level</th>\n",
       "      <th>count</th>\n",
       "      <th>percent</th>\n",
       "      <th>cumulative_count</th>\n",
       "      <th>cumulative_percent</th>\n",
       "    </tr>\n",
       "  </thead>\n",
       "  <tbody>\n",
       "    <tr>\n",
       "      <th>0</th>\n",
       "      <td>SE</td>\n",
       "      <td>243</td>\n",
       "      <td>43.008850</td>\n",
       "      <td>243</td>\n",
       "      <td>43.008850</td>\n",
       "    </tr>\n",
       "    <tr>\n",
       "      <th>1</th>\n",
       "      <td>MI</td>\n",
       "      <td>208</td>\n",
       "      <td>36.814159</td>\n",
       "      <td>451</td>\n",
       "      <td>79.823009</td>\n",
       "    </tr>\n",
       "    <tr>\n",
       "      <th>2</th>\n",
       "      <td>EN</td>\n",
       "      <td>88</td>\n",
       "      <td>15.575221</td>\n",
       "      <td>539</td>\n",
       "      <td>95.398230</td>\n",
       "    </tr>\n",
       "    <tr>\n",
       "      <th>3</th>\n",
       "      <td>EX</td>\n",
       "      <td>26</td>\n",
       "      <td>4.601770</td>\n",
       "      <td>565</td>\n",
       "      <td>100.000000</td>\n",
       "    </tr>\n",
       "  </tbody>\n",
       "</table>\n",
       "</div>"
      ],
      "text/plain": [
       "  experience_level  count    percent  cumulative_count  cumulative_percent\n",
       "0               SE    243  43.008850               243           43.008850\n",
       "1               MI    208  36.814159               451           79.823009\n",
       "2               EN     88  15.575221               539           95.398230\n",
       "3               EX     26   4.601770               565          100.000000"
      ]
     },
     "metadata": {},
     "output_type": "display_data"
    },
    {
     "name": "stdout",
     "output_type": "stream",
     "text": [
      "\n"
     ]
    }
   ],
   "source": [
    "for categorical_column in categorical_columns:\n",
    "  print(f'## -- {categorical_column} -- ##')\n",
    "  display(df.stb.freq(['experience_level']))\n",
    "  print()"
   ]
  },
  {
   "cell_type": "markdown",
   "metadata": {
    "id": "uH64csYApyP8"
   },
   "source": [
    "## Charts"
   ]
  },
  {
   "cell_type": "markdown",
   "metadata": {},
   "source": [
    "### Categorical variables"
   ]
  },
  {
   "cell_type": "code",
   "execution_count": 65,
   "metadata": {
    "colab": {
     "base_uri": "https://localhost:8080/",
     "height": 175
    },
    "id": "BKPKKztkqmgW",
    "outputId": "e9ef33f2-1a18-48d7-8198-06d565c49858"
   },
   "outputs": [
    {
     "data": {
      "text/html": [
       "<div>\n",
       "<style scoped>\n",
       "    .dataframe tbody tr th:only-of-type {\n",
       "        vertical-align: middle;\n",
       "    }\n",
       "\n",
       "    .dataframe tbody tr th {\n",
       "        vertical-align: top;\n",
       "    }\n",
       "\n",
       "    .dataframe thead th {\n",
       "        text-align: right;\n",
       "    }\n",
       "</style>\n",
       "<table border=\"1\" class=\"dataframe\">\n",
       "  <thead>\n",
       "    <tr style=\"text-align: right;\">\n",
       "      <th></th>\n",
       "      <th>experience_level</th>\n",
       "      <th>count</th>\n",
       "      <th>percent</th>\n",
       "      <th>cumulative_count</th>\n",
       "      <th>cumulative_percent</th>\n",
       "    </tr>\n",
       "  </thead>\n",
       "  <tbody>\n",
       "    <tr>\n",
       "      <th>0</th>\n",
       "      <td>SE</td>\n",
       "      <td>243</td>\n",
       "      <td>43.008850</td>\n",
       "      <td>243</td>\n",
       "      <td>43.008850</td>\n",
       "    </tr>\n",
       "    <tr>\n",
       "      <th>1</th>\n",
       "      <td>MI</td>\n",
       "      <td>208</td>\n",
       "      <td>36.814159</td>\n",
       "      <td>451</td>\n",
       "      <td>79.823009</td>\n",
       "    </tr>\n",
       "    <tr>\n",
       "      <th>2</th>\n",
       "      <td>EN</td>\n",
       "      <td>88</td>\n",
       "      <td>15.575221</td>\n",
       "      <td>539</td>\n",
       "      <td>95.398230</td>\n",
       "    </tr>\n",
       "    <tr>\n",
       "      <th>3</th>\n",
       "      <td>EX</td>\n",
       "      <td>26</td>\n",
       "      <td>4.601770</td>\n",
       "      <td>565</td>\n",
       "      <td>100.000000</td>\n",
       "    </tr>\n",
       "  </tbody>\n",
       "</table>\n",
       "</div>"
      ],
      "text/plain": [
       "  experience_level  count    percent  cumulative_count  cumulative_percent\n",
       "0               SE    243  43.008850               243           43.008850\n",
       "1               MI    208  36.814159               451           79.823009\n",
       "2               EN     88  15.575221               539           95.398230\n",
       "3               EX     26   4.601770               565          100.000000"
      ]
     },
     "execution_count": 65,
     "metadata": {},
     "output_type": "execute_result"
    }
   ],
   "source": [
    "df_count = df.stb.freq(['experience_level'])\n",
    "df_count"
   ]
  },
  {
   "cell_type": "code",
   "execution_count": 66,
   "metadata": {
    "colab": {
     "base_uri": "https://localhost:8080/",
     "height": 542
    },
    "id": "UrqZWzdUwKDS",
    "outputId": "b127ba39-9159-46a6-a844-1445fcf18ea4"
   },
   "outputs": [
    {
     "data": {
      "application/vnd.plotly.v1+json": {
       "config": {
        "plotlyServerURL": "https://plot.ly"
       },
       "data": [
        {
         "domain": {
          "x": [
           0,
           1
          ],
          "y": [
           0,
           1
          ]
         },
         "hovertemplate": "experience_level=%{label}<br>count=%{value}<extra></extra>",
         "labels": [
          "SE",
          "MI",
          "EN",
          "EX"
         ],
         "legendgroup": "",
         "name": "",
         "showlegend": true,
         "type": "pie",
         "values": [
          243,
          208,
          88,
          26
         ]
        }
       ],
       "layout": {
        "autosize": true,
        "legend": {
         "tracegroupgap": 0
        },
        "margin": {
         "t": 60
        },
        "template": {
         "data": {
          "bar": [
           {
            "error_x": {
             "color": "#2a3f5f"
            },
            "error_y": {
             "color": "#2a3f5f"
            },
            "marker": {
             "line": {
              "color": "#E5ECF6",
              "width": 0.5
             },
             "pattern": {
              "fillmode": "overlay",
              "size": 10,
              "solidity": 0.2
             }
            },
            "type": "bar"
           }
          ],
          "barpolar": [
           {
            "marker": {
             "line": {
              "color": "#E5ECF6",
              "width": 0.5
             },
             "pattern": {
              "fillmode": "overlay",
              "size": 10,
              "solidity": 0.2
             }
            },
            "type": "barpolar"
           }
          ],
          "carpet": [
           {
            "aaxis": {
             "endlinecolor": "#2a3f5f",
             "gridcolor": "white",
             "linecolor": "white",
             "minorgridcolor": "white",
             "startlinecolor": "#2a3f5f"
            },
            "baxis": {
             "endlinecolor": "#2a3f5f",
             "gridcolor": "white",
             "linecolor": "white",
             "minorgridcolor": "white",
             "startlinecolor": "#2a3f5f"
            },
            "type": "carpet"
           }
          ],
          "choropleth": [
           {
            "colorbar": {
             "outlinewidth": 0,
             "ticks": ""
            },
            "type": "choropleth"
           }
          ],
          "contour": [
           {
            "colorbar": {
             "outlinewidth": 0,
             "ticks": ""
            },
            "colorscale": [
             [
              0,
              "#0d0887"
             ],
             [
              0.1111111111111111,
              "#46039f"
             ],
             [
              0.2222222222222222,
              "#7201a8"
             ],
             [
              0.3333333333333333,
              "#9c179e"
             ],
             [
              0.4444444444444444,
              "#bd3786"
             ],
             [
              0.5555555555555556,
              "#d8576b"
             ],
             [
              0.6666666666666666,
              "#ed7953"
             ],
             [
              0.7777777777777778,
              "#fb9f3a"
             ],
             [
              0.8888888888888888,
              "#fdca26"
             ],
             [
              1,
              "#f0f921"
             ]
            ],
            "type": "contour"
           }
          ],
          "contourcarpet": [
           {
            "colorbar": {
             "outlinewidth": 0,
             "ticks": ""
            },
            "type": "contourcarpet"
           }
          ],
          "heatmap": [
           {
            "colorbar": {
             "outlinewidth": 0,
             "ticks": ""
            },
            "colorscale": [
             [
              0,
              "#0d0887"
             ],
             [
              0.1111111111111111,
              "#46039f"
             ],
             [
              0.2222222222222222,
              "#7201a8"
             ],
             [
              0.3333333333333333,
              "#9c179e"
             ],
             [
              0.4444444444444444,
              "#bd3786"
             ],
             [
              0.5555555555555556,
              "#d8576b"
             ],
             [
              0.6666666666666666,
              "#ed7953"
             ],
             [
              0.7777777777777778,
              "#fb9f3a"
             ],
             [
              0.8888888888888888,
              "#fdca26"
             ],
             [
              1,
              "#f0f921"
             ]
            ],
            "type": "heatmap"
           }
          ],
          "heatmapgl": [
           {
            "colorbar": {
             "outlinewidth": 0,
             "ticks": ""
            },
            "colorscale": [
             [
              0,
              "#0d0887"
             ],
             [
              0.1111111111111111,
              "#46039f"
             ],
             [
              0.2222222222222222,
              "#7201a8"
             ],
             [
              0.3333333333333333,
              "#9c179e"
             ],
             [
              0.4444444444444444,
              "#bd3786"
             ],
             [
              0.5555555555555556,
              "#d8576b"
             ],
             [
              0.6666666666666666,
              "#ed7953"
             ],
             [
              0.7777777777777778,
              "#fb9f3a"
             ],
             [
              0.8888888888888888,
              "#fdca26"
             ],
             [
              1,
              "#f0f921"
             ]
            ],
            "type": "heatmapgl"
           }
          ],
          "histogram": [
           {
            "marker": {
             "pattern": {
              "fillmode": "overlay",
              "size": 10,
              "solidity": 0.2
             }
            },
            "type": "histogram"
           }
          ],
          "histogram2d": [
           {
            "colorbar": {
             "outlinewidth": 0,
             "ticks": ""
            },
            "colorscale": [
             [
              0,
              "#0d0887"
             ],
             [
              0.1111111111111111,
              "#46039f"
             ],
             [
              0.2222222222222222,
              "#7201a8"
             ],
             [
              0.3333333333333333,
              "#9c179e"
             ],
             [
              0.4444444444444444,
              "#bd3786"
             ],
             [
              0.5555555555555556,
              "#d8576b"
             ],
             [
              0.6666666666666666,
              "#ed7953"
             ],
             [
              0.7777777777777778,
              "#fb9f3a"
             ],
             [
              0.8888888888888888,
              "#fdca26"
             ],
             [
              1,
              "#f0f921"
             ]
            ],
            "type": "histogram2d"
           }
          ],
          "histogram2dcontour": [
           {
            "colorbar": {
             "outlinewidth": 0,
             "ticks": ""
            },
            "colorscale": [
             [
              0,
              "#0d0887"
             ],
             [
              0.1111111111111111,
              "#46039f"
             ],
             [
              0.2222222222222222,
              "#7201a8"
             ],
             [
              0.3333333333333333,
              "#9c179e"
             ],
             [
              0.4444444444444444,
              "#bd3786"
             ],
             [
              0.5555555555555556,
              "#d8576b"
             ],
             [
              0.6666666666666666,
              "#ed7953"
             ],
             [
              0.7777777777777778,
              "#fb9f3a"
             ],
             [
              0.8888888888888888,
              "#fdca26"
             ],
             [
              1,
              "#f0f921"
             ]
            ],
            "type": "histogram2dcontour"
           }
          ],
          "mesh3d": [
           {
            "colorbar": {
             "outlinewidth": 0,
             "ticks": ""
            },
            "type": "mesh3d"
           }
          ],
          "parcoords": [
           {
            "line": {
             "colorbar": {
              "outlinewidth": 0,
              "ticks": ""
             }
            },
            "type": "parcoords"
           }
          ],
          "pie": [
           {
            "automargin": true,
            "type": "pie"
           }
          ],
          "scatter": [
           {
            "fillpattern": {
             "fillmode": "overlay",
             "size": 10,
             "solidity": 0.2
            },
            "type": "scatter"
           }
          ],
          "scatter3d": [
           {
            "line": {
             "colorbar": {
              "outlinewidth": 0,
              "ticks": ""
             }
            },
            "marker": {
             "colorbar": {
              "outlinewidth": 0,
              "ticks": ""
             }
            },
            "type": "scatter3d"
           }
          ],
          "scattercarpet": [
           {
            "marker": {
             "colorbar": {
              "outlinewidth": 0,
              "ticks": ""
             }
            },
            "type": "scattercarpet"
           }
          ],
          "scattergeo": [
           {
            "marker": {
             "colorbar": {
              "outlinewidth": 0,
              "ticks": ""
             }
            },
            "type": "scattergeo"
           }
          ],
          "scattergl": [
           {
            "marker": {
             "colorbar": {
              "outlinewidth": 0,
              "ticks": ""
             }
            },
            "type": "scattergl"
           }
          ],
          "scattermapbox": [
           {
            "marker": {
             "colorbar": {
              "outlinewidth": 0,
              "ticks": ""
             }
            },
            "type": "scattermapbox"
           }
          ],
          "scatterpolar": [
           {
            "marker": {
             "colorbar": {
              "outlinewidth": 0,
              "ticks": ""
             }
            },
            "type": "scatterpolar"
           }
          ],
          "scatterpolargl": [
           {
            "marker": {
             "colorbar": {
              "outlinewidth": 0,
              "ticks": ""
             }
            },
            "type": "scatterpolargl"
           }
          ],
          "scatterternary": [
           {
            "marker": {
             "colorbar": {
              "outlinewidth": 0,
              "ticks": ""
             }
            },
            "type": "scatterternary"
           }
          ],
          "surface": [
           {
            "colorbar": {
             "outlinewidth": 0,
             "ticks": ""
            },
            "colorscale": [
             [
              0,
              "#0d0887"
             ],
             [
              0.1111111111111111,
              "#46039f"
             ],
             [
              0.2222222222222222,
              "#7201a8"
             ],
             [
              0.3333333333333333,
              "#9c179e"
             ],
             [
              0.4444444444444444,
              "#bd3786"
             ],
             [
              0.5555555555555556,
              "#d8576b"
             ],
             [
              0.6666666666666666,
              "#ed7953"
             ],
             [
              0.7777777777777778,
              "#fb9f3a"
             ],
             [
              0.8888888888888888,
              "#fdca26"
             ],
             [
              1,
              "#f0f921"
             ]
            ],
            "type": "surface"
           }
          ],
          "table": [
           {
            "cells": {
             "fill": {
              "color": "#EBF0F8"
             },
             "line": {
              "color": "white"
             }
            },
            "header": {
             "fill": {
              "color": "#C8D4E3"
             },
             "line": {
              "color": "white"
             }
            },
            "type": "table"
           }
          ]
         },
         "layout": {
          "annotationdefaults": {
           "arrowcolor": "#2a3f5f",
           "arrowhead": 0,
           "arrowwidth": 1
          },
          "autotypenumbers": "strict",
          "coloraxis": {
           "colorbar": {
            "outlinewidth": 0,
            "ticks": ""
           }
          },
          "colorscale": {
           "diverging": [
            [
             0,
             "#8e0152"
            ],
            [
             0.1,
             "#c51b7d"
            ],
            [
             0.2,
             "#de77ae"
            ],
            [
             0.3,
             "#f1b6da"
            ],
            [
             0.4,
             "#fde0ef"
            ],
            [
             0.5,
             "#f7f7f7"
            ],
            [
             0.6,
             "#e6f5d0"
            ],
            [
             0.7,
             "#b8e186"
            ],
            [
             0.8,
             "#7fbc41"
            ],
            [
             0.9,
             "#4d9221"
            ],
            [
             1,
             "#276419"
            ]
           ],
           "sequential": [
            [
             0,
             "#0d0887"
            ],
            [
             0.1111111111111111,
             "#46039f"
            ],
            [
             0.2222222222222222,
             "#7201a8"
            ],
            [
             0.3333333333333333,
             "#9c179e"
            ],
            [
             0.4444444444444444,
             "#bd3786"
            ],
            [
             0.5555555555555556,
             "#d8576b"
            ],
            [
             0.6666666666666666,
             "#ed7953"
            ],
            [
             0.7777777777777778,
             "#fb9f3a"
            ],
            [
             0.8888888888888888,
             "#fdca26"
            ],
            [
             1,
             "#f0f921"
            ]
           ],
           "sequentialminus": [
            [
             0,
             "#0d0887"
            ],
            [
             0.1111111111111111,
             "#46039f"
            ],
            [
             0.2222222222222222,
             "#7201a8"
            ],
            [
             0.3333333333333333,
             "#9c179e"
            ],
            [
             0.4444444444444444,
             "#bd3786"
            ],
            [
             0.5555555555555556,
             "#d8576b"
            ],
            [
             0.6666666666666666,
             "#ed7953"
            ],
            [
             0.7777777777777778,
             "#fb9f3a"
            ],
            [
             0.8888888888888888,
             "#fdca26"
            ],
            [
             1,
             "#f0f921"
            ]
           ]
          },
          "colorway": [
           "#636efa",
           "#EF553B",
           "#00cc96",
           "#ab63fa",
           "#FFA15A",
           "#19d3f3",
           "#FF6692",
           "#B6E880",
           "#FF97FF",
           "#FECB52"
          ],
          "font": {
           "color": "#2a3f5f"
          },
          "geo": {
           "bgcolor": "white",
           "lakecolor": "white",
           "landcolor": "#E5ECF6",
           "showlakes": true,
           "showland": true,
           "subunitcolor": "white"
          },
          "hoverlabel": {
           "align": "left"
          },
          "hovermode": "closest",
          "mapbox": {
           "style": "light"
          },
          "paper_bgcolor": "white",
          "plot_bgcolor": "#E5ECF6",
          "polar": {
           "angularaxis": {
            "gridcolor": "white",
            "linecolor": "white",
            "ticks": ""
           },
           "bgcolor": "#E5ECF6",
           "radialaxis": {
            "gridcolor": "white",
            "linecolor": "white",
            "ticks": ""
           }
          },
          "scene": {
           "xaxis": {
            "backgroundcolor": "#E5ECF6",
            "gridcolor": "white",
            "gridwidth": 2,
            "linecolor": "white",
            "showbackground": true,
            "ticks": "",
            "zerolinecolor": "white"
           },
           "yaxis": {
            "backgroundcolor": "#E5ECF6",
            "gridcolor": "white",
            "gridwidth": 2,
            "linecolor": "white",
            "showbackground": true,
            "ticks": "",
            "zerolinecolor": "white"
           },
           "zaxis": {
            "backgroundcolor": "#E5ECF6",
            "gridcolor": "white",
            "gridwidth": 2,
            "linecolor": "white",
            "showbackground": true,
            "ticks": "",
            "zerolinecolor": "white"
           }
          },
          "shapedefaults": {
           "line": {
            "color": "#2a3f5f"
           }
          },
          "ternary": {
           "aaxis": {
            "gridcolor": "white",
            "linecolor": "white",
            "ticks": ""
           },
           "baxis": {
            "gridcolor": "white",
            "linecolor": "white",
            "ticks": ""
           },
           "bgcolor": "#E5ECF6",
           "caxis": {
            "gridcolor": "white",
            "linecolor": "white",
            "ticks": ""
           }
          },
          "title": {
           "x": 0.05
          },
          "xaxis": {
           "automargin": true,
           "gridcolor": "white",
           "linecolor": "white",
           "ticks": "",
           "title": {
            "standoff": 15
           },
           "zerolinecolor": "white",
           "zerolinewidth": 2
          },
          "yaxis": {
           "automargin": true,
           "gridcolor": "white",
           "linecolor": "white",
           "ticks": "",
           "title": {
            "standoff": 15
           },
           "zerolinecolor": "white",
           "zerolinewidth": 2
          }
         }
        }
       }
      },
      "image/png": "[encoded data removed]",
      "text/html": [
       "<div>                            <div id=\"d8ae951f-3936-4bf8-8501-ae0fd40e9fb2\" class=\"plotly-graph-div\" style=\"height:525px; width:100%;\"></div>            <script type=\"text/javascript\">                require([\"plotly\"], function(Plotly) {                    window.PLOTLYENV=window.PLOTLYENV || {};                                    if (document.getElementById(\"d8ae951f-3936-4bf8-8501-ae0fd40e9fb2\")) {                    Plotly.newPlot(                        \"d8ae951f-3936-4bf8-8501-ae0fd40e9fb2\",                        [{\"domain\":{\"x\":[0.0,1.0],\"y\":[0.0,1.0]},\"hovertemplate\":\"experience_level=%{label}<br>count=%{value}<extra></extra>\",\"labels\":[\"SE\",\"MI\",\"EN\",\"EX\"],\"legendgroup\":\"\",\"name\":\"\",\"showlegend\":true,\"values\":[243,208,88,26],\"type\":\"pie\"}],                        {\"template\":{\"data\":{\"histogram2dcontour\":[{\"type\":\"histogram2dcontour\",\"colorbar\":{\"outlinewidth\":0,\"ticks\":\"\"},\"colorscale\":[[0.0,\"#0d0887\"],[0.1111111111111111,\"#46039f\"],[0.2222222222222222,\"#7201a8\"],[0.3333333333333333,\"#9c179e\"],[0.4444444444444444,\"#bd3786\"],[0.5555555555555556,\"#d8576b\"],[0.6666666666666666,\"#ed7953\"],[0.7777777777777778,\"#fb9f3a\"],[0.8888888888888888,\"#fdca26\"],[1.0,\"#f0f921\"]]}],\"choropleth\":[{\"type\":\"choropleth\",\"colorbar\":{\"outlinewidth\":0,\"ticks\":\"\"}}],\"histogram2d\":[{\"type\":\"histogram2d\",\"colorbar\":{\"outlinewidth\":0,\"ticks\":\"\"},\"colorscale\":[[0.0,\"#0d0887\"],[0.1111111111111111,\"#46039f\"],[0.2222222222222222,\"#7201a8\"],[0.3333333333333333,\"#9c179e\"],[0.4444444444444444,\"#bd3786\"],[0.5555555555555556,\"#d8576b\"],[0.6666666666666666,\"#ed7953\"],[0.7777777777777778,\"#fb9f3a\"],[0.8888888888888888,\"#fdca26\"],[1.0,\"#f0f921\"]]}],\"heatmap\":[{\"type\":\"heatmap\",\"colorbar\":{\"outlinewidth\":0,\"ticks\":\"\"},\"colorscale\":[[0.0,\"#0d0887\"],[0.1111111111111111,\"#46039f\"],[0.2222222222222222,\"#7201a8\"],[0.3333333333333333,\"#9c179e\"],[0.4444444444444444,\"#bd3786\"],[0.5555555555555556,\"#d8576b\"],[0.6666666666666666,\"#ed7953\"],[0.7777777777777778,\"#fb9f3a\"],[0.8888888888888888,\"#fdca26\"],[1.0,\"#f0f921\"]]}],\"heatmapgl\":[{\"type\":\"heatmapgl\",\"colorbar\":{\"outlinewidth\":0,\"ticks\":\"\"},\"colorscale\":[[0.0,\"#0d0887\"],[0.1111111111111111,\"#46039f\"],[0.2222222222222222,\"#7201a8\"],[0.3333333333333333,\"#9c179e\"],[0.4444444444444444,\"#bd3786\"],[0.5555555555555556,\"#d8576b\"],[0.6666666666666666,\"#ed7953\"],[0.7777777777777778,\"#fb9f3a\"],[0.8888888888888888,\"#fdca26\"],[1.0,\"#f0f921\"]]}],\"contourcarpet\":[{\"type\":\"contourcarpet\",\"colorbar\":{\"outlinewidth\":0,\"ticks\":\"\"}}],\"contour\":[{\"type\":\"contour\",\"colorbar\":{\"outlinewidth\":0,\"ticks\":\"\"},\"colorscale\":[[0.0,\"#0d0887\"],[0.1111111111111111,\"#46039f\"],[0.2222222222222222,\"#7201a8\"],[0.3333333333333333,\"#9c179e\"],[0.4444444444444444,\"#bd3786\"],[0.5555555555555556,\"#d8576b\"],[0.6666666666666666,\"#ed7953\"],[0.7777777777777778,\"#fb9f3a\"],[0.8888888888888888,\"#fdca26\"],[1.0,\"#f0f921\"]]}],\"surface\":[{\"type\":\"surface\",\"colorbar\":{\"outlinewidth\":0,\"ticks\":\"\"},\"colorscale\":[[0.0,\"#0d0887\"],[0.1111111111111111,\"#46039f\"],[0.2222222222222222,\"#7201a8\"],[0.3333333333333333,\"#9c179e\"],[0.4444444444444444,\"#bd3786\"],[0.5555555555555556,\"#d8576b\"],[0.6666666666666666,\"#ed7953\"],[0.7777777777777778,\"#fb9f3a\"],[0.8888888888888888,\"#fdca26\"],[1.0,\"#f0f921\"]]}],\"mesh3d\":[{\"type\":\"mesh3d\",\"colorbar\":{\"outlinewidth\":0,\"ticks\":\"\"}}],\"scatter\":[{\"fillpattern\":{\"fillmode\":\"overlay\",\"size\":10,\"solidity\":0.2},\"type\":\"scatter\"}],\"parcoords\":[{\"type\":\"parcoords\",\"line\":{\"colorbar\":{\"outlinewidth\":0,\"ticks\":\"\"}}}],\"scatterpolargl\":[{\"type\":\"scatterpolargl\",\"marker\":{\"colorbar\":{\"outlinewidth\":0,\"ticks\":\"\"}}}],\"bar\":[{\"error_x\":{\"color\":\"#2a3f5f\"},\"error_y\":{\"color\":\"#2a3f5f\"},\"marker\":{\"line\":{\"color\":\"#E5ECF6\",\"width\":0.5},\"pattern\":{\"fillmode\":\"overlay\",\"size\":10,\"solidity\":0.2}},\"type\":\"bar\"}],\"scattergeo\":[{\"type\":\"scattergeo\",\"marker\":{\"colorbar\":{\"outlinewidth\":0,\"ticks\":\"\"}}}],\"scatterpolar\":[{\"type\":\"scatterpolar\",\"marker\":{\"colorbar\":{\"outlinewidth\":0,\"ticks\":\"\"}}}],\"histogram\":[{\"marker\":{\"pattern\":{\"fillmode\":\"overlay\",\"size\":10,\"solidity\":0.2}},\"type\":\"histogram\"}],\"scattergl\":[{\"type\":\"scattergl\",\"marker\":{\"colorbar\":{\"outlinewidth\":0,\"ticks\":\"\"}}}],\"scatter3d\":[{\"type\":\"scatter3d\",\"line\":{\"colorbar\":{\"outlinewidth\":0,\"ticks\":\"\"}},\"marker\":{\"colorbar\":{\"outlinewidth\":0,\"ticks\":\"\"}}}],\"scattermapbox\":[{\"type\":\"scattermapbox\",\"marker\":{\"colorbar\":{\"outlinewidth\":0,\"ticks\":\"\"}}}],\"scatterternary\":[{\"type\":\"scatterternary\",\"marker\":{\"colorbar\":{\"outlinewidth\":0,\"ticks\":\"\"}}}],\"scattercarpet\":[{\"type\":\"scattercarpet\",\"marker\":{\"colorbar\":{\"outlinewidth\":0,\"ticks\":\"\"}}}],\"carpet\":[{\"aaxis\":{\"endlinecolor\":\"#2a3f5f\",\"gridcolor\":\"white\",\"linecolor\":\"white\",\"minorgridcolor\":\"white\",\"startlinecolor\":\"#2a3f5f\"},\"baxis\":{\"endlinecolor\":\"#2a3f5f\",\"gridcolor\":\"white\",\"linecolor\":\"white\",\"minorgridcolor\":\"white\",\"startlinecolor\":\"#2a3f5f\"},\"type\":\"carpet\"}],\"table\":[{\"cells\":{\"fill\":{\"color\":\"#EBF0F8\"},\"line\":{\"color\":\"white\"}},\"header\":{\"fill\":{\"color\":\"#C8D4E3\"},\"line\":{\"color\":\"white\"}},\"type\":\"table\"}],\"barpolar\":[{\"marker\":{\"line\":{\"color\":\"#E5ECF6\",\"width\":0.5},\"pattern\":{\"fillmode\":\"overlay\",\"size\":10,\"solidity\":0.2}},\"type\":\"barpolar\"}],\"pie\":[{\"automargin\":true,\"type\":\"pie\"}]},\"layout\":{\"autotypenumbers\":\"strict\",\"colorway\":[\"#636efa\",\"#EF553B\",\"#00cc96\",\"#ab63fa\",\"#FFA15A\",\"#19d3f3\",\"#FF6692\",\"#B6E880\",\"#FF97FF\",\"#FECB52\"],\"font\":{\"color\":\"#2a3f5f\"},\"hovermode\":\"closest\",\"hoverlabel\":{\"align\":\"left\"},\"paper_bgcolor\":\"white\",\"plot_bgcolor\":\"#E5ECF6\",\"polar\":{\"bgcolor\":\"#E5ECF6\",\"angularaxis\":{\"gridcolor\":\"white\",\"linecolor\":\"white\",\"ticks\":\"\"},\"radialaxis\":{\"gridcolor\":\"white\",\"linecolor\":\"white\",\"ticks\":\"\"}},\"ternary\":{\"bgcolor\":\"#E5ECF6\",\"aaxis\":{\"gridcolor\":\"white\",\"linecolor\":\"white\",\"ticks\":\"\"},\"baxis\":{\"gridcolor\":\"white\",\"linecolor\":\"white\",\"ticks\":\"\"},\"caxis\":{\"gridcolor\":\"white\",\"linecolor\":\"white\",\"ticks\":\"\"}},\"coloraxis\":{\"colorbar\":{\"outlinewidth\":0,\"ticks\":\"\"}},\"colorscale\":{\"sequential\":[[0.0,\"#0d0887\"],[0.1111111111111111,\"#46039f\"],[0.2222222222222222,\"#7201a8\"],[0.3333333333333333,\"#9c179e\"],[0.4444444444444444,\"#bd3786\"],[0.5555555555555556,\"#d8576b\"],[0.6666666666666666,\"#ed7953\"],[0.7777777777777778,\"#fb9f3a\"],[0.8888888888888888,\"#fdca26\"],[1.0,\"#f0f921\"]],\"sequentialminus\":[[0.0,\"#0d0887\"],[0.1111111111111111,\"#46039f\"],[0.2222222222222222,\"#7201a8\"],[0.3333333333333333,\"#9c179e\"],[0.4444444444444444,\"#bd3786\"],[0.5555555555555556,\"#d8576b\"],[0.6666666666666666,\"#ed7953\"],[0.7777777777777778,\"#fb9f3a\"],[0.8888888888888888,\"#fdca26\"],[1.0,\"#f0f921\"]],\"diverging\":[[0,\"#8e0152\"],[0.1,\"#c51b7d\"],[0.2,\"#de77ae\"],[0.3,\"#f1b6da\"],[0.4,\"#fde0ef\"],[0.5,\"#f7f7f7\"],[0.6,\"#e6f5d0\"],[0.7,\"#b8e186\"],[0.8,\"#7fbc41\"],[0.9,\"#4d9221\"],[1,\"#276419\"]]},\"xaxis\":{\"gridcolor\":\"white\",\"linecolor\":\"white\",\"ticks\":\"\",\"title\":{\"standoff\":15},\"zerolinecolor\":\"white\",\"automargin\":true,\"zerolinewidth\":2},\"yaxis\":{\"gridcolor\":\"white\",\"linecolor\":\"white\",\"ticks\":\"\",\"title\":{\"standoff\":15},\"zerolinecolor\":\"white\",\"automargin\":true,\"zerolinewidth\":2},\"scene\":{\"xaxis\":{\"backgroundcolor\":\"#E5ECF6\",\"gridcolor\":\"white\",\"linecolor\":\"white\",\"showbackground\":true,\"ticks\":\"\",\"zerolinecolor\":\"white\",\"gridwidth\":2},\"yaxis\":{\"backgroundcolor\":\"#E5ECF6\",\"gridcolor\":\"white\",\"linecolor\":\"white\",\"showbackground\":true,\"ticks\":\"\",\"zerolinecolor\":\"white\",\"gridwidth\":2},\"zaxis\":{\"backgroundcolor\":\"#E5ECF6\",\"gridcolor\":\"white\",\"linecolor\":\"white\",\"showbackground\":true,\"ticks\":\"\",\"zerolinecolor\":\"white\",\"gridwidth\":2}},\"shapedefaults\":{\"line\":{\"color\":\"#2a3f5f\"}},\"annotationdefaults\":{\"arrowcolor\":\"#2a3f5f\",\"arrowhead\":0,\"arrowwidth\":1},\"geo\":{\"bgcolor\":\"white\",\"landcolor\":\"#E5ECF6\",\"subunitcolor\":\"white\",\"showland\":true,\"showlakes\":true,\"lakecolor\":\"white\"},\"title\":{\"x\":0.05},\"mapbox\":{\"style\":\"light\"}}},\"legend\":{\"tracegroupgap\":0},\"margin\":{\"t\":60}},                        {\"responsive\": true}                    ).then(function(){\n",
       "                            \n",
       "var gd = document.getElementById('d8ae951f-3936-4bf8-8501-ae0fd40e9fb2');\n",
       "var x = new MutationObserver(function (mutations, observer) {{\n",
       "        var display = window.getComputedStyle(gd).display;\n",
       "        if (!display || display === 'none') {{\n",
       "            console.log([gd, 'removed!']);\n",
       "            Plotly.purge(gd);\n",
       "            observer.disconnect();\n",
       "        }}\n",
       "}});\n",
       "\n",
       "// Listen for the removal of the full notebook cells\n",
       "var notebookContainer = gd.closest('#notebook-container');\n",
       "if (notebookContainer) {{\n",
       "    x.observe(notebookContainer, {childList: true});\n",
       "}}\n",
       "\n",
       "// Listen for the clearing of the current output cell\n",
       "var outputEl = gd.closest('.output');\n",
       "if (outputEl) {{\n",
       "    x.observe(outputEl, {childList: true});\n",
       "}}\n",
       "\n",
       "                        })                };                });            </script>        </div>"
      ]
     },
     "metadata": {},
     "output_type": "display_data"
    }
   ],
   "source": [
    "px.pie(df_count, values='count', names='experience_level')"
   ]
  },
  {
   "cell_type": "code",
   "execution_count": 67,
   "metadata": {
    "colab": {
     "base_uri": "https://localhost:8080/",
     "height": 574,
     "referenced_widgets": [
      "02f322afa0174d7ea288b290d3562392",
      "94fe685c5c8346468cea0c1c37b1aa29",
      "8540b530f76345a1a9e47bac6d1d3b5f",
      "efab1d1fd2984d4ea0fc1674a191fecf",
      "33387779e2814f44bf4f488324bb6b05",
      "6bebfe198a1645e9854ef1699076e4d6",
      "fef38aef72894b90966b54601344fd9b"
     ]
    },
    "id": "JJDQXEdhNFgA",
    "outputId": "fbcf16ea-dba7-4b2a-cd17-618e7b631b12"
   },
   "outputs": [
    {
     "data": {
      "application/vnd.jupyter.widget-view+json": {
       "model_id": "79e0d90916ac4392bd9555da1cfe75bf",
       "version_major": 2,
       "version_minor": 0
      },
      "text/plain": [
       "interactive(children=(Dropdown(description='categorical_column', options=('experience_level', 'employment_type…"
      ]
     },
     "metadata": {},
     "output_type": "display_data"
    }
   ],
   "source": [
    "@interact(categorical_column=['experience_level', 'employment_type', 'remote_ratio', 'company_size'])\n",
    "def pie_plot(categorical_column):\n",
    "  df_count = df.stb.freq([categorical_column])\n",
    "  fig = px.pie(df_count, values='count', names=categorical_column)\n",
    "  fig.update_layout(title=dict(text=f'<b>{categorical_column}</b>', x=.5))\n",
    "  fig.show()"
   ]
  },
  {
   "cell_type": "code",
   "execution_count": 68,
   "metadata": {
    "colab": {
     "base_uri": "https://localhost:8080/",
     "height": 574,
     "referenced_widgets": [
      "31895892fee94b819e1c20d4d7aee590",
      "3b76c9ddb3bd4350a0c61f4fea3e4f0d",
      "681c4dedc42b414a98ceb4471a1a25e1",
      "258fcfa452e84d97b43ba8df5903695b",
      "0c804badac144fdda3b9c61c37dc0fd2",
      "8762127f1f4d4e77a7cc33e2d6336f9f",
      "d5dc9465b45d42c28d2329703922a423"
     ]
    },
    "id": "OvA_XpLJNQEY",
    "outputId": "504ba48e-2676-44c7-915b-64bcaae139b6"
   },
   "outputs": [
    {
     "data": {
      "application/vnd.jupyter.widget-view+json": {
       "model_id": "c0dbce755b8b4ddfa3bcf8feaf6ff04f",
       "version_major": 2,
       "version_minor": 0
      },
      "text/plain": [
       "interactive(children=(Dropdown(description='categorical_column', options=('experience_level', 'employment_type…"
      ]
     },
     "metadata": {},
     "output_type": "display_data"
    }
   ],
   "source": [
    "@interact(categorical_column=categorical_columns)\n",
    "def bar_plot(categorical_column):\n",
    "  df_count = df.stb.freq([categorical_column])\n",
    "  fig = px.bar(df_count, y='count', x=categorical_column)\n",
    "  fig.update_layout(title=dict(text=f'<b>{categorical_column}</b>', x=.5))\n",
    "  fig.show()"
   ]
  },
  {
   "cell_type": "markdown",
   "metadata": {
    "id": "ArygvfG04MPn"
   },
   "source": [
    "### Numeric variables"
   ]
  },
  {
   "cell_type": "code",
   "execution_count": 71,
   "metadata": {
    "colab": {
     "base_uri": "https://localhost:8080/",
     "height": 508
    },
    "id": "QvoIgmx14Zih",
    "outputId": "bd6923e8-0d92-47f9-d34a-d96338f0bf84"
   },
   "outputs": [
    {
     "data": {
      "image/png": "[encoded data removed]",
      "text/plain": [
       "<Figure size 1800x800 with 2 Axes>"
      ]
     },
     "metadata": {},
     "output_type": "display_data"
    }
   ],
   "source": [
    "fig,axes = plt.subplots(ncols=2, figsize=(18,8), gridspec_kw={'width_ratios':[.1,.9]})\n",
    "\n",
    "sns.boxplot(data=df, y='salary_in_usd', ax=axes[0])\n",
    "sns.histplot(data=df, x='salary_in_usd', kde=True, ax=axes[1])\n",
    "sns.despine()\n",
    "\n",
    "plt.show()"
   ]
  },
  {
   "cell_type": "code",
   "execution_count": 72,
   "metadata": {
    "colab": {
     "base_uri": "https://localhost:8080/"
    },
    "id": "k6Zm26qePXy-",
    "outputId": "e1e32582-818f-4643-e0bb-ebfb86b40ce6"
   },
   "outputs": [
    {
     "data": {
      "text/plain": [
       "1.7282336070348854"
      ]
     },
     "execution_count": 72,
     "metadata": {},
     "output_type": "execute_result"
    }
   ],
   "source": [
    "stats.skew(df.salary_in_usd)"
   ]
  },
  {
   "cell_type": "code",
   "execution_count": 73,
   "metadata": {
    "colab": {
     "base_uri": "https://localhost:8080/"
    },
    "id": "3IncuDHsPlZh",
    "outputId": "44a10243-37af-41c6-8542-99d7270f35d5"
   },
   "outputs": [
    {
     "data": {
      "text/plain": [
       "6.38414589529744"
      ]
     },
     "execution_count": 73,
     "metadata": {},
     "output_type": "execute_result"
    }
   ],
   "source": [
    "stats.kurtosis(df.salary_in_usd)"
   ]
  },
  {
   "cell_type": "markdown",
   "metadata": {
    "id": "LKexlzsD7eIz"
   },
   "source": [
    "# Multivariate analysis"
   ]
  },
  {
   "cell_type": "code",
   "execution_count": 74,
   "metadata": {
    "colab": {
     "base_uri": "https://localhost:8080/",
     "height": 409
    },
    "id": "lt2DmcRp7fV3",
    "outputId": "121bc85c-bcdd-4e8b-8669-9a91bbe862b2"
   },
   "outputs": [
    {
     "data": {
      "text/html": [
       "<div>\n",
       "<style scoped>\n",
       "    .dataframe tbody tr th:only-of-type {\n",
       "        vertical-align: middle;\n",
       "    }\n",
       "\n",
       "    .dataframe tbody tr th {\n",
       "        vertical-align: top;\n",
       "    }\n",
       "\n",
       "    .dataframe thead th {\n",
       "        text-align: right;\n",
       "    }\n",
       "</style>\n",
       "<table border=\"1\" class=\"dataframe\">\n",
       "  <thead>\n",
       "    <tr style=\"text-align: right;\">\n",
       "      <th></th>\n",
       "      <th>work_year</th>\n",
       "      <th>experience_level</th>\n",
       "      <th>employment_type</th>\n",
       "      <th>job_title</th>\n",
       "      <th>salary</th>\n",
       "      <th>salary_currency</th>\n",
       "      <th>salary_in_usd</th>\n",
       "      <th>employee_residence</th>\n",
       "      <th>remote_ratio</th>\n",
       "      <th>company_location</th>\n",
       "      <th>company_size</th>\n",
       "    </tr>\n",
       "  </thead>\n",
       "  <tbody>\n",
       "    <tr>\n",
       "      <th>0</th>\n",
       "      <td>2020</td>\n",
       "      <td>MI</td>\n",
       "      <td>FT</td>\n",
       "      <td>Data Scientist</td>\n",
       "      <td>70000</td>\n",
       "      <td>EUR</td>\n",
       "      <td>79833</td>\n",
       "      <td>DE</td>\n",
       "      <td>0</td>\n",
       "      <td>DE</td>\n",
       "      <td>L</td>\n",
       "    </tr>\n",
       "    <tr>\n",
       "      <th>1</th>\n",
       "      <td>2020</td>\n",
       "      <td>SE</td>\n",
       "      <td>FT</td>\n",
       "      <td>Machine Learning Scientist</td>\n",
       "      <td>260000</td>\n",
       "      <td>USD</td>\n",
       "      <td>260000</td>\n",
       "      <td>JP</td>\n",
       "      <td>0</td>\n",
       "      <td>JP</td>\n",
       "      <td>S</td>\n",
       "    </tr>\n",
       "    <tr>\n",
       "      <th>2</th>\n",
       "      <td>2020</td>\n",
       "      <td>SE</td>\n",
       "      <td>FT</td>\n",
       "      <td>Big Data Engineer</td>\n",
       "      <td>85000</td>\n",
       "      <td>GBP</td>\n",
       "      <td>109024</td>\n",
       "      <td>GB</td>\n",
       "      <td>50</td>\n",
       "      <td>GB</td>\n",
       "      <td>M</td>\n",
       "    </tr>\n",
       "    <tr>\n",
       "      <th>3</th>\n",
       "      <td>2020</td>\n",
       "      <td>MI</td>\n",
       "      <td>FT</td>\n",
       "      <td>Product Data Analyst</td>\n",
       "      <td>20000</td>\n",
       "      <td>USD</td>\n",
       "      <td>20000</td>\n",
       "      <td>HN</td>\n",
       "      <td>0</td>\n",
       "      <td>HN</td>\n",
       "      <td>S</td>\n",
       "    </tr>\n",
       "    <tr>\n",
       "      <th>4</th>\n",
       "      <td>2020</td>\n",
       "      <td>SE</td>\n",
       "      <td>FT</td>\n",
       "      <td>Machine Learning Engineer</td>\n",
       "      <td>150000</td>\n",
       "      <td>USD</td>\n",
       "      <td>150000</td>\n",
       "      <td>US</td>\n",
       "      <td>50</td>\n",
       "      <td>US</td>\n",
       "      <td>L</td>\n",
       "    </tr>\n",
       "  </tbody>\n",
       "</table>\n",
       "</div>"
      ],
      "text/plain": [
       "  work_year experience_level employment_type                   job_title  \\\n",
       "0      2020               MI              FT              Data Scientist   \n",
       "1      2020               SE              FT  Machine Learning Scientist   \n",
       "2      2020               SE              FT           Big Data Engineer   \n",
       "3      2020               MI              FT        Product Data Analyst   \n",
       "4      2020               SE              FT   Machine Learning Engineer   \n",
       "\n",
       "   salary salary_currency  salary_in_usd employee_residence remote_ratio  \\\n",
       "0   70000             EUR          79833                 DE            0   \n",
       "1  260000             USD         260000                 JP            0   \n",
       "2   85000             GBP         109024                 GB           50   \n",
       "3   20000             USD          20000                 HN            0   \n",
       "4  150000             USD         150000                 US           50   \n",
       "\n",
       "  company_location company_size  \n",
       "0               DE            L  \n",
       "1               JP            S  \n",
       "2               GB            M  \n",
       "3               HN            S  \n",
       "4               US            L  "
      ]
     },
     "execution_count": 74,
     "metadata": {},
     "output_type": "execute_result"
    }
   ],
   "source": [
    "df.head()"
   ]
  },
  {
   "cell_type": "code",
   "execution_count": 75,
   "metadata": {
    "id": "kRugdvzMQOkb"
   },
   "outputs": [],
   "source": [
    "df2 = df.copy()\n",
    "df2['experience_level'] = df2.experience_level.astype(str)"
   ]
  },
  {
   "cell_type": "code",
   "execution_count": 76,
   "metadata": {
    "colab": {
     "base_uri": "https://localhost:8080/",
     "height": 542
    },
    "id": "fW18a3-VPy9_",
    "outputId": "391392d3-9315-44b3-82c6-bd317c0b88b2"
   },
   "outputs": [
    {
     "data": {
      "application/vnd.plotly.v1+json": {
       "config": {
        "plotlyServerURL": "https://plot.ly"
       },
       "data": [
        {
         "alignmentgroup": "True",
         "hovertemplate": "experience_level=%{x}<br>salary_in_usd=%{y}<extra></extra>",
         "legendgroup": "",
         "marker": {
          "color": "#636efa"
         },
         "name": "",
         "notched": false,
         "offsetgroup": "",
         "orientation": "v",
         "showlegend": false,
         "type": "box",
         "x": [
          "MI",
          "SE",
          "SE",
          "MI",
          "SE",
          "EN",
          "SE",
          "MI",
          "MI",
          "SE",
          "EN",
          "MI",
          "EN",
          "MI",
          "MI",
          "MI",
          "EN",
          "SE",
          "EN",
          "MI",
          "MI",
          "MI",
          "SE",
          "MI",
          "MI",
          "EX",
          "EN",
          "SE",
          "EN",
          "SE",
          "MI",
          "EN",
          "SE",
          "MI",
          "MI",
          "MI",
          "MI",
          "EN",
          "EN",
          "EN",
          "MI",
          "EX",
          "MI",
          "MI",
          "MI",
          "EN",
          "MI",
          "SE",
          "MI",
          "MI",
          "EN",
          "EN",
          "EN",
          "EN",
          "SE",
          "SE",
          "MI",
          "MI",
          "SE",
          "MI",
          "MI",
          "MI",
          "EN",
          "SE",
          "SE",
          "EN",
          "EN",
          "SE",
          "EN",
          "SE",
          "MI",
          "MI",
          "EN",
          "EX",
          "EX",
          "SE",
          "MI",
          "MI",
          "MI",
          "EN",
          "SE",
          "MI",
          "MI",
          "MI",
          "EX",
          "MI",
          "EN",
          "MI",
          "SE",
          "SE",
          "SE",
          "EN",
          "MI",
          "SE",
          "EN",
          "MI",
          "EN",
          "MI",
          "EN",
          "MI",
          "MI",
          "SE",
          "MI",
          "MI",
          "MI",
          "MI",
          "MI",
          "SE",
          "SE",
          "EN",
          "SE",
          "SE",
          "SE",
          "EN",
          "MI",
          "EN",
          "MI",
          "MI",
          "EN",
          "MI",
          "MI",
          "SE",
          "EN",
          "EN",
          "EN",
          "MI",
          "SE",
          "MI",
          "EN",
          "SE",
          "EN",
          "EN",
          "MI",
          "SE",
          "EN",
          "MI",
          "MI",
          "MI",
          "SE",
          "EN",
          "MI",
          "SE",
          "SE",
          "MI",
          "MI",
          "SE",
          "MI",
          "MI",
          "SE",
          "SE",
          "SE",
          "MI",
          "MI",
          "EN",
          "SE",
          "SE",
          "MI",
          "MI",
          "SE",
          "EN",
          "EX",
          "EX",
          "MI",
          "EN",
          "EX",
          "SE",
          "EN",
          "EX",
          "EN",
          "MI",
          "MI",
          "MI",
          "EN",
          "SE",
          "SE",
          "SE",
          "MI",
          "MI",
          "EN",
          "MI",
          "MI",
          "MI",
          "MI",
          "SE",
          "MI",
          "MI",
          "SE",
          "EX",
          "SE",
          "MI",
          "SE",
          "EN",
          "MI",
          "SE",
          "SE",
          "MI",
          "EN",
          "SE",
          "SE",
          "EN",
          "MI",
          "SE",
          "MI",
          "SE",
          "MI",
          "MI",
          "SE",
          "SE",
          "MI",
          "SE",
          "MI",
          "MI",
          "MI",
          "EN",
          "EN",
          "SE",
          "EN",
          "MI",
          "SE",
          "MI",
          "MI",
          "MI",
          "MI",
          "SE",
          "EX",
          "SE",
          "MI",
          "SE",
          "SE",
          "EN",
          "SE",
          "SE",
          "SE",
          "MI",
          "MI",
          "MI",
          "MI",
          "EN",
          "EN",
          "SE",
          "MI",
          "MI",
          "SE",
          "EN",
          "MI",
          "EN",
          "MI",
          "SE",
          "SE",
          "MI",
          "EN",
          "EX",
          "EN",
          "MI",
          "SE",
          "SE",
          "SE",
          "EX",
          "MI",
          "SE",
          "MI",
          "SE",
          "MI",
          "SE",
          "MI",
          "MI",
          "MI",
          "EN",
          "EN",
          "SE",
          "EN",
          "EN",
          "SE",
          "EN",
          "EN",
          "SE",
          "SE",
          "EN",
          "MI",
          "EN",
          "MI",
          "SE",
          "MI",
          "SE",
          "SE",
          "MI",
          "MI",
          "SE",
          "SE",
          "SE",
          "MI",
          "MI",
          "MI",
          "MI",
          "SE",
          "SE",
          "SE",
          "SE",
          "SE",
          "SE",
          "SE",
          "SE",
          "EN",
          "SE",
          "SE",
          "MI",
          "MI",
          "EX",
          "EX",
          "MI",
          "MI",
          "MI",
          "MI",
          "SE",
          "EN",
          "SE",
          "SE",
          "SE",
          "SE",
          "SE",
          "SE",
          "SE",
          "SE",
          "SE",
          "EX",
          "EX",
          "SE",
          "MI",
          "SE",
          "SE",
          "SE",
          "MI",
          "SE",
          "SE",
          "SE",
          "SE",
          "SE",
          "EX",
          "EX",
          "EX",
          "SE",
          "SE",
          "SE",
          "SE",
          "SE",
          "SE",
          "SE",
          "SE",
          "SE",
          "SE",
          "SE",
          "SE",
          "SE",
          "SE",
          "SE",
          "SE",
          "SE",
          "SE",
          "SE",
          "MI",
          "EX",
          "SE",
          "SE",
          "SE",
          "MI",
          "EX",
          "SE",
          "SE",
          "SE",
          "SE",
          "SE",
          "SE",
          "SE",
          "EX",
          "EN",
          "SE",
          "SE",
          "MI",
          "MI",
          "MI",
          "SE",
          "SE",
          "MI",
          "MI",
          "SE",
          "SE",
          "SE",
          "SE",
          "SE",
          "SE",
          "SE",
          "MI",
          "SE",
          "MI",
          "SE",
          "MI",
          "MI",
          "MI",
          "MI",
          "MI",
          "MI",
          "SE",
          "SE",
          "MI",
          "MI",
          "MI",
          "MI",
          "MI",
          "SE",
          "SE",
          "MI",
          "SE",
          "MI",
          "SE",
          "MI",
          "MI",
          "MI",
          "MI",
          "MI",
          "MI",
          "MI",
          "MI",
          "MI",
          "MI",
          "MI",
          "MI",
          "SE",
          "MI",
          "SE",
          "EN",
          "SE",
          "MI",
          "EX",
          "MI",
          "EN",
          "MI",
          "SE",
          "SE",
          "MI",
          "MI",
          "MI",
          "EN",
          "MI",
          "EN",
          "SE",
          "EN",
          "SE",
          "SE",
          "SE",
          "SE",
          "MI",
          "MI",
          "SE",
          "MI",
          "MI",
          "SE",
          "SE",
          "MI",
          "MI",
          "SE",
          "SE",
          "EX",
          "EX",
          "SE",
          "SE",
          "SE",
          "EN",
          "MI",
          "EN",
          "SE",
          "MI",
          "MI",
          "SE",
          "SE",
          "MI",
          "EN",
          "SE",
          "SE",
          "EN",
          "SE",
          "MI",
          "EN",
          "MI",
          "SE",
          "EN",
          "MI",
          "MI",
          "EN",
          "MI",
          "EN",
          "MI",
          "EN",
          "SE",
          "EN",
          "MI",
          "SE",
          "MI",
          "MI",
          "SE",
          "MI",
          "EN",
          "MI",
          "SE",
          "MI",
          "SE",
          "MI",
          "SE",
          "MI",
          "MI",
          "SE",
          "SE",
          "SE",
          "SE",
          "MI",
          "MI",
          "SE",
          "SE",
          "MI",
          "MI",
          "SE",
          "SE",
          "SE",
          "SE",
          "SE",
          "SE",
          "SE",
          "SE",
          "SE",
          "SE",
          "SE",
          "SE",
          "SE",
          "SE",
          "SE",
          "SE",
          "SE",
          "SE",
          "MI",
          "SE",
          "SE",
          "SE",
          "SE",
          "SE",
          "SE",
          "SE",
          "SE",
          "SE",
          "SE",
          "SE",
          "MI",
          "SE",
          "SE",
          "SE",
          "SE",
          "SE",
          "SE",
          "MI",
          "MI",
          "EN",
          "EN",
          "SE",
          "SE",
          "SE",
          "SE",
          "MI"
         ],
         "x0": " ",
         "xaxis": "x",
         "y": [
          79833,
          260000,
          109024,
          20000,
          150000,
          72000,
          190000,
          35735,
          135000,
          125000,
          51321,
          40481,
          39916,
          87000,
          85000,
          8000,
          41689,
          114047,
          5707,
          56000,
          43331,
          6072,
          47899,
          98000,
          115000,
          325000,
          42000,
          33511,
          100000,
          117104,
          59303,
          70000,
          68428,
          450000,
          46759,
          74130,
          103000,
          250000,
          10000,
          138000,
          45760,
          79833,
          50180,
          106000,
          112872,
          15966,
          76958,
          188000,
          105000,
          70139,
          6072,
          91000,
          45896,
          54742,
          60000,
          148261,
          38776,
          118000,
          120000,
          138350,
          110000,
          130800,
          21669,
          412000,
          45618,
          62726,
          49268,
          190200,
          105000,
          91237,
          62726,
          42197,
          82528,
          150000,
          235000,
          53192,
          100000,
          5409,
          270000,
          80000,
          79197,
          140000,
          54238,
          47282,
          153667,
          28476,
          59102,
          110000,
          170000,
          80000,
          88654,
          76833,
          19609,
          276000,
          29751,
          89294,
          12000,
          450000,
          70000,
          95746,
          75000,
          150000,
          36259,
          62000,
          73000,
          51519,
          187442,
          115000,
          150000,
          30428,
          94564,
          113476,
          103160,
          12000,
          45391,
          225000,
          50000,
          40189,
          90000,
          200000,
          60000,
          200000,
          50000,
          110037,
          10354,
          151000,
          120000,
          9466,
          20000,
          40570,
          100000,
          49646,
          38400,
          24000,
          100000,
          90000,
          63711,
          77364,
          220000,
          80000,
          135000,
          240000,
          150000,
          82500,
          100000,
          82744,
          62649,
          90000,
          153000,
          160000,
          168000,
          150000,
          75774,
          13400,
          144000,
          127221,
          119059,
          423000,
          120000,
          125000,
          230000,
          85000,
          28369,
          63831,
          130026,
          165000,
          80000,
          250000,
          55000,
          150000,
          170000,
          82528,
          60000,
          235000,
          60757,
          174000,
          2859,
          40038,
          81000,
          5679,
          22611,
          90734,
          26005,
          61896,
          12000,
          4000,
          50000,
          69741,
          76833,
          74000,
          152000,
          21844,
          18000,
          174000,
          96113,
          147000,
          9272,
          24342,
          54094,
          90000,
          61467,
          195000,
          37825,
          50000,
          160000,
          12901,
          200000,
          165000,
          20000,
          120000,
          24823,
          56738,
          66022,
          5882,
          24823,
          185000,
          28609,
          88654,
          140000,
          46597,
          116914,
          33808,
          56256,
          225000,
          416000,
          87738,
          88654,
          135000,
          71786,
          16228,
          256000,
          200000,
          200000,
          180000,
          110000,
          63810,
          46809,
          4000,
          21637,
          103691,
          80000,
          110000,
          165000,
          18053,
          72212,
          36643,
          12103,
          96282,
          170000,
          115000,
          90000,
          600000,
          28399,
          93000,
          99703,
          173762,
          185000,
          141846,
          130000,
          63831,
          16904,
          66265,
          25532,
          160000,
          93150,
          111775,
          28016,
          65013,
          72500,
          18907,
          76833,
          85000,
          77684,
          100000,
          58000,
          55000,
          20171,
          59102,
          112000,
          100000,
          69741,
          105000,
          69999,
          94665,
          102839,
          109000,
          51064,
          135000,
          155000,
          120600,
          130000,
          90000,
          170000,
          150000,
          102100,
          84900,
          136620,
          99360,
          117789,
          104702,
          146000,
          123000,
          52351,
          99000,
          116000,
          106260,
          126500,
          242000,
          200000,
          65438,
          39263,
          78526,
          52351,
          165220,
          45807,
          120160,
          90320,
          181940,
          132320,
          220110,
          160080,
          180000,
          120000,
          124190,
          130000,
          110000,
          170000,
          115500,
          112900,
          165400,
          132320,
          167000,
          243900,
          136600,
          109280,
          128875,
          93700,
          224000,
          167875,
          175000,
          156600,
          108800,
          95550,
          113000,
          135000,
          161342,
          137141,
          167000,
          78526,
          65438,
          150000,
          211500,
          192400,
          90700,
          130000,
          61300,
          160000,
          138600,
          136000,
          58000,
          135000,
          170000,
          189650,
          164996,
          54957,
          118187,
          132000,
          208775,
          147800,
          136994,
          101570,
          128875,
          93700,
          79039,
          37300,
          164000,
          155000,
          124333,
          98158,
          120000,
          145000,
          105400,
          87932,
          117789,
          215300,
          158200,
          209100,
          154600,
          115934,
          81666,
          175000,
          98158,
          183600,
          52351,
          180000,
          71982,
          45807,
          65949,
          49461,
          78526,
          58894,
          260000,
          60000,
          63900,
          160000,
          112300,
          241000,
          159000,
          180000,
          80000,
          82900,
          100800,
          49461,
          140400,
          39263,
          43966,
          32974,
          87932,
          76940,
          104702,
          91614,
          65949,
          87932,
          43966,
          32974,
          98158,
          215300,
          76940,
          180000,
          21983,
          80000,
          78791,
          196979,
          120000,
          125000,
          37236,
          105000,
          87932,
          18442,
          31615,
          58255,
          100000,
          54957,
          18442,
          162674,
          120000,
          144000,
          104890,
          100000,
          140000,
          135000,
          50000,
          220000,
          183228,
          91614,
          185100,
          220000,
          200000,
          120000,
          120000,
          65000,
          324000,
          216000,
          210000,
          120000,
          230000,
          100000,
          100000,
          31875,
          200000,
          75000,
          35590,
          78791,
          100000,
          153000,
          58035,
          165000,
          93427,
          52396,
          62651,
          32974,
          40000,
          87425,
          115000,
          86703,
          75000,
          64849,
          120000,
          157000,
          150000,
          70912,
          65000,
          71444,
          20000,
          48000,
          152500,
          68147,
          122346,
          380000,
          69336,
          10000,
          20000,
          405000,
          135000,
          177000,
          78000,
          100000,
          85000,
          75000,
          214000,
          192600,
          266400,
          213120,
          141300,
          102100,
          115934,
          81666,
          206699,
          99100,
          130000,
          110500,
          99050,
          160000,
          205300,
          176000,
          144000,
          200100,
          145000,
          70500,
          205300,
          140400,
          205300,
          184700,
          175100,
          140250,
          116150,
          54000,
          65438,
          80000,
          210000,
          69000,
          150075,
          25000,
          126500,
          106260,
          220110,
          160080,
          105000,
          110925,
          45807,
          60000,
          192564,
          144854,
          150000,
          150260,
          109280,
          160000,
          130000,
          67000,
          52000,
          154000,
          126000,
          129000,
          150000,
          200000
         ],
         "y0": " ",
         "yaxis": "y"
        }
       ],
       "layout": {
        "autosize": true,
        "boxmode": "group",
        "legend": {
         "tracegroupgap": 0
        },
        "margin": {
         "t": 60
        },
        "template": {
         "data": {
          "bar": [
           {
            "error_x": {
             "color": "#2a3f5f"
            },
            "error_y": {
             "color": "#2a3f5f"
            },
            "marker": {
             "line": {
              "color": "#E5ECF6",
              "width": 0.5
             },
             "pattern": {
              "fillmode": "overlay",
              "size": 10,
              "solidity": 0.2
             }
            },
            "type": "bar"
           }
          ],
          "barpolar": [
           {
            "marker": {
             "line": {
              "color": "#E5ECF6",
              "width": 0.5
             },
             "pattern": {
              "fillmode": "overlay",
              "size": 10,
              "solidity": 0.2
             }
            },
            "type": "barpolar"
           }
          ],
          "carpet": [
           {
            "aaxis": {
             "endlinecolor": "#2a3f5f",
             "gridcolor": "white",
             "linecolor": "white",
             "minorgridcolor": "white",
             "startlinecolor": "#2a3f5f"
            },
            "baxis": {
             "endlinecolor": "#2a3f5f",
             "gridcolor": "white",
             "linecolor": "white",
             "minorgridcolor": "white",
             "startlinecolor": "#2a3f5f"
            },
            "type": "carpet"
           }
          ],
          "choropleth": [
           {
            "colorbar": {
             "outlinewidth": 0,
             "ticks": ""
            },
            "type": "choropleth"
           }
          ],
          "contour": [
           {
            "colorbar": {
             "outlinewidth": 0,
             "ticks": ""
            },
            "colorscale": [
             [
              0,
              "#0d0887"
             ],
             [
              0.1111111111111111,
              "#46039f"
             ],
             [
              0.2222222222222222,
              "#7201a8"
             ],
             [
              0.3333333333333333,
              "#9c179e"
             ],
             [
              0.4444444444444444,
              "#bd3786"
             ],
             [
              0.5555555555555556,
              "#d8576b"
             ],
             [
              0.6666666666666666,
              "#ed7953"
             ],
             [
              0.7777777777777778,
              "#fb9f3a"
             ],
             [
              0.8888888888888888,
              "#fdca26"
             ],
             [
              1,
              "#f0f921"
             ]
            ],
            "type": "contour"
           }
          ],
          "contourcarpet": [
           {
            "colorbar": {
             "outlinewidth": 0,
             "ticks": ""
            },
            "type": "contourcarpet"
           }
          ],
          "heatmap": [
           {
            "colorbar": {
             "outlinewidth": 0,
             "ticks": ""
            },
            "colorscale": [
             [
              0,
              "#0d0887"
             ],
             [
              0.1111111111111111,
              "#46039f"
             ],
             [
              0.2222222222222222,
              "#7201a8"
             ],
             [
              0.3333333333333333,
              "#9c179e"
             ],
             [
              0.4444444444444444,
              "#bd3786"
             ],
             [
              0.5555555555555556,
              "#d8576b"
             ],
             [
              0.6666666666666666,
              "#ed7953"
             ],
             [
              0.7777777777777778,
              "#fb9f3a"
             ],
             [
              0.8888888888888888,
              "#fdca26"
             ],
             [
              1,
              "#f0f921"
             ]
            ],
            "type": "heatmap"
           }
          ],
          "heatmapgl": [
           {
            "colorbar": {
             "outlinewidth": 0,
             "ticks": ""
            },
            "colorscale": [
             [
              0,
              "#0d0887"
             ],
             [
              0.1111111111111111,
              "#46039f"
             ],
             [
              0.2222222222222222,
              "#7201a8"
             ],
             [
              0.3333333333333333,
              "#9c179e"
             ],
             [
              0.4444444444444444,
              "#bd3786"
             ],
             [
              0.5555555555555556,
              "#d8576b"
             ],
             [
              0.6666666666666666,
              "#ed7953"
             ],
             [
              0.7777777777777778,
              "#fb9f3a"
             ],
             [
              0.8888888888888888,
              "#fdca26"
             ],
             [
              1,
              "#f0f921"
             ]
            ],
            "type": "heatmapgl"
           }
          ],
          "histogram": [
           {
            "marker": {
             "pattern": {
              "fillmode": "overlay",
              "size": 10,
              "solidity": 0.2
             }
            },
            "type": "histogram"
           }
          ],
          "histogram2d": [
           {
            "colorbar": {
             "outlinewidth": 0,
             "ticks": ""
            },
            "colorscale": [
             [
              0,
              "#0d0887"
             ],
             [
              0.1111111111111111,
              "#46039f"
             ],
             [
              0.2222222222222222,
              "#7201a8"
             ],
             [
              0.3333333333333333,
              "#9c179e"
             ],
             [
              0.4444444444444444,
              "#bd3786"
             ],
             [
              0.5555555555555556,
              "#d8576b"
             ],
             [
              0.6666666666666666,
              "#ed7953"
             ],
             [
              0.7777777777777778,
              "#fb9f3a"
             ],
             [
              0.8888888888888888,
              "#fdca26"
             ],
             [
              1,
              "#f0f921"
             ]
            ],
            "type": "histogram2d"
           }
          ],
          "histogram2dcontour": [
           {
            "colorbar": {
             "outlinewidth": 0,
             "ticks": ""
            },
            "colorscale": [
             [
              0,
              "#0d0887"
             ],
             [
              0.1111111111111111,
              "#46039f"
             ],
             [
              0.2222222222222222,
              "#7201a8"
             ],
             [
              0.3333333333333333,
              "#9c179e"
             ],
             [
              0.4444444444444444,
              "#bd3786"
             ],
             [
              0.5555555555555556,
              "#d8576b"
             ],
             [
              0.6666666666666666,
              "#ed7953"
             ],
             [
              0.7777777777777778,
              "#fb9f3a"
             ],
             [
              0.8888888888888888,
              "#fdca26"
             ],
             [
              1,
              "#f0f921"
             ]
            ],
            "type": "histogram2dcontour"
           }
          ],
          "mesh3d": [
           {
            "colorbar": {
             "outlinewidth": 0,
             "ticks": ""
            },
            "type": "mesh3d"
           }
          ],
          "parcoords": [
           {
            "line": {
             "colorbar": {
              "outlinewidth": 0,
              "ticks": ""
             }
            },
            "type": "parcoords"
           }
          ],
          "pie": [
           {
            "automargin": true,
            "type": "pie"
           }
          ],
          "scatter": [
           {
            "fillpattern": {
             "fillmode": "overlay",
             "size": 10,
             "solidity": 0.2
            },
            "type": "scatter"
           }
          ],
          "scatter3d": [
           {
            "line": {
             "colorbar": {
              "outlinewidth": 0,
              "ticks": ""
             }
            },
            "marker": {
             "colorbar": {
              "outlinewidth": 0,
              "ticks": ""
             }
            },
            "type": "scatter3d"
           }
          ],
          "scattercarpet": [
           {
            "marker": {
             "colorbar": {
              "outlinewidth": 0,
              "ticks": ""
             }
            },
            "type": "scattercarpet"
           }
          ],
          "scattergeo": [
           {
            "marker": {
             "colorbar": {
              "outlinewidth": 0,
              "ticks": ""
             }
            },
            "type": "scattergeo"
           }
          ],
          "scattergl": [
           {
            "marker": {
             "colorbar": {
              "outlinewidth": 0,
              "ticks": ""
             }
            },
            "type": "scattergl"
           }
          ],
          "scattermapbox": [
           {
            "marker": {
             "colorbar": {
              "outlinewidth": 0,
              "ticks": ""
             }
            },
            "type": "scattermapbox"
           }
          ],
          "scatterpolar": [
           {
            "marker": {
             "colorbar": {
              "outlinewidth": 0,
              "ticks": ""
             }
            },
            "type": "scatterpolar"
           }
          ],
          "scatterpolargl": [
           {
            "marker": {
             "colorbar": {
              "outlinewidth": 0,
              "ticks": ""
             }
            },
            "type": "scatterpolargl"
           }
          ],
          "scatterternary": [
           {
            "marker": {
             "colorbar": {
              "outlinewidth": 0,
              "ticks": ""
             }
            },
            "type": "scatterternary"
           }
          ],
          "surface": [
           {
            "colorbar": {
             "outlinewidth": 0,
             "ticks": ""
            },
            "colorscale": [
             [
              0,
              "#0d0887"
             ],
             [
              0.1111111111111111,
              "#46039f"
             ],
             [
              0.2222222222222222,
              "#7201a8"
             ],
             [
              0.3333333333333333,
              "#9c179e"
             ],
             [
              0.4444444444444444,
              "#bd3786"
             ],
             [
              0.5555555555555556,
              "#d8576b"
             ],
             [
              0.6666666666666666,
              "#ed7953"
             ],
             [
              0.7777777777777778,
              "#fb9f3a"
             ],
             [
              0.8888888888888888,
              "#fdca26"
             ],
             [
              1,
              "#f0f921"
             ]
            ],
            "type": "surface"
           }
          ],
          "table": [
           {
            "cells": {
             "fill": {
              "color": "#EBF0F8"
             },
             "line": {
              "color": "white"
             }
            },
            "header": {
             "fill": {
              "color": "#C8D4E3"
             },
             "line": {
              "color": "white"
             }
            },
            "type": "table"
           }
          ]
         },
         "layout": {
          "annotationdefaults": {
           "arrowcolor": "#2a3f5f",
           "arrowhead": 0,
           "arrowwidth": 1
          },
          "autotypenumbers": "strict",
          "coloraxis": {
           "colorbar": {
            "outlinewidth": 0,
            "ticks": ""
           }
          },
          "colorscale": {
           "diverging": [
            [
             0,
             "#8e0152"
            ],
            [
             0.1,
             "#c51b7d"
            ],
            [
             0.2,
             "#de77ae"
            ],
            [
             0.3,
             "#f1b6da"
            ],
            [
             0.4,
             "#fde0ef"
            ],
            [
             0.5,
             "#f7f7f7"
            ],
            [
             0.6,
             "#e6f5d0"
            ],
            [
             0.7,
             "#b8e186"
            ],
            [
             0.8,
             "#7fbc41"
            ],
            [
             0.9,
             "#4d9221"
            ],
            [
             1,
             "#276419"
            ]
           ],
           "sequential": [
            [
             0,
             "#0d0887"
            ],
            [
             0.1111111111111111,
             "#46039f"
            ],
            [
             0.2222222222222222,
             "#7201a8"
            ],
            [
             0.3333333333333333,
             "#9c179e"
            ],
            [
             0.4444444444444444,
             "#bd3786"
            ],
            [
             0.5555555555555556,
             "#d8576b"
            ],
            [
             0.6666666666666666,
             "#ed7953"
            ],
            [
             0.7777777777777778,
             "#fb9f3a"
            ],
            [
             0.8888888888888888,
             "#fdca26"
            ],
            [
             1,
             "#f0f921"
            ]
           ],
           "sequentialminus": [
            [
             0,
             "#0d0887"
            ],
            [
             0.1111111111111111,
             "#46039f"
            ],
            [
             0.2222222222222222,
             "#7201a8"
            ],
            [
             0.3333333333333333,
             "#9c179e"
            ],
            [
             0.4444444444444444,
             "#bd3786"
            ],
            [
             0.5555555555555556,
             "#d8576b"
            ],
            [
             0.6666666666666666,
             "#ed7953"
            ],
            [
             0.7777777777777778,
             "#fb9f3a"
            ],
            [
             0.8888888888888888,
             "#fdca26"
            ],
            [
             1,
             "#f0f921"
            ]
           ]
          },
          "colorway": [
           "#636efa",
           "#EF553B",
           "#00cc96",
           "#ab63fa",
           "#FFA15A",
           "#19d3f3",
           "#FF6692",
           "#B6E880",
           "#FF97FF",
           "#FECB52"
          ],
          "font": {
           "color": "#2a3f5f"
          },
          "geo": {
           "bgcolor": "white",
           "lakecolor": "white",
           "landcolor": "#E5ECF6",
           "showlakes": true,
           "showland": true,
           "subunitcolor": "white"
          },
          "hoverlabel": {
           "align": "left"
          },
          "hovermode": "closest",
          "mapbox": {
           "style": "light"
          },
          "paper_bgcolor": "white",
          "plot_bgcolor": "#E5ECF6",
          "polar": {
           "angularaxis": {
            "gridcolor": "white",
            "linecolor": "white",
            "ticks": ""
           },
           "bgcolor": "#E5ECF6",
           "radialaxis": {
            "gridcolor": "white",
            "linecolor": "white",
            "ticks": ""
           }
          },
          "scene": {
           "xaxis": {
            "backgroundcolor": "#E5ECF6",
            "gridcolor": "white",
            "gridwidth": 2,
            "linecolor": "white",
            "showbackground": true,
            "ticks": "",
            "zerolinecolor": "white"
           },
           "yaxis": {
            "backgroundcolor": "#E5ECF6",
            "gridcolor": "white",
            "gridwidth": 2,
            "linecolor": "white",
            "showbackground": true,
            "ticks": "",
            "zerolinecolor": "white"
           },
           "zaxis": {
            "backgroundcolor": "#E5ECF6",
            "gridcolor": "white",
            "gridwidth": 2,
            "linecolor": "white",
            "showbackground": true,
            "ticks": "",
            "zerolinecolor": "white"
           }
          },
          "shapedefaults": {
           "line": {
            "color": "#2a3f5f"
           }
          },
          "ternary": {
           "aaxis": {
            "gridcolor": "white",
            "linecolor": "white",
            "ticks": ""
           },
           "baxis": {
            "gridcolor": "white",
            "linecolor": "white",
            "ticks": ""
           },
           "bgcolor": "#E5ECF6",
           "caxis": {
            "gridcolor": "white",
            "linecolor": "white",
            "ticks": ""
           }
          },
          "title": {
           "x": 0.05
          },
          "xaxis": {
           "automargin": true,
           "gridcolor": "white",
           "linecolor": "white",
           "ticks": "",
           "title": {
            "standoff": 15
           },
           "zerolinecolor": "white",
           "zerolinewidth": 2
          },
          "yaxis": {
           "automargin": true,
           "gridcolor": "white",
           "linecolor": "white",
           "ticks": "",
           "title": {
            "standoff": 15
           },
           "zerolinecolor": "white",
           "zerolinewidth": 2
          }
         }
        },
        "xaxis": {
         "anchor": "y",
         "autorange": true,
         "domain": [
          0,
          1
         ],
         "range": [
          -0.5,
          3.5
         ],
         "title": {
          "text": "experience_level"
         },
         "type": "category"
        },
        "yaxis": {
         "anchor": "x",
         "autorange": true,
         "domain": [
          0,
          1
         ],
         "range": [
          -30315.5,
          633174.5
         ],
         "title": {
          "text": "salary_in_usd"
         },
         "type": "linear"
        }
       }
      },
      "image/png": "[encoded data removed]",
      "text/html": [
       "<div>                            <div id=\"ca38be7f-a0c8-4062-bbad-3f668a30c41c\" class=\"plotly-graph-div\" style=\"height:525px; width:100%;\"></div>            <script type=\"text/javascript\">                require([\"plotly\"], function(Plotly) {                    window.PLOTLYENV=window.PLOTLYENV || {};                                    if (document.getElementById(\"ca38be7f-a0c8-4062-bbad-3f668a30c41c\")) {                    Plotly.newPlot(                        \"ca38be7f-a0c8-4062-bbad-3f668a30c41c\",                        [{\"alignmentgroup\":\"True\",\"hovertemplate\":\"experience_level=%{x}<br>salary_in_usd=%{y}<extra></extra>\",\"legendgroup\":\"\",\"marker\":{\"color\":\"#636efa\"},\"name\":\"\",\"notched\":false,\"offsetgroup\":\"\",\"orientation\":\"v\",\"showlegend\":false,\"x\":[\"MI\",\"SE\",\"SE\",\"MI\",\"SE\",\"EN\",\"SE\",\"MI\",\"MI\",\"SE\",\"EN\",\"MI\",\"EN\",\"MI\",\"MI\",\"MI\",\"EN\",\"SE\",\"EN\",\"MI\",\"MI\",\"MI\",\"SE\",\"MI\",\"MI\",\"EX\",\"EN\",\"SE\",\"EN\",\"SE\",\"MI\",\"EN\",\"SE\",\"MI\",\"MI\",\"MI\",\"MI\",\"EN\",\"EN\",\"EN\",\"MI\",\"EX\",\"MI\",\"MI\",\"MI\",\"EN\",\"MI\",\"SE\",\"MI\",\"MI\",\"EN\",\"EN\",\"EN\",\"EN\",\"SE\",\"SE\",\"MI\",\"MI\",\"SE\",\"MI\",\"MI\",\"MI\",\"EN\",\"SE\",\"SE\",\"EN\",\"EN\",\"SE\",\"EN\",\"SE\",\"MI\",\"MI\",\"EN\",\"EX\",\"EX\",\"SE\",\"MI\",\"MI\",\"MI\",\"EN\",\"SE\",\"MI\",\"MI\",\"MI\",\"EX\",\"MI\",\"EN\",\"MI\",\"SE\",\"SE\",\"SE\",\"EN\",\"MI\",\"SE\",\"EN\",\"MI\",\"EN\",\"MI\",\"EN\",\"MI\",\"MI\",\"SE\",\"MI\",\"MI\",\"MI\",\"MI\",\"MI\",\"SE\",\"SE\",\"EN\",\"SE\",\"SE\",\"SE\",\"EN\",\"MI\",\"EN\",\"MI\",\"MI\",\"EN\",\"MI\",\"MI\",\"SE\",\"EN\",\"EN\",\"EN\",\"MI\",\"SE\",\"MI\",\"EN\",\"SE\",\"EN\",\"EN\",\"MI\",\"SE\",\"EN\",\"MI\",\"MI\",\"MI\",\"SE\",\"EN\",\"MI\",\"SE\",\"SE\",\"MI\",\"MI\",\"SE\",\"MI\",\"MI\",\"SE\",\"SE\",\"SE\",\"MI\",\"MI\",\"EN\",\"SE\",\"SE\",\"MI\",\"MI\",\"SE\",\"EN\",\"EX\",\"EX\",\"MI\",\"EN\",\"EX\",\"SE\",\"EN\",\"EX\",\"EN\",\"MI\",\"MI\",\"MI\",\"EN\",\"SE\",\"SE\",\"SE\",\"MI\",\"MI\",\"EN\",\"MI\",\"MI\",\"MI\",\"MI\",\"SE\",\"MI\",\"MI\",\"SE\",\"EX\",\"SE\",\"MI\",\"SE\",\"EN\",\"MI\",\"SE\",\"SE\",\"MI\",\"EN\",\"SE\",\"SE\",\"EN\",\"MI\",\"SE\",\"MI\",\"SE\",\"MI\",\"MI\",\"SE\",\"SE\",\"MI\",\"SE\",\"MI\",\"MI\",\"MI\",\"EN\",\"EN\",\"SE\",\"EN\",\"MI\",\"SE\",\"MI\",\"MI\",\"MI\",\"MI\",\"SE\",\"EX\",\"SE\",\"MI\",\"SE\",\"SE\",\"EN\",\"SE\",\"SE\",\"SE\",\"MI\",\"MI\",\"MI\",\"MI\",\"EN\",\"EN\",\"SE\",\"MI\",\"MI\",\"SE\",\"EN\",\"MI\",\"EN\",\"MI\",\"SE\",\"SE\",\"MI\",\"EN\",\"EX\",\"EN\",\"MI\",\"SE\",\"SE\",\"SE\",\"EX\",\"MI\",\"SE\",\"MI\",\"SE\",\"MI\",\"SE\",\"MI\",\"MI\",\"MI\",\"EN\",\"EN\",\"SE\",\"EN\",\"EN\",\"SE\",\"EN\",\"EN\",\"SE\",\"SE\",\"EN\",\"MI\",\"EN\",\"MI\",\"SE\",\"MI\",\"SE\",\"SE\",\"MI\",\"MI\",\"SE\",\"SE\",\"SE\",\"MI\",\"MI\",\"MI\",\"MI\",\"SE\",\"SE\",\"SE\",\"SE\",\"SE\",\"SE\",\"SE\",\"SE\",\"EN\",\"SE\",\"SE\",\"MI\",\"MI\",\"EX\",\"EX\",\"MI\",\"MI\",\"MI\",\"MI\",\"SE\",\"EN\",\"SE\",\"SE\",\"SE\",\"SE\",\"SE\",\"SE\",\"SE\",\"SE\",\"SE\",\"EX\",\"EX\",\"SE\",\"MI\",\"SE\",\"SE\",\"SE\",\"MI\",\"SE\",\"SE\",\"SE\",\"SE\",\"SE\",\"EX\",\"EX\",\"EX\",\"SE\",\"SE\",\"SE\",\"SE\",\"SE\",\"SE\",\"SE\",\"SE\",\"SE\",\"SE\",\"SE\",\"SE\",\"SE\",\"SE\",\"SE\",\"SE\",\"SE\",\"SE\",\"SE\",\"MI\",\"EX\",\"SE\",\"SE\",\"SE\",\"MI\",\"EX\",\"SE\",\"SE\",\"SE\",\"SE\",\"SE\",\"SE\",\"SE\",\"EX\",\"EN\",\"SE\",\"SE\",\"MI\",\"MI\",\"MI\",\"SE\",\"SE\",\"MI\",\"MI\",\"SE\",\"SE\",\"SE\",\"SE\",\"SE\",\"SE\",\"SE\",\"MI\",\"SE\",\"MI\",\"SE\",\"MI\",\"MI\",\"MI\",\"MI\",\"MI\",\"MI\",\"SE\",\"SE\",\"MI\",\"MI\",\"MI\",\"MI\",\"MI\",\"SE\",\"SE\",\"MI\",\"SE\",\"MI\",\"SE\",\"MI\",\"MI\",\"MI\",\"MI\",\"MI\",\"MI\",\"MI\",\"MI\",\"MI\",\"MI\",\"MI\",\"MI\",\"SE\",\"MI\",\"SE\",\"EN\",\"SE\",\"MI\",\"EX\",\"MI\",\"EN\",\"MI\",\"SE\",\"SE\",\"MI\",\"MI\",\"MI\",\"EN\",\"MI\",\"EN\",\"SE\",\"EN\",\"SE\",\"SE\",\"SE\",\"SE\",\"MI\",\"MI\",\"SE\",\"MI\",\"MI\",\"SE\",\"SE\",\"MI\",\"MI\",\"SE\",\"SE\",\"EX\",\"EX\",\"SE\",\"SE\",\"SE\",\"EN\",\"MI\",\"EN\",\"SE\",\"MI\",\"MI\",\"SE\",\"SE\",\"MI\",\"EN\",\"SE\",\"SE\",\"EN\",\"SE\",\"MI\",\"EN\",\"MI\",\"SE\",\"EN\",\"MI\",\"MI\",\"EN\",\"MI\",\"EN\",\"MI\",\"EN\",\"SE\",\"EN\",\"MI\",\"SE\",\"MI\",\"MI\",\"SE\",\"MI\",\"EN\",\"MI\",\"SE\",\"MI\",\"SE\",\"MI\",\"SE\",\"MI\",\"MI\",\"SE\",\"SE\",\"SE\",\"SE\",\"MI\",\"MI\",\"SE\",\"SE\",\"MI\",\"MI\",\"SE\",\"SE\",\"SE\",\"SE\",\"SE\",\"SE\",\"SE\",\"SE\",\"SE\",\"SE\",\"SE\",\"SE\",\"SE\",\"SE\",\"SE\",\"SE\",\"SE\",\"SE\",\"MI\",\"SE\",\"SE\",\"SE\",\"SE\",\"SE\",\"SE\",\"SE\",\"SE\",\"SE\",\"SE\",\"SE\",\"MI\",\"SE\",\"SE\",\"SE\",\"SE\",\"SE\",\"SE\",\"MI\",\"MI\",\"EN\",\"EN\",\"SE\",\"SE\",\"SE\",\"SE\",\"MI\"],\"x0\":\" \",\"xaxis\":\"x\",\"y\":[79833,260000,109024,20000,150000,72000,190000,35735,135000,125000,51321,40481,39916,87000,85000,8000,41689,114047,5707,56000,43331,6072,47899,98000,115000,325000,42000,33511,100000,117104,59303,70000,68428,450000,46759,74130,103000,250000,10000,138000,45760,79833,50180,106000,112872,15966,76958,188000,105000,70139,6072,91000,45896,54742,60000,148261,38776,118000,120000,138350,110000,130800,21669,412000,45618,62726,49268,190200,105000,91237,62726,42197,82528,150000,235000,53192,100000,5409,270000,80000,79197,140000,54238,47282,153667,28476,59102,110000,170000,80000,88654,76833,19609,276000,29751,89294,12000,450000,70000,95746,75000,150000,36259,62000,73000,51519,187442,115000,150000,30428,94564,113476,103160,12000,45391,225000,50000,40189,90000,200000,60000,200000,50000,110037,10354,151000,120000,9466,20000,40570,100000,49646,38400,24000,100000,90000,63711,77364,220000,80000,135000,240000,150000,82500,100000,82744,62649,90000,153000,160000,168000,150000,75774,13400,144000,127221,119059,423000,120000,125000,230000,85000,28369,63831,130026,165000,80000,250000,55000,150000,170000,82528,60000,235000,60757,174000,2859,40038,81000,5679,22611,90734,26005,61896,12000,4000,50000,69741,76833,74000,152000,21844,18000,174000,96113,147000,9272,24342,54094,90000,61467,195000,37825,50000,160000,12901,200000,165000,20000,120000,24823,56738,66022,5882,24823,185000,28609,88654,140000,46597,116914,33808,56256,225000,416000,87738,88654,135000,71786,16228,256000,200000,200000,180000,110000,63810,46809,4000,21637,103691,80000,110000,165000,18053,72212,36643,12103,96282,170000,115000,90000,600000,28399,93000,99703,173762,185000,141846,130000,63831,16904,66265,25532,160000,93150,111775,28016,65013,72500,18907,76833,85000,77684,100000,58000,55000,20171,59102,112000,100000,69741,105000,69999,94665,102839,109000,51064,135000,155000,120600,130000,90000,170000,150000,102100,84900,136620,99360,117789,104702,146000,123000,52351,99000,116000,106260,126500,242000,200000,65438,39263,78526,52351,165220,45807,120160,90320,181940,132320,220110,160080,180000,120000,124190,130000,110000,170000,115500,112900,165400,132320,167000,243900,136600,109280,128875,93700,224000,167875,175000,156600,108800,95550,113000,135000,161342,137141,167000,78526,65438,150000,211500,192400,90700,130000,61300,160000,138600,136000,58000,135000,170000,189650,164996,54957,118187,132000,208775,147800,136994,101570,128875,93700,79039,37300,164000,155000,124333,98158,120000,145000,105400,87932,117789,215300,158200,209100,154600,115934,81666,175000,98158,183600,52351,180000,71982,45807,65949,49461,78526,58894,260000,60000,63900,160000,112300,241000,159000,180000,80000,82900,100800,49461,140400,39263,43966,32974,87932,76940,104702,91614,65949,87932,43966,32974,98158,215300,76940,180000,21983,80000,78791,196979,120000,125000,37236,105000,87932,18442,31615,58255,100000,54957,18442,162674,120000,144000,104890,100000,140000,135000,50000,220000,183228,91614,185100,220000,200000,120000,120000,65000,324000,216000,210000,120000,230000,100000,100000,31875,200000,75000,35590,78791,100000,153000,58035,165000,93427,52396,62651,32974,40000,87425,115000,86703,75000,64849,120000,157000,150000,70912,65000,71444,20000,48000,152500,68147,122346,380000,69336,10000,20000,405000,135000,177000,78000,100000,85000,75000,214000,192600,266400,213120,141300,102100,115934,81666,206699,99100,130000,110500,99050,160000,205300,176000,144000,200100,145000,70500,205300,140400,205300,184700,175100,140250,116150,54000,65438,80000,210000,69000,150075,25000,126500,106260,220110,160080,105000,110925,45807,60000,192564,144854,150000,150260,109280,160000,130000,67000,52000,154000,126000,129000,150000,200000],\"y0\":\" \",\"yaxis\":\"y\",\"type\":\"box\"}],                        {\"template\":{\"data\":{\"histogram2dcontour\":[{\"type\":\"histogram2dcontour\",\"colorbar\":{\"outlinewidth\":0,\"ticks\":\"\"},\"colorscale\":[[0.0,\"#0d0887\"],[0.1111111111111111,\"#46039f\"],[0.2222222222222222,\"#7201a8\"],[0.3333333333333333,\"#9c179e\"],[0.4444444444444444,\"#bd3786\"],[0.5555555555555556,\"#d8576b\"],[0.6666666666666666,\"#ed7953\"],[0.7777777777777778,\"#fb9f3a\"],[0.8888888888888888,\"#fdca26\"],[1.0,\"#f0f921\"]]}],\"choropleth\":[{\"type\":\"choropleth\",\"colorbar\":{\"outlinewidth\":0,\"ticks\":\"\"}}],\"histogram2d\":[{\"type\":\"histogram2d\",\"colorbar\":{\"outlinewidth\":0,\"ticks\":\"\"},\"colorscale\":[[0.0,\"#0d0887\"],[0.1111111111111111,\"#46039f\"],[0.2222222222222222,\"#7201a8\"],[0.3333333333333333,\"#9c179e\"],[0.4444444444444444,\"#bd3786\"],[0.5555555555555556,\"#d8576b\"],[0.6666666666666666,\"#ed7953\"],[0.7777777777777778,\"#fb9f3a\"],[0.8888888888888888,\"#fdca26\"],[1.0,\"#f0f921\"]]}],\"heatmap\":[{\"type\":\"heatmap\",\"colorbar\":{\"outlinewidth\":0,\"ticks\":\"\"},\"colorscale\":[[0.0,\"#0d0887\"],[0.1111111111111111,\"#46039f\"],[0.2222222222222222,\"#7201a8\"],[0.3333333333333333,\"#9c179e\"],[0.4444444444444444,\"#bd3786\"],[0.5555555555555556,\"#d8576b\"],[0.6666666666666666,\"#ed7953\"],[0.7777777777777778,\"#fb9f3a\"],[0.8888888888888888,\"#fdca26\"],[1.0,\"#f0f921\"]]}],\"heatmapgl\":[{\"type\":\"heatmapgl\",\"colorbar\":{\"outlinewidth\":0,\"ticks\":\"\"},\"colorscale\":[[0.0,\"#0d0887\"],[0.1111111111111111,\"#46039f\"],[0.2222222222222222,\"#7201a8\"],[0.3333333333333333,\"#9c179e\"],[0.4444444444444444,\"#bd3786\"],[0.5555555555555556,\"#d8576b\"],[0.6666666666666666,\"#ed7953\"],[0.7777777777777778,\"#fb9f3a\"],[0.8888888888888888,\"#fdca26\"],[1.0,\"#f0f921\"]]}],\"contourcarpet\":[{\"type\":\"contourcarpet\",\"colorbar\":{\"outlinewidth\":0,\"ticks\":\"\"}}],\"contour\":[{\"type\":\"contour\",\"colorbar\":{\"outlinewidth\":0,\"ticks\":\"\"},\"colorscale\":[[0.0,\"#0d0887\"],[0.1111111111111111,\"#46039f\"],[0.2222222222222222,\"#7201a8\"],[0.3333333333333333,\"#9c179e\"],[0.4444444444444444,\"#bd3786\"],[0.5555555555555556,\"#d8576b\"],[0.6666666666666666,\"#ed7953\"],[0.7777777777777778,\"#fb9f3a\"],[0.8888888888888888,\"#fdca26\"],[1.0,\"#f0f921\"]]}],\"surface\":[{\"type\":\"surface\",\"colorbar\":{\"outlinewidth\":0,\"ticks\":\"\"},\"colorscale\":[[0.0,\"#0d0887\"],[0.1111111111111111,\"#46039f\"],[0.2222222222222222,\"#7201a8\"],[0.3333333333333333,\"#9c179e\"],[0.4444444444444444,\"#bd3786\"],[0.5555555555555556,\"#d8576b\"],[0.6666666666666666,\"#ed7953\"],[0.7777777777777778,\"#fb9f3a\"],[0.8888888888888888,\"#fdca26\"],[1.0,\"#f0f921\"]]}],\"mesh3d\":[{\"type\":\"mesh3d\",\"colorbar\":{\"outlinewidth\":0,\"ticks\":\"\"}}],\"scatter\":[{\"fillpattern\":{\"fillmode\":\"overlay\",\"size\":10,\"solidity\":0.2},\"type\":\"scatter\"}],\"parcoords\":[{\"type\":\"parcoords\",\"line\":{\"colorbar\":{\"outlinewidth\":0,\"ticks\":\"\"}}}],\"scatterpolargl\":[{\"type\":\"scatterpolargl\",\"marker\":{\"colorbar\":{\"outlinewidth\":0,\"ticks\":\"\"}}}],\"bar\":[{\"error_x\":{\"color\":\"#2a3f5f\"},\"error_y\":{\"color\":\"#2a3f5f\"},\"marker\":{\"line\":{\"color\":\"#E5ECF6\",\"width\":0.5},\"pattern\":{\"fillmode\":\"overlay\",\"size\":10,\"solidity\":0.2}},\"type\":\"bar\"}],\"scattergeo\":[{\"type\":\"scattergeo\",\"marker\":{\"colorbar\":{\"outlinewidth\":0,\"ticks\":\"\"}}}],\"scatterpolar\":[{\"type\":\"scatterpolar\",\"marker\":{\"colorbar\":{\"outlinewidth\":0,\"ticks\":\"\"}}}],\"histogram\":[{\"marker\":{\"pattern\":{\"fillmode\":\"overlay\",\"size\":10,\"solidity\":0.2}},\"type\":\"histogram\"}],\"scattergl\":[{\"type\":\"scattergl\",\"marker\":{\"colorbar\":{\"outlinewidth\":0,\"ticks\":\"\"}}}],\"scatter3d\":[{\"type\":\"scatter3d\",\"line\":{\"colorbar\":{\"outlinewidth\":0,\"ticks\":\"\"}},\"marker\":{\"colorbar\":{\"outlinewidth\":0,\"ticks\":\"\"}}}],\"scattermapbox\":[{\"type\":\"scattermapbox\",\"marker\":{\"colorbar\":{\"outlinewidth\":0,\"ticks\":\"\"}}}],\"scatterternary\":[{\"type\":\"scatterternary\",\"marker\":{\"colorbar\":{\"outlinewidth\":0,\"ticks\":\"\"}}}],\"scattercarpet\":[{\"type\":\"scattercarpet\",\"marker\":{\"colorbar\":{\"outlinewidth\":0,\"ticks\":\"\"}}}],\"carpet\":[{\"aaxis\":{\"endlinecolor\":\"#2a3f5f\",\"gridcolor\":\"white\",\"linecolor\":\"white\",\"minorgridcolor\":\"white\",\"startlinecolor\":\"#2a3f5f\"},\"baxis\":{\"endlinecolor\":\"#2a3f5f\",\"gridcolor\":\"white\",\"linecolor\":\"white\",\"minorgridcolor\":\"white\",\"startlinecolor\":\"#2a3f5f\"},\"type\":\"carpet\"}],\"table\":[{\"cells\":{\"fill\":{\"color\":\"#EBF0F8\"},\"line\":{\"color\":\"white\"}},\"header\":{\"fill\":{\"color\":\"#C8D4E3\"},\"line\":{\"color\":\"white\"}},\"type\":\"table\"}],\"barpolar\":[{\"marker\":{\"line\":{\"color\":\"#E5ECF6\",\"width\":0.5},\"pattern\":{\"fillmode\":\"overlay\",\"size\":10,\"solidity\":0.2}},\"type\":\"barpolar\"}],\"pie\":[{\"automargin\":true,\"type\":\"pie\"}]},\"layout\":{\"autotypenumbers\":\"strict\",\"colorway\":[\"#636efa\",\"#EF553B\",\"#00cc96\",\"#ab63fa\",\"#FFA15A\",\"#19d3f3\",\"#FF6692\",\"#B6E880\",\"#FF97FF\",\"#FECB52\"],\"font\":{\"color\":\"#2a3f5f\"},\"hovermode\":\"closest\",\"hoverlabel\":{\"align\":\"left\"},\"paper_bgcolor\":\"white\",\"plot_bgcolor\":\"#E5ECF6\",\"polar\":{\"bgcolor\":\"#E5ECF6\",\"angularaxis\":{\"gridcolor\":\"white\",\"linecolor\":\"white\",\"ticks\":\"\"},\"radialaxis\":{\"gridcolor\":\"white\",\"linecolor\":\"white\",\"ticks\":\"\"}},\"ternary\":{\"bgcolor\":\"#E5ECF6\",\"aaxis\":{\"gridcolor\":\"white\",\"linecolor\":\"white\",\"ticks\":\"\"},\"baxis\":{\"gridcolor\":\"white\",\"linecolor\":\"white\",\"ticks\":\"\"},\"caxis\":{\"gridcolor\":\"white\",\"linecolor\":\"white\",\"ticks\":\"\"}},\"coloraxis\":{\"colorbar\":{\"outlinewidth\":0,\"ticks\":\"\"}},\"colorscale\":{\"sequential\":[[0.0,\"#0d0887\"],[0.1111111111111111,\"#46039f\"],[0.2222222222222222,\"#7201a8\"],[0.3333333333333333,\"#9c179e\"],[0.4444444444444444,\"#bd3786\"],[0.5555555555555556,\"#d8576b\"],[0.6666666666666666,\"#ed7953\"],[0.7777777777777778,\"#fb9f3a\"],[0.8888888888888888,\"#fdca26\"],[1.0,\"#f0f921\"]],\"sequentialminus\":[[0.0,\"#0d0887\"],[0.1111111111111111,\"#46039f\"],[0.2222222222222222,\"#7201a8\"],[0.3333333333333333,\"#9c179e\"],[0.4444444444444444,\"#bd3786\"],[0.5555555555555556,\"#d8576b\"],[0.6666666666666666,\"#ed7953\"],[0.7777777777777778,\"#fb9f3a\"],[0.8888888888888888,\"#fdca26\"],[1.0,\"#f0f921\"]],\"diverging\":[[0,\"#8e0152\"],[0.1,\"#c51b7d\"],[0.2,\"#de77ae\"],[0.3,\"#f1b6da\"],[0.4,\"#fde0ef\"],[0.5,\"#f7f7f7\"],[0.6,\"#e6f5d0\"],[0.7,\"#b8e186\"],[0.8,\"#7fbc41\"],[0.9,\"#4d9221\"],[1,\"#276419\"]]},\"xaxis\":{\"gridcolor\":\"white\",\"linecolor\":\"white\",\"ticks\":\"\",\"title\":{\"standoff\":15},\"zerolinecolor\":\"white\",\"automargin\":true,\"zerolinewidth\":2},\"yaxis\":{\"gridcolor\":\"white\",\"linecolor\":\"white\",\"ticks\":\"\",\"title\":{\"standoff\":15},\"zerolinecolor\":\"white\",\"automargin\":true,\"zerolinewidth\":2},\"scene\":{\"xaxis\":{\"backgroundcolor\":\"#E5ECF6\",\"gridcolor\":\"white\",\"linecolor\":\"white\",\"showbackground\":true,\"ticks\":\"\",\"zerolinecolor\":\"white\",\"gridwidth\":2},\"yaxis\":{\"backgroundcolor\":\"#E5ECF6\",\"gridcolor\":\"white\",\"linecolor\":\"white\",\"showbackground\":true,\"ticks\":\"\",\"zerolinecolor\":\"white\",\"gridwidth\":2},\"zaxis\":{\"backgroundcolor\":\"#E5ECF6\",\"gridcolor\":\"white\",\"linecolor\":\"white\",\"showbackground\":true,\"ticks\":\"\",\"zerolinecolor\":\"white\",\"gridwidth\":2}},\"shapedefaults\":{\"line\":{\"color\":\"#2a3f5f\"}},\"annotationdefaults\":{\"arrowcolor\":\"#2a3f5f\",\"arrowhead\":0,\"arrowwidth\":1},\"geo\":{\"bgcolor\":\"white\",\"landcolor\":\"#E5ECF6\",\"subunitcolor\":\"white\",\"showland\":true,\"showlakes\":true,\"lakecolor\":\"white\"},\"title\":{\"x\":0.05},\"mapbox\":{\"style\":\"light\"}}},\"xaxis\":{\"anchor\":\"y\",\"domain\":[0.0,1.0],\"title\":{\"text\":\"experience_level\"}},\"yaxis\":{\"anchor\":\"x\",\"domain\":[0.0,1.0],\"title\":{\"text\":\"salary_in_usd\"}},\"legend\":{\"tracegroupgap\":0},\"margin\":{\"t\":60},\"boxmode\":\"group\"},                        {\"responsive\": true}                    ).then(function(){\n",
       "                            \n",
       "var gd = document.getElementById('ca38be7f-a0c8-4062-bbad-3f668a30c41c');\n",
       "var x = new MutationObserver(function (mutations, observer) {{\n",
       "        var display = window.getComputedStyle(gd).display;\n",
       "        if (!display || display === 'none') {{\n",
       "            console.log([gd, 'removed!']);\n",
       "            Plotly.purge(gd);\n",
       "            observer.disconnect();\n",
       "        }}\n",
       "}});\n",
       "\n",
       "// Listen for the removal of the full notebook cells\n",
       "var notebookContainer = gd.closest('#notebook-container');\n",
       "if (notebookContainer) {{\n",
       "    x.observe(notebookContainer, {childList: true});\n",
       "}}\n",
       "\n",
       "// Listen for the clearing of the current output cell\n",
       "var outputEl = gd.closest('.output');\n",
       "if (outputEl) {{\n",
       "    x.observe(outputEl, {childList: true});\n",
       "}}\n",
       "\n",
       "                        })                };                });            </script>        </div>"
      ]
     },
     "metadata": {},
     "output_type": "display_data"
    }
   ],
   "source": [
    "px.box(df2, x='experience_level', y='salary_in_usd', category_orders=['EN','MI','SE','EX'])"
   ]
  },
  {
   "cell_type": "code",
   "execution_count": 77,
   "metadata": {
    "colab": {
     "base_uri": "https://localhost:8080/"
    },
    "id": "3-L0ENpRQrGt",
    "outputId": "e8e1624f-c18c-4229-d7c0-55c6425e09f0"
   },
   "outputs": [
    {
     "name": "stdout",
     "output_type": "stream",
     "text": [
      "<class 'pandas.core.frame.DataFrame'>\n",
      "Int64Index: 565 entries, 0 to 606\n",
      "Data columns (total 11 columns):\n",
      " #   Column              Non-Null Count  Dtype   \n",
      "---  ------              --------------  -----   \n",
      " 0   work_year           565 non-null    category\n",
      " 1   experience_level    565 non-null    category\n",
      " 2   employment_type     565 non-null    category\n",
      " 3   job_title           565 non-null    category\n",
      " 4   salary              565 non-null    int64   \n",
      " 5   salary_currency     565 non-null    category\n",
      " 6   salary_in_usd       565 non-null    int64   \n",
      " 7   employee_residence  565 non-null    category\n",
      " 8   remote_ratio        565 non-null    category\n",
      " 9   company_location    565 non-null    category\n",
      " 10  company_size        565 non-null    category\n",
      "dtypes: category(9), int64(2)\n",
      "memory usage: 43.2 KB\n"
     ]
    }
   ],
   "source": [
    "df.info()"
   ]
  },
  {
   "cell_type": "code",
   "execution_count": 78,
   "metadata": {
    "colab": {
     "base_uri": "https://localhost:8080/",
     "height": 527
    },
    "id": "_iHv_UJBQiUw",
    "outputId": "d6724be9-de75-408a-dd13-a82311c0c8ab"
   },
   "outputs": [
    {
     "data": {
      "text/plain": [
       "<AxesSubplot:xlabel='experience_level', ylabel='salary_in_usd'>"
      ]
     },
     "execution_count": 78,
     "metadata": {},
     "output_type": "execute_result"
    },
    {
     "data": {
      "image/png": "[encoded data removed]",
      "text/plain": [
       "<Figure size 1200x800 with 1 Axes>"
      ]
     },
     "metadata": {},
     "output_type": "display_data"
    }
   ],
   "source": [
    "sns.boxplot(\n",
    "    data=df, x='experience_level', y='salary_in_usd', hue='company_size',\n",
    "    order=['EN','MI','SE','EX'], hue_order=['S','M','L'], showmeans=True\n",
    "    )"
   ]
  },
  {
   "cell_type": "code",
   "execution_count": 79,
   "metadata": {
    "colab": {
     "base_uri": "https://localhost:8080/",
     "height": 527
    },
    "id": "6ub4uElmRbRH",
    "outputId": "b3c06f3d-a9c8-4274-89f4-627ac033e62b"
   },
   "outputs": [
    {
     "data": {
      "text/plain": [
       "<AxesSubplot:xlabel='company_size', ylabel='salary_in_usd'>"
      ]
     },
     "execution_count": 79,
     "metadata": {},
     "output_type": "execute_result"
    },
    {
     "data": {
      "image/png": "[encoded data removed]",
      "text/plain": [
       "<Figure size 1200x800 with 1 Axes>"
      ]
     },
     "metadata": {},
     "output_type": "display_data"
    }
   ],
   "source": [
    "sns.barplot(data=df, x='company_size', y='salary_in_usd', order=['S','M','L'])"
   ]
  },
  {
   "cell_type": "code",
   "execution_count": 80,
   "metadata": {
    "colab": {
     "base_uri": "https://localhost:8080/",
     "height": 206
    },
    "id": "IOoyET-iRwO8",
    "outputId": "ac7f23bc-00e2-4191-b4aa-63b0286f6db0"
   },
   "outputs": [
    {
     "data": {
      "text/html": [
       "<div>\n",
       "<style scoped>\n",
       "    .dataframe tbody tr th:only-of-type {\n",
       "        vertical-align: middle;\n",
       "    }\n",
       "\n",
       "    .dataframe tbody tr th {\n",
       "        vertical-align: top;\n",
       "    }\n",
       "\n",
       "    .dataframe thead th {\n",
       "        text-align: right;\n",
       "    }\n",
       "</style>\n",
       "<table border=\"1\" class=\"dataframe\">\n",
       "  <thead>\n",
       "    <tr style=\"text-align: right;\">\n",
       "      <th>company_size</th>\n",
       "      <th>S</th>\n",
       "      <th>M</th>\n",
       "      <th>L</th>\n",
       "    </tr>\n",
       "    <tr>\n",
       "      <th>experience_level</th>\n",
       "      <th></th>\n",
       "      <th></th>\n",
       "      <th></th>\n",
       "    </tr>\n",
       "  </thead>\n",
       "  <tbody>\n",
       "    <tr>\n",
       "      <th>EN</th>\n",
       "      <td>29</td>\n",
       "      <td>30</td>\n",
       "      <td>29</td>\n",
       "    </tr>\n",
       "    <tr>\n",
       "      <th>MI</th>\n",
       "      <td>28</td>\n",
       "      <td>96</td>\n",
       "      <td>84</td>\n",
       "    </tr>\n",
       "    <tr>\n",
       "      <th>SE</th>\n",
       "      <td>22</td>\n",
       "      <td>152</td>\n",
       "      <td>69</td>\n",
       "    </tr>\n",
       "    <tr>\n",
       "      <th>EX</th>\n",
       "      <td>3</td>\n",
       "      <td>12</td>\n",
       "      <td>11</td>\n",
       "    </tr>\n",
       "  </tbody>\n",
       "</table>\n",
       "</div>"
      ],
      "text/plain": [
       "company_size       S    M   L\n",
       "experience_level             \n",
       "EN                29   30  29\n",
       "MI                28   96  84\n",
       "SE                22  152  69\n",
       "EX                 3   12  11"
      ]
     },
     "execution_count": 80,
     "metadata": {},
     "output_type": "execute_result"
    }
   ],
   "source": [
    "crosstab = (\n",
    "    pd.crosstab(df['experience_level'], df['company_size'])\n",
    "    .loc[['EN','MI','SE', 'EX'], ['S','M','L']]\n",
    "    )\n",
    "crosstab"
   ]
  },
  {
   "cell_type": "code",
   "execution_count": 81,
   "metadata": {
    "colab": {
     "base_uri": "https://localhost:8080/"
    },
    "id": "rQP9FU6yRwbN",
    "outputId": "18373823-7532-44a0-d3a6-7363e1056787"
   },
   "outputs": [
    {
     "data": {
      "text/plain": [
       "0.1961418770417252"
      ]
     },
     "execution_count": 81,
     "metadata": {},
     "output_type": "execute_result"
    }
   ],
   "source": [
    "stats.contingency.association(crosstab)"
   ]
  },
  {
   "cell_type": "code",
   "execution_count": 84,
   "metadata": {
    "colab": {
     "base_uri": "https://localhost:8080/"
    },
    "id": "oKvTrMkgSPY6",
    "outputId": "91b5aed3-3ca1-4836-bbef-69c350ded6f0"
   },
   "outputs": [],
   "source": [
    "chi2,p,dof,expected = stats.chi2_contingency(crosstab)"
   ]
  },
  {
   "cell_type": "code",
   "execution_count": 85,
   "metadata": {
    "colab": {
     "base_uri": "https://localhost:8080/",
     "height": 206
    },
    "id": "H9EOuvzzShbE",
    "outputId": "6fbcfdc9-16bd-4339-e2c5-8a0a7fdefa9f"
   },
   "outputs": [
    {
     "data": {
      "text/html": [
       "<style type=\"text/css\">\n",
       "#T_8f46a_row0_col0, #T_8f46a_row1_col2, #T_8f46a_row2_col1 {\n",
       "  background-color: #67000d;\n",
       "  color: #f1f1f1;\n",
       "}\n",
       "#T_8f46a_row0_col1, #T_8f46a_row2_col0, #T_8f46a_row2_col2 {\n",
       "  background-color: #fff5f0;\n",
       "  color: #000000;\n",
       "}\n",
       "#T_8f46a_row0_col2 {\n",
       "  background-color: #fb7151;\n",
       "  color: #f1f1f1;\n",
       "}\n",
       "#T_8f46a_row1_col0 {\n",
       "  background-color: #fc9272;\n",
       "  color: #000000;\n",
       "}\n",
       "#T_8f46a_row1_col1 {\n",
       "  background-color: #fee4d8;\n",
       "  color: #000000;\n",
       "}\n",
       "#T_8f46a_row3_col0 {\n",
       "  background-color: #fc8262;\n",
       "  color: #f1f1f1;\n",
       "}\n",
       "#T_8f46a_row3_col1 {\n",
       "  background-color: #fca285;\n",
       "  color: #000000;\n",
       "}\n",
       "#T_8f46a_row3_col2 {\n",
       "  background-color: #f14432;\n",
       "  color: #f1f1f1;\n",
       "}\n",
       "</style>\n",
       "<table id=\"T_8f46a\">\n",
       "  <thead>\n",
       "    <tr>\n",
       "      <th class=\"index_name level0\" >company_size</th>\n",
       "      <th id=\"T_8f46a_level0_col0\" class=\"col_heading level0 col0\" >S</th>\n",
       "      <th id=\"T_8f46a_level0_col1\" class=\"col_heading level0 col1\" >M</th>\n",
       "      <th id=\"T_8f46a_level0_col2\" class=\"col_heading level0 col2\" >L</th>\n",
       "    </tr>\n",
       "    <tr>\n",
       "      <th class=\"index_name level0\" >experience_level</th>\n",
       "      <th class=\"blank col0\" >&nbsp;</th>\n",
       "      <th class=\"blank col1\" >&nbsp;</th>\n",
       "      <th class=\"blank col2\" >&nbsp;</th>\n",
       "    </tr>\n",
       "  </thead>\n",
       "  <tbody>\n",
       "    <tr>\n",
       "      <th id=\"T_8f46a_level0_row0\" class=\"row_heading level0 row0\" >EN</th>\n",
       "      <td id=\"T_8f46a_row0_col0\" class=\"data row0 col0\" >16.228319</td>\n",
       "      <td id=\"T_8f46a_row0_col1\" class=\"data row0 col1\" >-15.168142</td>\n",
       "      <td id=\"T_8f46a_row0_col2\" class=\"data row0 col2\" >-1.060177</td>\n",
       "    </tr>\n",
       "    <tr>\n",
       "      <th id=\"T_8f46a_level0_row1\" class=\"row_heading level0 row1\" >MI</th>\n",
       "      <td id=\"T_8f46a_row1_col0\" class=\"data row1 col0\" >-2.187611</td>\n",
       "      <td id=\"T_8f46a_row1_col1\" class=\"data row1 col1\" >-10.761062</td>\n",
       "      <td id=\"T_8f46a_row1_col2\" class=\"data row1 col2\" >12.948673</td>\n",
       "    </tr>\n",
       "    <tr>\n",
       "      <th id=\"T_8f46a_level0_row2\" class=\"row_heading level0 row2\" >SE</th>\n",
       "      <td id=\"T_8f46a_row2_col0\" class=\"data row2 col0\" >-13.267257</td>\n",
       "      <td id=\"T_8f46a_row2_col1\" class=\"data row2 col1\" >27.274336</td>\n",
       "      <td id=\"T_8f46a_row2_col2\" class=\"data row2 col2\" >-14.007080</td>\n",
       "    </tr>\n",
       "    <tr>\n",
       "      <th id=\"T_8f46a_level0_row3\" class=\"row_heading level0 row3\" >EX</th>\n",
       "      <td id=\"T_8f46a_row3_col0\" class=\"data row3 col0\" >-0.773451</td>\n",
       "      <td id=\"T_8f46a_row3_col1\" class=\"data row3 col1\" >-1.345133</td>\n",
       "      <td id=\"T_8f46a_row3_col2\" class=\"data row3 col2\" >2.118584</td>\n",
       "    </tr>\n",
       "  </tbody>\n",
       "</table>\n"
      ],
      "text/plain": [
       "<pandas.io.formats.style.Styler at 0x7fca81283070>"
      ]
     },
     "execution_count": 85,
     "metadata": {},
     "output_type": "execute_result"
    }
   ],
   "source": [
    "(crosstab - expected).style.background_gradient(cmap='Reds')"
   ]
  },
  {
   "cell_type": "code",
   "execution_count": 86,
   "metadata": {
    "colab": {
     "base_uri": "https://localhost:8080/",
     "height": 409
    },
    "id": "nK69vcO_TJqF",
    "outputId": "774e2c89-82b2-42e9-8e9a-df31e1a7c90a"
   },
   "outputs": [
    {
     "data": {
      "text/html": [
       "<div>\n",
       "<style scoped>\n",
       "    .dataframe tbody tr th:only-of-type {\n",
       "        vertical-align: middle;\n",
       "    }\n",
       "\n",
       "    .dataframe tbody tr th {\n",
       "        vertical-align: top;\n",
       "    }\n",
       "\n",
       "    .dataframe thead th {\n",
       "        text-align: right;\n",
       "    }\n",
       "</style>\n",
       "<table border=\"1\" class=\"dataframe\">\n",
       "  <thead>\n",
       "    <tr style=\"text-align: right;\">\n",
       "      <th></th>\n",
       "      <th>work_year</th>\n",
       "      <th>experience_level</th>\n",
       "      <th>employment_type</th>\n",
       "      <th>job_title</th>\n",
       "      <th>salary</th>\n",
       "      <th>salary_currency</th>\n",
       "      <th>salary_in_usd</th>\n",
       "      <th>employee_residence</th>\n",
       "      <th>remote_ratio</th>\n",
       "      <th>company_location</th>\n",
       "      <th>company_size</th>\n",
       "    </tr>\n",
       "  </thead>\n",
       "  <tbody>\n",
       "    <tr>\n",
       "      <th>0</th>\n",
       "      <td>2020</td>\n",
       "      <td>MI</td>\n",
       "      <td>FT</td>\n",
       "      <td>Data Scientist</td>\n",
       "      <td>70000</td>\n",
       "      <td>EUR</td>\n",
       "      <td>79833</td>\n",
       "      <td>DE</td>\n",
       "      <td>0</td>\n",
       "      <td>DE</td>\n",
       "      <td>L</td>\n",
       "    </tr>\n",
       "    <tr>\n",
       "      <th>1</th>\n",
       "      <td>2020</td>\n",
       "      <td>SE</td>\n",
       "      <td>FT</td>\n",
       "      <td>Machine Learning Scientist</td>\n",
       "      <td>260000</td>\n",
       "      <td>USD</td>\n",
       "      <td>260000</td>\n",
       "      <td>JP</td>\n",
       "      <td>0</td>\n",
       "      <td>JP</td>\n",
       "      <td>S</td>\n",
       "    </tr>\n",
       "    <tr>\n",
       "      <th>2</th>\n",
       "      <td>2020</td>\n",
       "      <td>SE</td>\n",
       "      <td>FT</td>\n",
       "      <td>Big Data Engineer</td>\n",
       "      <td>85000</td>\n",
       "      <td>GBP</td>\n",
       "      <td>109024</td>\n",
       "      <td>GB</td>\n",
       "      <td>50</td>\n",
       "      <td>GB</td>\n",
       "      <td>M</td>\n",
       "    </tr>\n",
       "    <tr>\n",
       "      <th>3</th>\n",
       "      <td>2020</td>\n",
       "      <td>MI</td>\n",
       "      <td>FT</td>\n",
       "      <td>Product Data Analyst</td>\n",
       "      <td>20000</td>\n",
       "      <td>USD</td>\n",
       "      <td>20000</td>\n",
       "      <td>HN</td>\n",
       "      <td>0</td>\n",
       "      <td>HN</td>\n",
       "      <td>S</td>\n",
       "    </tr>\n",
       "    <tr>\n",
       "      <th>4</th>\n",
       "      <td>2020</td>\n",
       "      <td>SE</td>\n",
       "      <td>FT</td>\n",
       "      <td>Machine Learning Engineer</td>\n",
       "      <td>150000</td>\n",
       "      <td>USD</td>\n",
       "      <td>150000</td>\n",
       "      <td>US</td>\n",
       "      <td>50</td>\n",
       "      <td>US</td>\n",
       "      <td>L</td>\n",
       "    </tr>\n",
       "  </tbody>\n",
       "</table>\n",
       "</div>"
      ],
      "text/plain": [
       "  work_year experience_level employment_type                   job_title  \\\n",
       "0      2020               MI              FT              Data Scientist   \n",
       "1      2020               SE              FT  Machine Learning Scientist   \n",
       "2      2020               SE              FT           Big Data Engineer   \n",
       "3      2020               MI              FT        Product Data Analyst   \n",
       "4      2020               SE              FT   Machine Learning Engineer   \n",
       "\n",
       "   salary salary_currency  salary_in_usd employee_residence remote_ratio  \\\n",
       "0   70000             EUR          79833                 DE            0   \n",
       "1  260000             USD         260000                 JP            0   \n",
       "2   85000             GBP         109024                 GB           50   \n",
       "3   20000             USD          20000                 HN            0   \n",
       "4  150000             USD         150000                 US           50   \n",
       "\n",
       "  company_location company_size  \n",
       "0               DE            L  \n",
       "1               JP            S  \n",
       "2               GB            M  \n",
       "3               HN            S  \n",
       "4               US            L  "
      ]
     },
     "execution_count": 86,
     "metadata": {},
     "output_type": "execute_result"
    }
   ],
   "source": [
    "df.head()"
   ]
  },
  {
   "cell_type": "code",
   "execution_count": 87,
   "metadata": {
    "colab": {
     "base_uri": "https://localhost:8080/",
     "height": 609,
     "referenced_widgets": [
      "c294220ff1b44388bb4d2034b0f53ae1",
      "4946b68fa53a40a88f9d7265e4a7a6bf",
      "79983c5d238d425aadbbd546742f0770",
      "c5cab094da0544428884a1f6d9cd733a",
      "f82a4f61c0c04b0f8521a4aed1856be4",
      "2f5fa10661e6497a86a116cfa4f07ef3",
      "fbec92aff635429081fea65d9d9d5f44",
      "c3d238853abc42f4a97fef7e06fcb156",
      "7c4adec3e0354e35a23673543ca61cf6",
      "83415cc8290948b8a651bebc71c3b8e8"
     ]
    },
    "id": "m0wx53UxTa_-",
    "outputId": "9bad7956-26c3-414e-9ba3-017b6616e1d1"
   },
   "outputs": [
    {
     "data": {
      "application/vnd.jupyter.widget-view+json": {
       "model_id": "38f6efd282be4ef4aab82326111720e6",
       "version_major": 2,
       "version_minor": 0
      },
      "text/plain": [
       "interactive(children=(Dropdown(description='x', options=('work_year', 'experience_level', 'employment_type', '…"
      ]
     },
     "metadata": {},
     "output_type": "display_data"
    }
   ],
   "source": [
    "@interact(x=df.columns.tolist(), hue=df.columns.tolist())\n",
    "def plot(x, hue):\n",
    "  sns.histplot(data=df, x=x, hue=hue, palette='tab10', alpha=.4)\n",
    "  plt.title(f'{x} by {hue}')\n",
    "  sns.despine()\n",
    "  plt.show()"
   ]
  },
  {
   "cell_type": "code",
   "execution_count": 88,
   "metadata": {
    "colab": {
     "base_uri": "https://localhost:8080/",
     "height": 542
    },
    "id": "VvzyzZQzUsUJ",
    "outputId": "61548c0b-d3c2-4c02-975a-8fb55bbe942e"
   },
   "outputs": [
    {
     "data": {
      "application/vnd.plotly.v1+json": {
       "config": {
        "plotlyServerURL": "https://plot.ly"
       },
       "data": [
        {
         "alignmentgroup": "True",
         "hovertemplate": "remote_ratio=%{x}<br>salary_in_usd=%{y}<extra></extra>",
         "legendgroup": "",
         "marker": {
          "color": "#636efa"
         },
         "name": "",
         "notched": false,
         "offsetgroup": "",
         "orientation": "v",
         "showlegend": false,
         "type": "box",
         "x": [
          0,
          0,
          50,
          0,
          50,
          100,
          100,
          50,
          100,
          50,
          0,
          0,
          0,
          100,
          100,
          50,
          100,
          100,
          50,
          100,
          0,
          100,
          50,
          0,
          0,
          100,
          50,
          0,
          100,
          50,
          100,
          100,
          100,
          0,
          50,
          50,
          100,
          50,
          100,
          100,
          100,
          50,
          0,
          100,
          50,
          100,
          100,
          100,
          100,
          50,
          0,
          100,
          50,
          100,
          100,
          100,
          100,
          100,
          50,
          100,
          100,
          100,
          50,
          100,
          100,
          50,
          0,
          100,
          100,
          0,
          50,
          50,
          50,
          100,
          100,
          50,
          100,
          50,
          100,
          100,
          100,
          100,
          50,
          100,
          100,
          100,
          50,
          100,
          100,
          100,
          100,
          100,
          100,
          0,
          50,
          50,
          100,
          100,
          100,
          100,
          0,
          100,
          50,
          0,
          0,
          50,
          100,
          100,
          100,
          100,
          50,
          100,
          100,
          100,
          100,
          100,
          100,
          100,
          100,
          100,
          50,
          100,
          100,
          0,
          50,
          100,
          50,
          0,
          100,
          50,
          50,
          50,
          100,
          100,
          0,
          100,
          50,
          50,
          0,
          100,
          100,
          0,
          0,
          100,
          100,
          50,
          50,
          100,
          100,
          100,
          0,
          100,
          100,
          100,
          100,
          50,
          100,
          50,
          100,
          100,
          50,
          0,
          50,
          50,
          50,
          100,
          100,
          0,
          50,
          100,
          100,
          100,
          100,
          100,
          50,
          100,
          0,
          100,
          50,
          100,
          0,
          50,
          0,
          50,
          50,
          100,
          100,
          100,
          50,
          50,
          100,
          50,
          0,
          100,
          50,
          50,
          100,
          100,
          50,
          100,
          50,
          100,
          100,
          100,
          100,
          0,
          100,
          0,
          0,
          0,
          50,
          50,
          50,
          0,
          50,
          100,
          50,
          100,
          100,
          100,
          50,
          0,
          50,
          100,
          100,
          100,
          50,
          0,
          100,
          100,
          100,
          100,
          100,
          100,
          0,
          100,
          100,
          0,
          50,
          100,
          100,
          100,
          100,
          100,
          50,
          50,
          0,
          50,
          100,
          50,
          100,
          100,
          100,
          100,
          50,
          100,
          50,
          0,
          50,
          50,
          100,
          0,
          100,
          50,
          0,
          0,
          100,
          50,
          100,
          0,
          0,
          100,
          50,
          100,
          50,
          100,
          50,
          100,
          100,
          0,
          100,
          100,
          50,
          50,
          100,
          50,
          50,
          100,
          100,
          100,
          0,
          0,
          100,
          100,
          100,
          100,
          100,
          100,
          0,
          0,
          100,
          100,
          100,
          0,
          0,
          0,
          0,
          100,
          100,
          0,
          0,
          0,
          0,
          100,
          100,
          100,
          100,
          0,
          0,
          0,
          0,
          0,
          0,
          100,
          100,
          100,
          100,
          100,
          100,
          100,
          100,
          100,
          100,
          100,
          100,
          100,
          100,
          100,
          100,
          100,
          100,
          0,
          0,
          0,
          100,
          100,
          100,
          100,
          0,
          0,
          0,
          100,
          100,
          100,
          100,
          100,
          0,
          100,
          0,
          0,
          100,
          100,
          0,
          0,
          0,
          100,
          0,
          100,
          100,
          100,
          100,
          100,
          100,
          50,
          100,
          0,
          100,
          0,
          0,
          0,
          100,
          100,
          100,
          0,
          100,
          100,
          100,
          100,
          0,
          0,
          100,
          0,
          100,
          100,
          100,
          0,
          0,
          100,
          100,
          100,
          100,
          100,
          100,
          0,
          100,
          100,
          100,
          100,
          0,
          0,
          0,
          100,
          100,
          0,
          100,
          100,
          100,
          100,
          100,
          100,
          100,
          100,
          100,
          100,
          100,
          100,
          0,
          100,
          100,
          100,
          100,
          100,
          50,
          100,
          0,
          50,
          100,
          0,
          100,
          100,
          50,
          50,
          50,
          100,
          100,
          100,
          50,
          100,
          100,
          100,
          100,
          100,
          100,
          0,
          0,
          100,
          100,
          100,
          100,
          100,
          100,
          100,
          100,
          100,
          100,
          100,
          50,
          100,
          100,
          100,
          100,
          100,
          100,
          100,
          50,
          100,
          100,
          50,
          100,
          100,
          100,
          100,
          100,
          100,
          50,
          100,
          0,
          100,
          100,
          100,
          50,
          100,
          100,
          0,
          100,
          100,
          100,
          0,
          100,
          100,
          100,
          100,
          100,
          100,
          100,
          100,
          100,
          0,
          0,
          100,
          100,
          100,
          100,
          0,
          0,
          100,
          100,
          0,
          0,
          100,
          100,
          100,
          100,
          0,
          100,
          100,
          100,
          100,
          0,
          0,
          0,
          0,
          0,
          100,
          100,
          100,
          0,
          0,
          100,
          100,
          100,
          100,
          100,
          100,
          100,
          100,
          100,
          100,
          100,
          0,
          100,
          100,
          100,
          100,
          100,
          100,
          100,
          100,
          0,
          0,
          100,
          100,
          0,
          100,
          100
         ],
         "x0": " ",
         "xaxis": "x",
         "y": [
          79833,
          260000,
          109024,
          20000,
          150000,
          72000,
          190000,
          35735,
          135000,
          125000,
          51321,
          40481,
          39916,
          87000,
          85000,
          8000,
          41689,
          114047,
          5707,
          56000,
          43331,
          6072,
          47899,
          98000,
          115000,
          325000,
          42000,
          33511,
          100000,
          117104,
          59303,
          70000,
          68428,
          450000,
          46759,
          74130,
          103000,
          250000,
          10000,
          138000,
          45760,
          79833,
          50180,
          106000,
          112872,
          15966,
          76958,
          188000,
          105000,
          70139,
          6072,
          91000,
          45896,
          54742,
          60000,
          148261,
          38776,
          118000,
          120000,
          138350,
          110000,
          130800,
          21669,
          412000,
          45618,
          62726,
          49268,
          190200,
          105000,
          91237,
          62726,
          42197,
          82528,
          150000,
          235000,
          53192,
          100000,
          5409,
          270000,
          80000,
          79197,
          140000,
          54238,
          47282,
          153667,
          28476,
          59102,
          110000,
          170000,
          80000,
          88654,
          76833,
          19609,
          276000,
          29751,
          89294,
          12000,
          450000,
          70000,
          95746,
          75000,
          150000,
          36259,
          62000,
          73000,
          51519,
          187442,
          115000,
          150000,
          30428,
          94564,
          113476,
          103160,
          12000,
          45391,
          225000,
          50000,
          40189,
          90000,
          200000,
          60000,
          200000,
          50000,
          110037,
          10354,
          151000,
          120000,
          9466,
          20000,
          40570,
          100000,
          49646,
          38400,
          24000,
          100000,
          90000,
          63711,
          77364,
          220000,
          80000,
          135000,
          240000,
          150000,
          82500,
          100000,
          82744,
          62649,
          90000,
          153000,
          160000,
          168000,
          150000,
          75774,
          13400,
          144000,
          127221,
          119059,
          423000,
          120000,
          125000,
          230000,
          85000,
          28369,
          63831,
          130026,
          165000,
          80000,
          250000,
          55000,
          150000,
          170000,
          82528,
          60000,
          235000,
          60757,
          174000,
          2859,
          40038,
          81000,
          5679,
          22611,
          90734,
          26005,
          61896,
          12000,
          4000,
          50000,
          69741,
          76833,
          74000,
          152000,
          21844,
          18000,
          174000,
          96113,
          147000,
          9272,
          24342,
          54094,
          90000,
          61467,
          195000,
          37825,
          50000,
          160000,
          12901,
          200000,
          165000,
          20000,
          120000,
          24823,
          56738,
          66022,
          5882,
          24823,
          185000,
          28609,
          88654,
          140000,
          46597,
          116914,
          33808,
          56256,
          225000,
          416000,
          87738,
          88654,
          135000,
          71786,
          16228,
          256000,
          200000,
          200000,
          180000,
          110000,
          63810,
          46809,
          4000,
          21637,
          103691,
          80000,
          110000,
          165000,
          18053,
          72212,
          36643,
          12103,
          96282,
          170000,
          115000,
          90000,
          600000,
          28399,
          93000,
          99703,
          173762,
          185000,
          141846,
          130000,
          63831,
          16904,
          66265,
          25532,
          160000,
          93150,
          111775,
          28016,
          65013,
          72500,
          18907,
          76833,
          85000,
          77684,
          100000,
          58000,
          55000,
          20171,
          59102,
          112000,
          100000,
          69741,
          105000,
          69999,
          94665,
          102839,
          109000,
          51064,
          135000,
          155000,
          120600,
          130000,
          90000,
          170000,
          150000,
          102100,
          84900,
          136620,
          99360,
          117789,
          104702,
          146000,
          123000,
          52351,
          99000,
          116000,
          106260,
          126500,
          242000,
          200000,
          65438,
          39263,
          78526,
          52351,
          165220,
          45807,
          120160,
          90320,
          181940,
          132320,
          220110,
          160080,
          180000,
          120000,
          124190,
          130000,
          110000,
          170000,
          115500,
          112900,
          165400,
          132320,
          167000,
          243900,
          136600,
          109280,
          128875,
          93700,
          224000,
          167875,
          175000,
          156600,
          108800,
          95550,
          113000,
          135000,
          161342,
          137141,
          167000,
          78526,
          65438,
          150000,
          211500,
          192400,
          90700,
          130000,
          61300,
          160000,
          138600,
          136000,
          58000,
          135000,
          170000,
          189650,
          164996,
          54957,
          118187,
          132000,
          208775,
          147800,
          136994,
          101570,
          128875,
          93700,
          79039,
          37300,
          164000,
          155000,
          124333,
          98158,
          120000,
          145000,
          105400,
          87932,
          117789,
          215300,
          158200,
          209100,
          154600,
          115934,
          81666,
          175000,
          98158,
          183600,
          52351,
          180000,
          71982,
          45807,
          65949,
          49461,
          78526,
          58894,
          260000,
          60000,
          63900,
          160000,
          112300,
          241000,
          159000,
          180000,
          80000,
          82900,
          100800,
          49461,
          140400,
          39263,
          43966,
          32974,
          87932,
          76940,
          104702,
          91614,
          65949,
          87932,
          43966,
          32974,
          98158,
          215300,
          76940,
          180000,
          21983,
          80000,
          78791,
          196979,
          120000,
          125000,
          37236,
          105000,
          87932,
          18442,
          31615,
          58255,
          100000,
          54957,
          18442,
          162674,
          120000,
          144000,
          104890,
          100000,
          140000,
          135000,
          50000,
          220000,
          183228,
          91614,
          185100,
          220000,
          200000,
          120000,
          120000,
          65000,
          324000,
          216000,
          210000,
          120000,
          230000,
          100000,
          100000,
          31875,
          200000,
          75000,
          35590,
          78791,
          100000,
          153000,
          58035,
          165000,
          93427,
          52396,
          62651,
          32974,
          40000,
          87425,
          115000,
          86703,
          75000,
          64849,
          120000,
          157000,
          150000,
          70912,
          65000,
          71444,
          20000,
          48000,
          152500,
          68147,
          122346,
          380000,
          69336,
          10000,
          20000,
          405000,
          135000,
          177000,
          78000,
          100000,
          85000,
          75000,
          214000,
          192600,
          266400,
          213120,
          141300,
          102100,
          115934,
          81666,
          206699,
          99100,
          130000,
          110500,
          99050,
          160000,
          205300,
          176000,
          144000,
          200100,
          145000,
          70500,
          205300,
          140400,
          205300,
          184700,
          175100,
          140250,
          116150,
          54000,
          65438,
          80000,
          210000,
          69000,
          150075,
          25000,
          126500,
          106260,
          220110,
          160080,
          105000,
          110925,
          45807,
          60000,
          192564,
          144854,
          150000,
          150260,
          109280,
          160000,
          130000,
          67000,
          52000,
          154000,
          126000,
          129000,
          150000,
          200000
         ],
         "y0": " ",
         "yaxis": "y"
        }
       ],
       "layout": {
        "autosize": true,
        "boxmode": "group",
        "legend": {
         "tracegroupgap": 0
        },
        "margin": {
         "t": 60
        },
        "template": {
         "data": {
          "bar": [
           {
            "error_x": {
             "color": "#2a3f5f"
            },
            "error_y": {
             "color": "#2a3f5f"
            },
            "marker": {
             "line": {
              "color": "#E5ECF6",
              "width": 0.5
             },
             "pattern": {
              "fillmode": "overlay",
              "size": 10,
              "solidity": 0.2
             }
            },
            "type": "bar"
           }
          ],
          "barpolar": [
           {
            "marker": {
             "line": {
              "color": "#E5ECF6",
              "width": 0.5
             },
             "pattern": {
              "fillmode": "overlay",
              "size": 10,
              "solidity": 0.2
             }
            },
            "type": "barpolar"
           }
          ],
          "carpet": [
           {
            "aaxis": {
             "endlinecolor": "#2a3f5f",
             "gridcolor": "white",
             "linecolor": "white",
             "minorgridcolor": "white",
             "startlinecolor": "#2a3f5f"
            },
            "baxis": {
             "endlinecolor": "#2a3f5f",
             "gridcolor": "white",
             "linecolor": "white",
             "minorgridcolor": "white",
             "startlinecolor": "#2a3f5f"
            },
            "type": "carpet"
           }
          ],
          "choropleth": [
           {
            "colorbar": {
             "outlinewidth": 0,
             "ticks": ""
            },
            "type": "choropleth"
           }
          ],
          "contour": [
           {
            "colorbar": {
             "outlinewidth": 0,
             "ticks": ""
            },
            "colorscale": [
             [
              0,
              "#0d0887"
             ],
             [
              0.1111111111111111,
              "#46039f"
             ],
             [
              0.2222222222222222,
              "#7201a8"
             ],
             [
              0.3333333333333333,
              "#9c179e"
             ],
             [
              0.4444444444444444,
              "#bd3786"
             ],
             [
              0.5555555555555556,
              "#d8576b"
             ],
             [
              0.6666666666666666,
              "#ed7953"
             ],
             [
              0.7777777777777778,
              "#fb9f3a"
             ],
             [
              0.8888888888888888,
              "#fdca26"
             ],
             [
              1,
              "#f0f921"
             ]
            ],
            "type": "contour"
           }
          ],
          "contourcarpet": [
           {
            "colorbar": {
             "outlinewidth": 0,
             "ticks": ""
            },
            "type": "contourcarpet"
           }
          ],
          "heatmap": [
           {
            "colorbar": {
             "outlinewidth": 0,
             "ticks": ""
            },
            "colorscale": [
             [
              0,
              "#0d0887"
             ],
             [
              0.1111111111111111,
              "#46039f"
             ],
             [
              0.2222222222222222,
              "#7201a8"
             ],
             [
              0.3333333333333333,
              "#9c179e"
             ],
             [
              0.4444444444444444,
              "#bd3786"
             ],
             [
              0.5555555555555556,
              "#d8576b"
             ],
             [
              0.6666666666666666,
              "#ed7953"
             ],
             [
              0.7777777777777778,
              "#fb9f3a"
             ],
             [
              0.8888888888888888,
              "#fdca26"
             ],
             [
              1,
              "#f0f921"
             ]
            ],
            "type": "heatmap"
           }
          ],
          "heatmapgl": [
           {
            "colorbar": {
             "outlinewidth": 0,
             "ticks": ""
            },
            "colorscale": [
             [
              0,
              "#0d0887"
             ],
             [
              0.1111111111111111,
              "#46039f"
             ],
             [
              0.2222222222222222,
              "#7201a8"
             ],
             [
              0.3333333333333333,
              "#9c179e"
             ],
             [
              0.4444444444444444,
              "#bd3786"
             ],
             [
              0.5555555555555556,
              "#d8576b"
             ],
             [
              0.6666666666666666,
              "#ed7953"
             ],
             [
              0.7777777777777778,
              "#fb9f3a"
             ],
             [
              0.8888888888888888,
              "#fdca26"
             ],
             [
              1,
              "#f0f921"
             ]
            ],
            "type": "heatmapgl"
           }
          ],
          "histogram": [
           {
            "marker": {
             "pattern": {
              "fillmode": "overlay",
              "size": 10,
              "solidity": 0.2
             }
            },
            "type": "histogram"
           }
          ],
          "histogram2d": [
           {
            "colorbar": {
             "outlinewidth": 0,
             "ticks": ""
            },
            "colorscale": [
             [
              0,
              "#0d0887"
             ],
             [
              0.1111111111111111,
              "#46039f"
             ],
             [
              0.2222222222222222,
              "#7201a8"
             ],
             [
              0.3333333333333333,
              "#9c179e"
             ],
             [
              0.4444444444444444,
              "#bd3786"
             ],
             [
              0.5555555555555556,
              "#d8576b"
             ],
             [
              0.6666666666666666,
              "#ed7953"
             ],
             [
              0.7777777777777778,
              "#fb9f3a"
             ],
             [
              0.8888888888888888,
              "#fdca26"
             ],
             [
              1,
              "#f0f921"
             ]
            ],
            "type": "histogram2d"
           }
          ],
          "histogram2dcontour": [
           {
            "colorbar": {
             "outlinewidth": 0,
             "ticks": ""
            },
            "colorscale": [
             [
              0,
              "#0d0887"
             ],
             [
              0.1111111111111111,
              "#46039f"
             ],
             [
              0.2222222222222222,
              "#7201a8"
             ],
             [
              0.3333333333333333,
              "#9c179e"
             ],
             [
              0.4444444444444444,
              "#bd3786"
             ],
             [
              0.5555555555555556,
              "#d8576b"
             ],
             [
              0.6666666666666666,
              "#ed7953"
             ],
             [
              0.7777777777777778,
              "#fb9f3a"
             ],
             [
              0.8888888888888888,
              "#fdca26"
             ],
             [
              1,
              "#f0f921"
             ]
            ],
            "type": "histogram2dcontour"
           }
          ],
          "mesh3d": [
           {
            "colorbar": {
             "outlinewidth": 0,
             "ticks": ""
            },
            "type": "mesh3d"
           }
          ],
          "parcoords": [
           {
            "line": {
             "colorbar": {
              "outlinewidth": 0,
              "ticks": ""
             }
            },
            "type": "parcoords"
           }
          ],
          "pie": [
           {
            "automargin": true,
            "type": "pie"
           }
          ],
          "scatter": [
           {
            "fillpattern": {
             "fillmode": "overlay",
             "size": 10,
             "solidity": 0.2
            },
            "type": "scatter"
           }
          ],
          "scatter3d": [
           {
            "line": {
             "colorbar": {
              "outlinewidth": 0,
              "ticks": ""
             }
            },
            "marker": {
             "colorbar": {
              "outlinewidth": 0,
              "ticks": ""
             }
            },
            "type": "scatter3d"
           }
          ],
          "scattercarpet": [
           {
            "marker": {
             "colorbar": {
              "outlinewidth": 0,
              "ticks": ""
             }
            },
            "type": "scattercarpet"
           }
          ],
          "scattergeo": [
           {
            "marker": {
             "colorbar": {
              "outlinewidth": 0,
              "ticks": ""
             }
            },
            "type": "scattergeo"
           }
          ],
          "scattergl": [
           {
            "marker": {
             "colorbar": {
              "outlinewidth": 0,
              "ticks": ""
             }
            },
            "type": "scattergl"
           }
          ],
          "scattermapbox": [
           {
            "marker": {
             "colorbar": {
              "outlinewidth": 0,
              "ticks": ""
             }
            },
            "type": "scattermapbox"
           }
          ],
          "scatterpolar": [
           {
            "marker": {
             "colorbar": {
              "outlinewidth": 0,
              "ticks": ""
             }
            },
            "type": "scatterpolar"
           }
          ],
          "scatterpolargl": [
           {
            "marker": {
             "colorbar": {
              "outlinewidth": 0,
              "ticks": ""
             }
            },
            "type": "scatterpolargl"
           }
          ],
          "scatterternary": [
           {
            "marker": {
             "colorbar": {
              "outlinewidth": 0,
              "ticks": ""
             }
            },
            "type": "scatterternary"
           }
          ],
          "surface": [
           {
            "colorbar": {
             "outlinewidth": 0,
             "ticks": ""
            },
            "colorscale": [
             [
              0,
              "#0d0887"
             ],
             [
              0.1111111111111111,
              "#46039f"
             ],
             [
              0.2222222222222222,
              "#7201a8"
             ],
             [
              0.3333333333333333,
              "#9c179e"
             ],
             [
              0.4444444444444444,
              "#bd3786"
             ],
             [
              0.5555555555555556,
              "#d8576b"
             ],
             [
              0.6666666666666666,
              "#ed7953"
             ],
             [
              0.7777777777777778,
              "#fb9f3a"
             ],
             [
              0.8888888888888888,
              "#fdca26"
             ],
             [
              1,
              "#f0f921"
             ]
            ],
            "type": "surface"
           }
          ],
          "table": [
           {
            "cells": {
             "fill": {
              "color": "#EBF0F8"
             },
             "line": {
              "color": "white"
             }
            },
            "header": {
             "fill": {
              "color": "#C8D4E3"
             },
             "line": {
              "color": "white"
             }
            },
            "type": "table"
           }
          ]
         },
         "layout": {
          "annotationdefaults": {
           "arrowcolor": "#2a3f5f",
           "arrowhead": 0,
           "arrowwidth": 1
          },
          "autotypenumbers": "strict",
          "coloraxis": {
           "colorbar": {
            "outlinewidth": 0,
            "ticks": ""
           }
          },
          "colorscale": {
           "diverging": [
            [
             0,
             "#8e0152"
            ],
            [
             0.1,
             "#c51b7d"
            ],
            [
             0.2,
             "#de77ae"
            ],
            [
             0.3,
             "#f1b6da"
            ],
            [
             0.4,
             "#fde0ef"
            ],
            [
             0.5,
             "#f7f7f7"
            ],
            [
             0.6,
             "#e6f5d0"
            ],
            [
             0.7,
             "#b8e186"
            ],
            [
             0.8,
             "#7fbc41"
            ],
            [
             0.9,
             "#4d9221"
            ],
            [
             1,
             "#276419"
            ]
           ],
           "sequential": [
            [
             0,
             "#0d0887"
            ],
            [
             0.1111111111111111,
             "#46039f"
            ],
            [
             0.2222222222222222,
             "#7201a8"
            ],
            [
             0.3333333333333333,
             "#9c179e"
            ],
            [
             0.4444444444444444,
             "#bd3786"
            ],
            [
             0.5555555555555556,
             "#d8576b"
            ],
            [
             0.6666666666666666,
             "#ed7953"
            ],
            [
             0.7777777777777778,
             "#fb9f3a"
            ],
            [
             0.8888888888888888,
             "#fdca26"
            ],
            [
             1,
             "#f0f921"
            ]
           ],
           "sequentialminus": [
            [
             0,
             "#0d0887"
            ],
            [
             0.1111111111111111,
             "#46039f"
            ],
            [
             0.2222222222222222,
             "#7201a8"
            ],
            [
             0.3333333333333333,
             "#9c179e"
            ],
            [
             0.4444444444444444,
             "#bd3786"
            ],
            [
             0.5555555555555556,
             "#d8576b"
            ],
            [
             0.6666666666666666,
             "#ed7953"
            ],
            [
             0.7777777777777778,
             "#fb9f3a"
            ],
            [
             0.8888888888888888,
             "#fdca26"
            ],
            [
             1,
             "#f0f921"
            ]
           ]
          },
          "colorway": [
           "#636efa",
           "#EF553B",
           "#00cc96",
           "#ab63fa",
           "#FFA15A",
           "#19d3f3",
           "#FF6692",
           "#B6E880",
           "#FF97FF",
           "#FECB52"
          ],
          "font": {
           "color": "#2a3f5f"
          },
          "geo": {
           "bgcolor": "white",
           "lakecolor": "white",
           "landcolor": "#E5ECF6",
           "showlakes": true,
           "showland": true,
           "subunitcolor": "white"
          },
          "hoverlabel": {
           "align": "left"
          },
          "hovermode": "closest",
          "mapbox": {
           "style": "light"
          },
          "paper_bgcolor": "white",
          "plot_bgcolor": "#E5ECF6",
          "polar": {
           "angularaxis": {
            "gridcolor": "white",
            "linecolor": "white",
            "ticks": ""
           },
           "bgcolor": "#E5ECF6",
           "radialaxis": {
            "gridcolor": "white",
            "linecolor": "white",
            "ticks": ""
           }
          },
          "scene": {
           "xaxis": {
            "backgroundcolor": "#E5ECF6",
            "gridcolor": "white",
            "gridwidth": 2,
            "linecolor": "white",
            "showbackground": true,
            "ticks": "",
            "zerolinecolor": "white"
           },
           "yaxis": {
            "backgroundcolor": "#E5ECF6",
            "gridcolor": "white",
            "gridwidth": 2,
            "linecolor": "white",
            "showbackground": true,
            "ticks": "",
            "zerolinecolor": "white"
           },
           "zaxis": {
            "backgroundcolor": "#E5ECF6",
            "gridcolor": "white",
            "gridwidth": 2,
            "linecolor": "white",
            "showbackground": true,
            "ticks": "",
            "zerolinecolor": "white"
           }
          },
          "shapedefaults": {
           "line": {
            "color": "#2a3f5f"
           }
          },
          "ternary": {
           "aaxis": {
            "gridcolor": "white",
            "linecolor": "white",
            "ticks": ""
           },
           "baxis": {
            "gridcolor": "white",
            "linecolor": "white",
            "ticks": ""
           },
           "bgcolor": "#E5ECF6",
           "caxis": {
            "gridcolor": "white",
            "linecolor": "white",
            "ticks": ""
           }
          },
          "title": {
           "x": 0.05
          },
          "xaxis": {
           "automargin": true,
           "gridcolor": "white",
           "linecolor": "white",
           "ticks": "",
           "title": {
            "standoff": 15
           },
           "zerolinecolor": "white",
           "zerolinewidth": 2
          },
          "yaxis": {
           "automargin": true,
           "gridcolor": "white",
           "linecolor": "white",
           "ticks": "",
           "title": {
            "standoff": 15
           },
           "zerolinecolor": "white",
           "zerolinewidth": 2
          }
         }
        },
        "xaxis": {
         "anchor": "y",
         "autorange": true,
         "domain": [
          0,
          1
         ],
         "range": [
          -25,
          125
         ],
         "title": {
          "text": "remote_ratio"
         },
         "type": "linear"
        },
        "yaxis": {
         "anchor": "x",
         "autorange": true,
         "domain": [
          0,
          1
         ],
         "range": [
          -30315.5,
          633174.5
         ],
         "title": {
          "text": "salary_in_usd"
         },
         "type": "linear"
        }
       }
      },
      "image/png": "[encoded data removed]",
      "text/html": [
       "<div>                            <div id=\"2619f5ba-86c9-46f4-9805-8e776f78ee34\" class=\"plotly-graph-div\" style=\"height:525px; width:100%;\"></div>            <script type=\"text/javascript\">                require([\"plotly\"], function(Plotly) {                    window.PLOTLYENV=window.PLOTLYENV || {};                                    if (document.getElementById(\"2619f5ba-86c9-46f4-9805-8e776f78ee34\")) {                    Plotly.newPlot(                        \"2619f5ba-86c9-46f4-9805-8e776f78ee34\",                        [{\"alignmentgroup\":\"True\",\"hovertemplate\":\"remote_ratio=%{x}<br>salary_in_usd=%{y}<extra></extra>\",\"legendgroup\":\"\",\"marker\":{\"color\":\"#636efa\"},\"name\":\"\",\"notched\":false,\"offsetgroup\":\"\",\"orientation\":\"v\",\"showlegend\":false,\"x\":[0,0,50,0,50,100,100,50,100,50,0,0,0,100,100,50,100,100,50,100,0,100,50,0,0,100,50,0,100,50,100,100,100,0,50,50,100,50,100,100,100,50,0,100,50,100,100,100,100,50,0,100,50,100,100,100,100,100,50,100,100,100,50,100,100,50,0,100,100,0,50,50,50,100,100,50,100,50,100,100,100,100,50,100,100,100,50,100,100,100,100,100,100,0,50,50,100,100,100,100,0,100,50,0,0,50,100,100,100,100,50,100,100,100,100,100,100,100,100,100,50,100,100,0,50,100,50,0,100,50,50,50,100,100,0,100,50,50,0,100,100,0,0,100,100,50,50,100,100,100,0,100,100,100,100,50,100,50,100,100,50,0,50,50,50,100,100,0,50,100,100,100,100,100,50,100,0,100,50,100,0,50,0,50,50,100,100,100,50,50,100,50,0,100,50,50,100,100,50,100,50,100,100,100,100,0,100,0,0,0,50,50,50,0,50,100,50,100,100,100,50,0,50,100,100,100,50,0,100,100,100,100,100,100,0,100,100,0,50,100,100,100,100,100,50,50,0,50,100,50,100,100,100,100,50,100,50,0,50,50,100,0,100,50,0,0,100,50,100,0,0,100,50,100,50,100,50,100,100,0,100,100,50,50,100,50,50,100,100,100,0,0,100,100,100,100,100,100,0,0,100,100,100,0,0,0,0,100,100,0,0,0,0,100,100,100,100,0,0,0,0,0,0,100,100,100,100,100,100,100,100,100,100,100,100,100,100,100,100,100,100,0,0,0,100,100,100,100,0,0,0,100,100,100,100,100,0,100,0,0,100,100,0,0,0,100,0,100,100,100,100,100,100,50,100,0,100,0,0,0,100,100,100,0,100,100,100,100,0,0,100,0,100,100,100,0,0,100,100,100,100,100,100,0,100,100,100,100,0,0,0,100,100,0,100,100,100,100,100,100,100,100,100,100,100,100,0,100,100,100,100,100,50,100,0,50,100,0,100,100,50,50,50,100,100,100,50,100,100,100,100,100,100,0,0,100,100,100,100,100,100,100,100,100,100,100,50,100,100,100,100,100,100,100,50,100,100,50,100,100,100,100,100,100,50,100,0,100,100,100,50,100,100,0,100,100,100,0,100,100,100,100,100,100,100,100,100,0,0,100,100,100,100,0,0,100,100,0,0,100,100,100,100,0,100,100,100,100,0,0,0,0,0,100,100,100,0,0,100,100,100,100,100,100,100,100,100,100,100,0,100,100,100,100,100,100,100,100,0,0,100,100,0,100,100],\"x0\":\" \",\"xaxis\":\"x\",\"y\":[79833,260000,109024,20000,150000,72000,190000,35735,135000,125000,51321,40481,39916,87000,85000,8000,41689,114047,5707,56000,43331,6072,47899,98000,115000,325000,42000,33511,100000,117104,59303,70000,68428,450000,46759,74130,103000,250000,10000,138000,45760,79833,50180,106000,112872,15966,76958,188000,105000,70139,6072,91000,45896,54742,60000,148261,38776,118000,120000,138350,110000,130800,21669,412000,45618,62726,49268,190200,105000,91237,62726,42197,82528,150000,235000,53192,100000,5409,270000,80000,79197,140000,54238,47282,153667,28476,59102,110000,170000,80000,88654,76833,19609,276000,29751,89294,12000,450000,70000,95746,75000,150000,36259,62000,73000,51519,187442,115000,150000,30428,94564,113476,103160,12000,45391,225000,50000,40189,90000,200000,60000,200000,50000,110037,10354,151000,120000,9466,20000,40570,100000,49646,38400,24000,100000,90000,63711,77364,220000,80000,135000,240000,150000,82500,100000,82744,62649,90000,153000,160000,168000,150000,75774,13400,144000,127221,119059,423000,120000,125000,230000,85000,28369,63831,130026,165000,80000,250000,55000,150000,170000,82528,60000,235000,60757,174000,2859,40038,81000,5679,22611,90734,26005,61896,12000,4000,50000,69741,76833,74000,152000,21844,18000,174000,96113,147000,9272,24342,54094,90000,61467,195000,37825,50000,160000,12901,200000,165000,20000,120000,24823,56738,66022,5882,24823,185000,28609,88654,140000,46597,116914,33808,56256,225000,416000,87738,88654,135000,71786,16228,256000,200000,200000,180000,110000,63810,46809,4000,21637,103691,80000,110000,165000,18053,72212,36643,12103,96282,170000,115000,90000,600000,28399,93000,99703,173762,185000,141846,130000,63831,16904,66265,25532,160000,93150,111775,28016,65013,72500,18907,76833,85000,77684,100000,58000,55000,20171,59102,112000,100000,69741,105000,69999,94665,102839,109000,51064,135000,155000,120600,130000,90000,170000,150000,102100,84900,136620,99360,117789,104702,146000,123000,52351,99000,116000,106260,126500,242000,200000,65438,39263,78526,52351,165220,45807,120160,90320,181940,132320,220110,160080,180000,120000,124190,130000,110000,170000,115500,112900,165400,132320,167000,243900,136600,109280,128875,93700,224000,167875,175000,156600,108800,95550,113000,135000,161342,137141,167000,78526,65438,150000,211500,192400,90700,130000,61300,160000,138600,136000,58000,135000,170000,189650,164996,54957,118187,132000,208775,147800,136994,101570,128875,93700,79039,37300,164000,155000,124333,98158,120000,145000,105400,87932,117789,215300,158200,209100,154600,115934,81666,175000,98158,183600,52351,180000,71982,45807,65949,49461,78526,58894,260000,60000,63900,160000,112300,241000,159000,180000,80000,82900,100800,49461,140400,39263,43966,32974,87932,76940,104702,91614,65949,87932,43966,32974,98158,215300,76940,180000,21983,80000,78791,196979,120000,125000,37236,105000,87932,18442,31615,58255,100000,54957,18442,162674,120000,144000,104890,100000,140000,135000,50000,220000,183228,91614,185100,220000,200000,120000,120000,65000,324000,216000,210000,120000,230000,100000,100000,31875,200000,75000,35590,78791,100000,153000,58035,165000,93427,52396,62651,32974,40000,87425,115000,86703,75000,64849,120000,157000,150000,70912,65000,71444,20000,48000,152500,68147,122346,380000,69336,10000,20000,405000,135000,177000,78000,100000,85000,75000,214000,192600,266400,213120,141300,102100,115934,81666,206699,99100,130000,110500,99050,160000,205300,176000,144000,200100,145000,70500,205300,140400,205300,184700,175100,140250,116150,54000,65438,80000,210000,69000,150075,25000,126500,106260,220110,160080,105000,110925,45807,60000,192564,144854,150000,150260,109280,160000,130000,67000,52000,154000,126000,129000,150000,200000],\"y0\":\" \",\"yaxis\":\"y\",\"type\":\"box\"}],                        {\"template\":{\"data\":{\"histogram2dcontour\":[{\"type\":\"histogram2dcontour\",\"colorbar\":{\"outlinewidth\":0,\"ticks\":\"\"},\"colorscale\":[[0.0,\"#0d0887\"],[0.1111111111111111,\"#46039f\"],[0.2222222222222222,\"#7201a8\"],[0.3333333333333333,\"#9c179e\"],[0.4444444444444444,\"#bd3786\"],[0.5555555555555556,\"#d8576b\"],[0.6666666666666666,\"#ed7953\"],[0.7777777777777778,\"#fb9f3a\"],[0.8888888888888888,\"#fdca26\"],[1.0,\"#f0f921\"]]}],\"choropleth\":[{\"type\":\"choropleth\",\"colorbar\":{\"outlinewidth\":0,\"ticks\":\"\"}}],\"histogram2d\":[{\"type\":\"histogram2d\",\"colorbar\":{\"outlinewidth\":0,\"ticks\":\"\"},\"colorscale\":[[0.0,\"#0d0887\"],[0.1111111111111111,\"#46039f\"],[0.2222222222222222,\"#7201a8\"],[0.3333333333333333,\"#9c179e\"],[0.4444444444444444,\"#bd3786\"],[0.5555555555555556,\"#d8576b\"],[0.6666666666666666,\"#ed7953\"],[0.7777777777777778,\"#fb9f3a\"],[0.8888888888888888,\"#fdca26\"],[1.0,\"#f0f921\"]]}],\"heatmap\":[{\"type\":\"heatmap\",\"colorbar\":{\"outlinewidth\":0,\"ticks\":\"\"},\"colorscale\":[[0.0,\"#0d0887\"],[0.1111111111111111,\"#46039f\"],[0.2222222222222222,\"#7201a8\"],[0.3333333333333333,\"#9c179e\"],[0.4444444444444444,\"#bd3786\"],[0.5555555555555556,\"#d8576b\"],[0.6666666666666666,\"#ed7953\"],[0.7777777777777778,\"#fb9f3a\"],[0.8888888888888888,\"#fdca26\"],[1.0,\"#f0f921\"]]}],\"heatmapgl\":[{\"type\":\"heatmapgl\",\"colorbar\":{\"outlinewidth\":0,\"ticks\":\"\"},\"colorscale\":[[0.0,\"#0d0887\"],[0.1111111111111111,\"#46039f\"],[0.2222222222222222,\"#7201a8\"],[0.3333333333333333,\"#9c179e\"],[0.4444444444444444,\"#bd3786\"],[0.5555555555555556,\"#d8576b\"],[0.6666666666666666,\"#ed7953\"],[0.7777777777777778,\"#fb9f3a\"],[0.8888888888888888,\"#fdca26\"],[1.0,\"#f0f921\"]]}],\"contourcarpet\":[{\"type\":\"contourcarpet\",\"colorbar\":{\"outlinewidth\":0,\"ticks\":\"\"}}],\"contour\":[{\"type\":\"contour\",\"colorbar\":{\"outlinewidth\":0,\"ticks\":\"\"},\"colorscale\":[[0.0,\"#0d0887\"],[0.1111111111111111,\"#46039f\"],[0.2222222222222222,\"#7201a8\"],[0.3333333333333333,\"#9c179e\"],[0.4444444444444444,\"#bd3786\"],[0.5555555555555556,\"#d8576b\"],[0.6666666666666666,\"#ed7953\"],[0.7777777777777778,\"#fb9f3a\"],[0.8888888888888888,\"#fdca26\"],[1.0,\"#f0f921\"]]}],\"surface\":[{\"type\":\"surface\",\"colorbar\":{\"outlinewidth\":0,\"ticks\":\"\"},\"colorscale\":[[0.0,\"#0d0887\"],[0.1111111111111111,\"#46039f\"],[0.2222222222222222,\"#7201a8\"],[0.3333333333333333,\"#9c179e\"],[0.4444444444444444,\"#bd3786\"],[0.5555555555555556,\"#d8576b\"],[0.6666666666666666,\"#ed7953\"],[0.7777777777777778,\"#fb9f3a\"],[0.8888888888888888,\"#fdca26\"],[1.0,\"#f0f921\"]]}],\"mesh3d\":[{\"type\":\"mesh3d\",\"colorbar\":{\"outlinewidth\":0,\"ticks\":\"\"}}],\"scatter\":[{\"fillpattern\":{\"fillmode\":\"overlay\",\"size\":10,\"solidity\":0.2},\"type\":\"scatter\"}],\"parcoords\":[{\"type\":\"parcoords\",\"line\":{\"colorbar\":{\"outlinewidth\":0,\"ticks\":\"\"}}}],\"scatterpolargl\":[{\"type\":\"scatterpolargl\",\"marker\":{\"colorbar\":{\"outlinewidth\":0,\"ticks\":\"\"}}}],\"bar\":[{\"error_x\":{\"color\":\"#2a3f5f\"},\"error_y\":{\"color\":\"#2a3f5f\"},\"marker\":{\"line\":{\"color\":\"#E5ECF6\",\"width\":0.5},\"pattern\":{\"fillmode\":\"overlay\",\"size\":10,\"solidity\":0.2}},\"type\":\"bar\"}],\"scattergeo\":[{\"type\":\"scattergeo\",\"marker\":{\"colorbar\":{\"outlinewidth\":0,\"ticks\":\"\"}}}],\"scatterpolar\":[{\"type\":\"scatterpolar\",\"marker\":{\"colorbar\":{\"outlinewidth\":0,\"ticks\":\"\"}}}],\"histogram\":[{\"marker\":{\"pattern\":{\"fillmode\":\"overlay\",\"size\":10,\"solidity\":0.2}},\"type\":\"histogram\"}],\"scattergl\":[{\"type\":\"scattergl\",\"marker\":{\"colorbar\":{\"outlinewidth\":0,\"ticks\":\"\"}}}],\"scatter3d\":[{\"type\":\"scatter3d\",\"line\":{\"colorbar\":{\"outlinewidth\":0,\"ticks\":\"\"}},\"marker\":{\"colorbar\":{\"outlinewidth\":0,\"ticks\":\"\"}}}],\"scattermapbox\":[{\"type\":\"scattermapbox\",\"marker\":{\"colorbar\":{\"outlinewidth\":0,\"ticks\":\"\"}}}],\"scatterternary\":[{\"type\":\"scatterternary\",\"marker\":{\"colorbar\":{\"outlinewidth\":0,\"ticks\":\"\"}}}],\"scattercarpet\":[{\"type\":\"scattercarpet\",\"marker\":{\"colorbar\":{\"outlinewidth\":0,\"ticks\":\"\"}}}],\"carpet\":[{\"aaxis\":{\"endlinecolor\":\"#2a3f5f\",\"gridcolor\":\"white\",\"linecolor\":\"white\",\"minorgridcolor\":\"white\",\"startlinecolor\":\"#2a3f5f\"},\"baxis\":{\"endlinecolor\":\"#2a3f5f\",\"gridcolor\":\"white\",\"linecolor\":\"white\",\"minorgridcolor\":\"white\",\"startlinecolor\":\"#2a3f5f\"},\"type\":\"carpet\"}],\"table\":[{\"cells\":{\"fill\":{\"color\":\"#EBF0F8\"},\"line\":{\"color\":\"white\"}},\"header\":{\"fill\":{\"color\":\"#C8D4E3\"},\"line\":{\"color\":\"white\"}},\"type\":\"table\"}],\"barpolar\":[{\"marker\":{\"line\":{\"color\":\"#E5ECF6\",\"width\":0.5},\"pattern\":{\"fillmode\":\"overlay\",\"size\":10,\"solidity\":0.2}},\"type\":\"barpolar\"}],\"pie\":[{\"automargin\":true,\"type\":\"pie\"}]},\"layout\":{\"autotypenumbers\":\"strict\",\"colorway\":[\"#636efa\",\"#EF553B\",\"#00cc96\",\"#ab63fa\",\"#FFA15A\",\"#19d3f3\",\"#FF6692\",\"#B6E880\",\"#FF97FF\",\"#FECB52\"],\"font\":{\"color\":\"#2a3f5f\"},\"hovermode\":\"closest\",\"hoverlabel\":{\"align\":\"left\"},\"paper_bgcolor\":\"white\",\"plot_bgcolor\":\"#E5ECF6\",\"polar\":{\"bgcolor\":\"#E5ECF6\",\"angularaxis\":{\"gridcolor\":\"white\",\"linecolor\":\"white\",\"ticks\":\"\"},\"radialaxis\":{\"gridcolor\":\"white\",\"linecolor\":\"white\",\"ticks\":\"\"}},\"ternary\":{\"bgcolor\":\"#E5ECF6\",\"aaxis\":{\"gridcolor\":\"white\",\"linecolor\":\"white\",\"ticks\":\"\"},\"baxis\":{\"gridcolor\":\"white\",\"linecolor\":\"white\",\"ticks\":\"\"},\"caxis\":{\"gridcolor\":\"white\",\"linecolor\":\"white\",\"ticks\":\"\"}},\"coloraxis\":{\"colorbar\":{\"outlinewidth\":0,\"ticks\":\"\"}},\"colorscale\":{\"sequential\":[[0.0,\"#0d0887\"],[0.1111111111111111,\"#46039f\"],[0.2222222222222222,\"#7201a8\"],[0.3333333333333333,\"#9c179e\"],[0.4444444444444444,\"#bd3786\"],[0.5555555555555556,\"#d8576b\"],[0.6666666666666666,\"#ed7953\"],[0.7777777777777778,\"#fb9f3a\"],[0.8888888888888888,\"#fdca26\"],[1.0,\"#f0f921\"]],\"sequentialminus\":[[0.0,\"#0d0887\"],[0.1111111111111111,\"#46039f\"],[0.2222222222222222,\"#7201a8\"],[0.3333333333333333,\"#9c179e\"],[0.4444444444444444,\"#bd3786\"],[0.5555555555555556,\"#d8576b\"],[0.6666666666666666,\"#ed7953\"],[0.7777777777777778,\"#fb9f3a\"],[0.8888888888888888,\"#fdca26\"],[1.0,\"#f0f921\"]],\"diverging\":[[0,\"#8e0152\"],[0.1,\"#c51b7d\"],[0.2,\"#de77ae\"],[0.3,\"#f1b6da\"],[0.4,\"#fde0ef\"],[0.5,\"#f7f7f7\"],[0.6,\"#e6f5d0\"],[0.7,\"#b8e186\"],[0.8,\"#7fbc41\"],[0.9,\"#4d9221\"],[1,\"#276419\"]]},\"xaxis\":{\"gridcolor\":\"white\",\"linecolor\":\"white\",\"ticks\":\"\",\"title\":{\"standoff\":15},\"zerolinecolor\":\"white\",\"automargin\":true,\"zerolinewidth\":2},\"yaxis\":{\"gridcolor\":\"white\",\"linecolor\":\"white\",\"ticks\":\"\",\"title\":{\"standoff\":15},\"zerolinecolor\":\"white\",\"automargin\":true,\"zerolinewidth\":2},\"scene\":{\"xaxis\":{\"backgroundcolor\":\"#E5ECF6\",\"gridcolor\":\"white\",\"linecolor\":\"white\",\"showbackground\":true,\"ticks\":\"\",\"zerolinecolor\":\"white\",\"gridwidth\":2},\"yaxis\":{\"backgroundcolor\":\"#E5ECF6\",\"gridcolor\":\"white\",\"linecolor\":\"white\",\"showbackground\":true,\"ticks\":\"\",\"zerolinecolor\":\"white\",\"gridwidth\":2},\"zaxis\":{\"backgroundcolor\":\"#E5ECF6\",\"gridcolor\":\"white\",\"linecolor\":\"white\",\"showbackground\":true,\"ticks\":\"\",\"zerolinecolor\":\"white\",\"gridwidth\":2}},\"shapedefaults\":{\"line\":{\"color\":\"#2a3f5f\"}},\"annotationdefaults\":{\"arrowcolor\":\"#2a3f5f\",\"arrowhead\":0,\"arrowwidth\":1},\"geo\":{\"bgcolor\":\"white\",\"landcolor\":\"#E5ECF6\",\"subunitcolor\":\"white\",\"showland\":true,\"showlakes\":true,\"lakecolor\":\"white\"},\"title\":{\"x\":0.05},\"mapbox\":{\"style\":\"light\"}}},\"xaxis\":{\"anchor\":\"y\",\"domain\":[0.0,1.0],\"title\":{\"text\":\"remote_ratio\"}},\"yaxis\":{\"anchor\":\"x\",\"domain\":[0.0,1.0],\"title\":{\"text\":\"salary_in_usd\"}},\"legend\":{\"tracegroupgap\":0},\"margin\":{\"t\":60},\"boxmode\":\"group\"},                        {\"responsive\": true}                    ).then(function(){\n",
       "                            \n",
       "var gd = document.getElementById('2619f5ba-86c9-46f4-9805-8e776f78ee34');\n",
       "var x = new MutationObserver(function (mutations, observer) {{\n",
       "        var display = window.getComputedStyle(gd).display;\n",
       "        if (!display || display === 'none') {{\n",
       "            console.log([gd, 'removed!']);\n",
       "            Plotly.purge(gd);\n",
       "            observer.disconnect();\n",
       "        }}\n",
       "}});\n",
       "\n",
       "// Listen for the removal of the full notebook cells\n",
       "var notebookContainer = gd.closest('#notebook-container');\n",
       "if (notebookContainer) {{\n",
       "    x.observe(notebookContainer, {childList: true});\n",
       "}}\n",
       "\n",
       "// Listen for the clearing of the current output cell\n",
       "var outputEl = gd.closest('.output');\n",
       "if (outputEl) {{\n",
       "    x.observe(outputEl, {childList: true});\n",
       "}}\n",
       "\n",
       "                        })                };                });            </script>        </div>"
      ]
     },
     "metadata": {},
     "output_type": "display_data"
    }
   ],
   "source": [
    "px.box(df, x='remote_ratio', y='salary_in_usd')"
   ]
  }
 ],
 "metadata": {
  "colab": {
   "provenance": [],
   "toc_visible": true
  },
  "kernelspec": {
   "display_name": "Python 3 (ipykernel)",
   "language": "python",
   "name": "python3"
  },
  "language_info": {
   "codemirror_mode": {
    "name": "ipython",
    "version": 3
   },
   "file_extension": ".py",
   "mimetype": "text/x-python",
   "name": "python",
   "nbconvert_exporter": "python",
   "pygments_lexer": "ipython3",
   "version": "3.10.8"
  },
  "widgets": {
   "application/vnd.jupyter.widget-state+json": {
    "02f322afa0174d7ea288b290d3562392": {
     "model_module": "@jupyter-widgets/controls",
     "model_module_version": "1.5.0",
     "model_name": "VBoxModel",
     "state": {
      "_dom_classes": [
       "widget-interact"
      ],
      "_model_module": "@jupyter-widgets/controls",
      "_model_module_version": "1.5.0",
      "_model_name": "VBoxModel",
      "_view_count": null,
      "_view_module": "@jupyter-widgets/controls",
      "_view_module_version": "1.5.0",
      "_view_name": "VBoxView",
      "box_style": "",
      "children": [
       "IPY_MODEL_94fe685c5c8346468cea0c1c37b1aa29",
       "IPY_MODEL_8540b530f76345a1a9e47bac6d1d3b5f"
      ],
      "layout": "IPY_MODEL_efab1d1fd2984d4ea0fc1674a191fecf"
     }
    },
    "0c804badac144fdda3b9c61c37dc0fd2": {
     "model_module": "@jupyter-widgets/base",
     "model_module_version": "1.2.0",
     "model_name": "LayoutModel",
     "state": {
      "_model_module": "@jupyter-widgets/base",
      "_model_module_version": "1.2.0",
      "_model_name": "LayoutModel",
      "_view_count": null,
      "_view_module": "@jupyter-widgets/base",
      "_view_module_version": "1.2.0",
      "_view_name": "LayoutView",
      "align_content": null,
      "align_items": null,
      "align_self": null,
      "border": null,
      "bottom": null,
      "display": null,
      "flex": null,
      "flex_flow": null,
      "grid_area": null,
      "grid_auto_columns": null,
      "grid_auto_flow": null,
      "grid_auto_rows": null,
      "grid_column": null,
      "grid_gap": null,
      "grid_row": null,
      "grid_template_areas": null,
      "grid_template_columns": null,
      "grid_template_rows": null,
      "height": null,
      "justify_content": null,
      "justify_items": null,
      "left": null,
      "margin": null,
      "max_height": null,
      "max_width": null,
      "min_height": null,
      "min_width": null,
      "object_fit": null,
      "object_position": null,
      "order": null,
      "overflow": null,
      "overflow_x": null,
      "overflow_y": null,
      "padding": null,
      "right": null,
      "top": null,
      "visibility": null,
      "width": null
     }
    },
    "258fcfa452e84d97b43ba8df5903695b": {
     "model_module": "@jupyter-widgets/base",
     "model_module_version": "1.2.0",
     "model_name": "LayoutModel",
     "state": {
      "_model_module": "@jupyter-widgets/base",
      "_model_module_version": "1.2.0",
      "_model_name": "LayoutModel",
      "_view_count": null,
      "_view_module": "@jupyter-widgets/base",
      "_view_module_version": "1.2.0",
      "_view_name": "LayoutView",
      "align_content": null,
      "align_items": null,
      "align_self": null,
      "border": null,
      "bottom": null,
      "display": null,
      "flex": null,
      "flex_flow": null,
      "grid_area": null,
      "grid_auto_columns": null,
      "grid_auto_flow": null,
      "grid_auto_rows": null,
      "grid_column": null,
      "grid_gap": null,
      "grid_row": null,
      "grid_template_areas": null,
      "grid_template_columns": null,
      "grid_template_rows": null,
      "height": null,
      "justify_content": null,
      "justify_items": null,
      "left": null,
      "margin": null,
      "max_height": null,
      "max_width": null,
      "min_height": null,
      "min_width": null,
      "object_fit": null,
      "object_position": null,
      "order": null,
      "overflow": null,
      "overflow_x": null,
      "overflow_y": null,
      "padding": null,
      "right": null,
      "top": null,
      "visibility": null,
      "width": null
     }
    },
    "2f5fa10661e6497a86a116cfa4f07ef3": {
     "model_module": "@jupyter-widgets/base",
     "model_module_version": "1.2.0",
     "model_name": "LayoutModel",
     "state": {
      "_model_module": "@jupyter-widgets/base",
      "_model_module_version": "1.2.0",
      "_model_name": "LayoutModel",
      "_view_count": null,
      "_view_module": "@jupyter-widgets/base",
      "_view_module_version": "1.2.0",
      "_view_name": "LayoutView",
      "align_content": null,
      "align_items": null,
      "align_self": null,
      "border": null,
      "bottom": null,
      "display": null,
      "flex": null,
      "flex_flow": null,
      "grid_area": null,
      "grid_auto_columns": null,
      "grid_auto_flow": null,
      "grid_auto_rows": null,
      "grid_column": null,
      "grid_gap": null,
      "grid_row": null,
      "grid_template_areas": null,
      "grid_template_columns": null,
      "grid_template_rows": null,
      "height": null,
      "justify_content": null,
      "justify_items": null,
      "left": null,
      "margin": null,
      "max_height": null,
      "max_width": null,
      "min_height": null,
      "min_width": null,
      "object_fit": null,
      "object_position": null,
      "order": null,
      "overflow": null,
      "overflow_x": null,
      "overflow_y": null,
      "padding": null,
      "right": null,
      "top": null,
      "visibility": null,
      "width": null
     }
    },
    "31895892fee94b819e1c20d4d7aee590": {
     "model_module": "@jupyter-widgets/controls",
     "model_module_version": "1.5.0",
     "model_name": "VBoxModel",
     "state": {
      "_dom_classes": [
       "widget-interact"
      ],
      "_model_module": "@jupyter-widgets/controls",
      "_model_module_version": "1.5.0",
      "_model_name": "VBoxModel",
      "_view_count": null,
      "_view_module": "@jupyter-widgets/controls",
      "_view_module_version": "1.5.0",
      "_view_name": "VBoxView",
      "box_style": "",
      "children": [
       "IPY_MODEL_3b76c9ddb3bd4350a0c61f4fea3e4f0d",
       "IPY_MODEL_681c4dedc42b414a98ceb4471a1a25e1"
      ],
      "layout": "IPY_MODEL_258fcfa452e84d97b43ba8df5903695b"
     }
    },
    "33387779e2814f44bf4f488324bb6b05": {
     "model_module": "@jupyter-widgets/base",
     "model_module_version": "1.2.0",
     "model_name": "LayoutModel",
     "state": {
      "_model_module": "@jupyter-widgets/base",
      "_model_module_version": "1.2.0",
      "_model_name": "LayoutModel",
      "_view_count": null,
      "_view_module": "@jupyter-widgets/base",
      "_view_module_version": "1.2.0",
      "_view_name": "LayoutView",
      "align_content": null,
      "align_items": null,
      "align_self": null,
      "border": null,
      "bottom": null,
      "display": null,
      "flex": null,
      "flex_flow": null,
      "grid_area": null,
      "grid_auto_columns": null,
      "grid_auto_flow": null,
      "grid_auto_rows": null,
      "grid_column": null,
      "grid_gap": null,
      "grid_row": null,
      "grid_template_areas": null,
      "grid_template_columns": null,
      "grid_template_rows": null,
      "height": null,
      "justify_content": null,
      "justify_items": null,
      "left": null,
      "margin": null,
      "max_height": null,
      "max_width": null,
      "min_height": null,
      "min_width": null,
      "object_fit": null,
      "object_position": null,
      "order": null,
      "overflow": null,
      "overflow_x": null,
      "overflow_y": null,
      "padding": null,
      "right": null,
      "top": null,
      "visibility": null,
      "width": null
     }
    },
    "3b76c9ddb3bd4350a0c61f4fea3e4f0d": {
     "model_module": "@jupyter-widgets/controls",
     "model_module_version": "1.5.0",
     "model_name": "DropdownModel",
     "state": {
      "_dom_classes": [],
      "_model_module": "@jupyter-widgets/controls",
      "_model_module_version": "1.5.0",
      "_model_name": "DropdownModel",
      "_options_labels": [
       "experience_level",
       "employment_type",
       "job_title",
       "salary_currency",
       "employee_residence",
       "company_location",
       "company_size",
       "work_year",
       "remote_ratio"
      ],
      "_view_count": null,
      "_view_module": "@jupyter-widgets/controls",
      "_view_module_version": "1.5.0",
      "_view_name": "DropdownView",
      "description": "categorical_column",
      "description_tooltip": null,
      "disabled": false,
      "index": 0,
      "layout": "IPY_MODEL_0c804badac144fdda3b9c61c37dc0fd2",
      "style": "IPY_MODEL_8762127f1f4d4e77a7cc33e2d6336f9f"
     }
    },
    "4946b68fa53a40a88f9d7265e4a7a6bf": {
     "model_module": "@jupyter-widgets/controls",
     "model_module_version": "1.5.0",
     "model_name": "DropdownModel",
     "state": {
      "_dom_classes": [],
      "_model_module": "@jupyter-widgets/controls",
      "_model_module_version": "1.5.0",
      "_model_name": "DropdownModel",
      "_options_labels": [
       "work_year",
       "experience_level",
       "employment_type",
       "job_title",
       "salary",
       "salary_currency",
       "salary_in_usd",
       "employee_residence",
       "remote_ratio",
       "company_location",
       "company_size"
      ],
      "_view_count": null,
      "_view_module": "@jupyter-widgets/controls",
      "_view_module_version": "1.5.0",
      "_view_name": "DropdownView",
      "description": "x",
      "description_tooltip": null,
      "disabled": false,
      "index": 6,
      "layout": "IPY_MODEL_2f5fa10661e6497a86a116cfa4f07ef3",
      "style": "IPY_MODEL_fbec92aff635429081fea65d9d9d5f44"
     }
    },
    "681c4dedc42b414a98ceb4471a1a25e1": {
     "model_module": "@jupyter-widgets/output",
     "model_module_version": "1.0.0",
     "model_name": "OutputModel",
     "state": {
      "_dom_classes": [],
      "_model_module": "@jupyter-widgets/output",
      "_model_module_version": "1.0.0",
      "_model_name": "OutputModel",
      "_view_count": null,
      "_view_module": "@jupyter-widgets/output",
      "_view_module_version": "1.0.0",
      "_view_name": "OutputView",
      "layout": "IPY_MODEL_d5dc9465b45d42c28d2329703922a423",
      "msg_id": "",
      "outputs": [
       {
        "data": {
         "text/html": "<html>\n<head><meta charset=\"utf-8\" /></head>\n<body>\n    <div>            <script src=\"https://cdnjs.cloudflare.com/ajax/libs/mathjax/2.7.5/MathJax.js?config=TeX-AMS-MML_SVG\"></script><script type=\"text/javascript\">if (window.MathJax) {MathJax.Hub.Config({SVG: {font: \"STIX-Web\"}});}</script>                <script type=\"text/javascript\">window.PlotlyConfig = {MathJaxConfig: 'local'};</script>\n        <script src=\"https://cdn.plot.ly/plotly-2.8.3.min.js\"></script>                <div id=\"c7520218-19f4-48bf-9b73-eed0812266ba\" class=\"plotly-graph-div\" style=\"height:525px; width:100%;\"></div>            <script type=\"text/javascript\">                                    window.PLOTLYENV=window.PLOTLYENV || {};                                    if (document.getElementById(\"c7520218-19f4-48bf-9b73-eed0812266ba\")) {                    Plotly.newPlot(                        \"c7520218-19f4-48bf-9b73-eed0812266ba\",                        [{\"alignmentgroup\":\"True\",\"hovertemplate\":\"experience_level=%{x}<br>count=%{y}<extra></extra>\",\"legendgroup\":\"\",\"marker\":{\"color\":\"#636efa\",\"pattern\":{\"shape\":\"\"}},\"name\":\"\",\"offsetgroup\":\"\",\"orientation\":\"v\",\"showlegend\":false,\"textposition\":\"auto\",\"x\":[\"SE\",\"MI\",\"EN\",\"EX\"],\"xaxis\":\"x\",\"y\":[243,208,88,26],\"yaxis\":\"y\",\"type\":\"bar\"}],                        {\"template\":{\"data\":{\"bar\":[{\"error_x\":{\"color\":\"#2a3f5f\"},\"error_y\":{\"color\":\"#2a3f5f\"},\"marker\":{\"line\":{\"color\":\"#E5ECF6\",\"width\":0.5},\"pattern\":{\"fillmode\":\"overlay\",\"size\":10,\"solidity\":0.2}},\"type\":\"bar\"}],\"barpolar\":[{\"marker\":{\"line\":{\"color\":\"#E5ECF6\",\"width\":0.5},\"pattern\":{\"fillmode\":\"overlay\",\"size\":10,\"solidity\":0.2}},\"type\":\"barpolar\"}],\"carpet\":[{\"aaxis\":{\"endlinecolor\":\"#2a3f5f\",\"gridcolor\":\"white\",\"linecolor\":\"white\",\"minorgridcolor\":\"white\",\"startlinecolor\":\"#2a3f5f\"},\"baxis\":{\"endlinecolor\":\"#2a3f5f\",\"gridcolor\":\"white\",\"linecolor\":\"white\",\"minorgridcolor\":\"white\",\"startlinecolor\":\"#2a3f5f\"},\"type\":\"carpet\"}],\"choropleth\":[{\"colorbar\":{\"outlinewidth\":0,\"ticks\":\"\"},\"type\":\"choropleth\"}],\"contour\":[{\"colorbar\":{\"outlinewidth\":0,\"ticks\":\"\"},\"colorscale\":[[0.0,\"#0d0887\"],[0.1111111111111111,\"#46039f\"],[0.2222222222222222,\"#7201a8\"],[0.3333333333333333,\"#9c179e\"],[0.4444444444444444,\"#bd3786\"],[0.5555555555555556,\"#d8576b\"],[0.6666666666666666,\"#ed7953\"],[0.7777777777777778,\"#fb9f3a\"],[0.8888888888888888,\"#fdca26\"],[1.0,\"#f0f921\"]],\"type\":\"contour\"}],\"contourcarpet\":[{\"colorbar\":{\"outlinewidth\":0,\"ticks\":\"\"},\"type\":\"contourcarpet\"}],\"heatmap\":[{\"colorbar\":{\"outlinewidth\":0,\"ticks\":\"\"},\"colorscale\":[[0.0,\"#0d0887\"],[0.1111111111111111,\"#46039f\"],[0.2222222222222222,\"#7201a8\"],[0.3333333333333333,\"#9c179e\"],[0.4444444444444444,\"#bd3786\"],[0.5555555555555556,\"#d8576b\"],[0.6666666666666666,\"#ed7953\"],[0.7777777777777778,\"#fb9f3a\"],[0.8888888888888888,\"#fdca26\"],[1.0,\"#f0f921\"]],\"type\":\"heatmap\"}],\"heatmapgl\":[{\"colorbar\":{\"outlinewidth\":0,\"ticks\":\"\"},\"colorscale\":[[0.0,\"#0d0887\"],[0.1111111111111111,\"#46039f\"],[0.2222222222222222,\"#7201a8\"],[0.3333333333333333,\"#9c179e\"],[0.4444444444444444,\"#bd3786\"],[0.5555555555555556,\"#d8576b\"],[0.6666666666666666,\"#ed7953\"],[0.7777777777777778,\"#fb9f3a\"],[0.8888888888888888,\"#fdca26\"],[1.0,\"#f0f921\"]],\"type\":\"heatmapgl\"}],\"histogram\":[{\"marker\":{\"pattern\":{\"fillmode\":\"overlay\",\"size\":10,\"solidity\":0.2}},\"type\":\"histogram\"}],\"histogram2d\":[{\"colorbar\":{\"outlinewidth\":0,\"ticks\":\"\"},\"colorscale\":[[0.0,\"#0d0887\"],[0.1111111111111111,\"#46039f\"],[0.2222222222222222,\"#7201a8\"],[0.3333333333333333,\"#9c179e\"],[0.4444444444444444,\"#bd3786\"],[0.5555555555555556,\"#d8576b\"],[0.6666666666666666,\"#ed7953\"],[0.7777777777777778,\"#fb9f3a\"],[0.8888888888888888,\"#fdca26\"],[1.0,\"#f0f921\"]],\"type\":\"histogram2d\"}],\"histogram2dcontour\":[{\"colorbar\":{\"outlinewidth\":0,\"ticks\":\"\"},\"colorscale\":[[0.0,\"#0d0887\"],[0.1111111111111111,\"#46039f\"],[0.2222222222222222,\"#7201a8\"],[0.3333333333333333,\"#9c179e\"],[0.4444444444444444,\"#bd3786\"],[0.5555555555555556,\"#d8576b\"],[0.6666666666666666,\"#ed7953\"],[0.7777777777777778,\"#fb9f3a\"],[0.8888888888888888,\"#fdca26\"],[1.0,\"#f0f921\"]],\"type\":\"histogram2dcontour\"}],\"mesh3d\":[{\"colorbar\":{\"outlinewidth\":0,\"ticks\":\"\"},\"type\":\"mesh3d\"}],\"parcoords\":[{\"line\":{\"colorbar\":{\"outlinewidth\":0,\"ticks\":\"\"}},\"type\":\"parcoords\"}],\"pie\":[{\"automargin\":true,\"type\":\"pie\"}],\"scatter\":[{\"marker\":{\"colorbar\":{\"outlinewidth\":0,\"ticks\":\"\"}},\"type\":\"scatter\"}],\"scatter3d\":[{\"line\":{\"colorbar\":{\"outlinewidth\":0,\"ticks\":\"\"}},\"marker\":{\"colorbar\":{\"outlinewidth\":0,\"ticks\":\"\"}},\"type\":\"scatter3d\"}],\"scattercarpet\":[{\"marker\":{\"colorbar\":{\"outlinewidth\":0,\"ticks\":\"\"}},\"type\":\"scattercarpet\"}],\"scattergeo\":[{\"marker\":{\"colorbar\":{\"outlinewidth\":0,\"ticks\":\"\"}},\"type\":\"scattergeo\"}],\"scattergl\":[{\"marker\":{\"colorbar\":{\"outlinewidth\":0,\"ticks\":\"\"}},\"type\":\"scattergl\"}],\"scattermapbox\":[{\"marker\":{\"colorbar\":{\"outlinewidth\":0,\"ticks\":\"\"}},\"type\":\"scattermapbox\"}],\"scatterpolar\":[{\"marker\":{\"colorbar\":{\"outlinewidth\":0,\"ticks\":\"\"}},\"type\":\"scatterpolar\"}],\"scatterpolargl\":[{\"marker\":{\"colorbar\":{\"outlinewidth\":0,\"ticks\":\"\"}},\"type\":\"scatterpolargl\"}],\"scatterternary\":[{\"marker\":{\"colorbar\":{\"outlinewidth\":0,\"ticks\":\"\"}},\"type\":\"scatterternary\"}],\"surface\":[{\"colorbar\":{\"outlinewidth\":0,\"ticks\":\"\"},\"colorscale\":[[0.0,\"#0d0887\"],[0.1111111111111111,\"#46039f\"],[0.2222222222222222,\"#7201a8\"],[0.3333333333333333,\"#9c179e\"],[0.4444444444444444,\"#bd3786\"],[0.5555555555555556,\"#d8576b\"],[0.6666666666666666,\"#ed7953\"],[0.7777777777777778,\"#fb9f3a\"],[0.8888888888888888,\"#fdca26\"],[1.0,\"#f0f921\"]],\"type\":\"surface\"}],\"table\":[{\"cells\":{\"fill\":{\"color\":\"#EBF0F8\"},\"line\":{\"color\":\"white\"}},\"header\":{\"fill\":{\"color\":\"#C8D4E3\"},\"line\":{\"color\":\"white\"}},\"type\":\"table\"}]},\"layout\":{\"annotationdefaults\":{\"arrowcolor\":\"#2a3f5f\",\"arrowhead\":0,\"arrowwidth\":1},\"autotypenumbers\":\"strict\",\"coloraxis\":{\"colorbar\":{\"outlinewidth\":0,\"ticks\":\"\"}},\"colorscale\":{\"diverging\":[[0,\"#8e0152\"],[0.1,\"#c51b7d\"],[0.2,\"#de77ae\"],[0.3,\"#f1b6da\"],[0.4,\"#fde0ef\"],[0.5,\"#f7f7f7\"],[0.6,\"#e6f5d0\"],[0.7,\"#b8e186\"],[0.8,\"#7fbc41\"],[0.9,\"#4d9221\"],[1,\"#276419\"]],\"sequential\":[[0.0,\"#0d0887\"],[0.1111111111111111,\"#46039f\"],[0.2222222222222222,\"#7201a8\"],[0.3333333333333333,\"#9c179e\"],[0.4444444444444444,\"#bd3786\"],[0.5555555555555556,\"#d8576b\"],[0.6666666666666666,\"#ed7953\"],[0.7777777777777778,\"#fb9f3a\"],[0.8888888888888888,\"#fdca26\"],[1.0,\"#f0f921\"]],\"sequentialminus\":[[0.0,\"#0d0887\"],[0.1111111111111111,\"#46039f\"],[0.2222222222222222,\"#7201a8\"],[0.3333333333333333,\"#9c179e\"],[0.4444444444444444,\"#bd3786\"],[0.5555555555555556,\"#d8576b\"],[0.6666666666666666,\"#ed7953\"],[0.7777777777777778,\"#fb9f3a\"],[0.8888888888888888,\"#fdca26\"],[1.0,\"#f0f921\"]]},\"colorway\":[\"#636efa\",\"#EF553B\",\"#00cc96\",\"#ab63fa\",\"#FFA15A\",\"#19d3f3\",\"#FF6692\",\"#B6E880\",\"#FF97FF\",\"#FECB52\"],\"font\":{\"color\":\"#2a3f5f\"},\"geo\":{\"bgcolor\":\"white\",\"lakecolor\":\"white\",\"landcolor\":\"#E5ECF6\",\"showlakes\":true,\"showland\":true,\"subunitcolor\":\"white\"},\"hoverlabel\":{\"align\":\"left\"},\"hovermode\":\"closest\",\"mapbox\":{\"style\":\"light\"},\"paper_bgcolor\":\"white\",\"plot_bgcolor\":\"#E5ECF6\",\"polar\":{\"angularaxis\":{\"gridcolor\":\"white\",\"linecolor\":\"white\",\"ticks\":\"\"},\"bgcolor\":\"#E5ECF6\",\"radialaxis\":{\"gridcolor\":\"white\",\"linecolor\":\"white\",\"ticks\":\"\"}},\"scene\":{\"xaxis\":{\"backgroundcolor\":\"#E5ECF6\",\"gridcolor\":\"white\",\"gridwidth\":2,\"linecolor\":\"white\",\"showbackground\":true,\"ticks\":\"\",\"zerolinecolor\":\"white\"},\"yaxis\":{\"backgroundcolor\":\"#E5ECF6\",\"gridcolor\":\"white\",\"gridwidth\":2,\"linecolor\":\"white\",\"showbackground\":true,\"ticks\":\"\",\"zerolinecolor\":\"white\"},\"zaxis\":{\"backgroundcolor\":\"#E5ECF6\",\"gridcolor\":\"white\",\"gridwidth\":2,\"linecolor\":\"white\",\"showbackground\":true,\"ticks\":\"\",\"zerolinecolor\":\"white\"}},\"shapedefaults\":{\"line\":{\"color\":\"#2a3f5f\"}},\"ternary\":{\"aaxis\":{\"gridcolor\":\"white\",\"linecolor\":\"white\",\"ticks\":\"\"},\"baxis\":{\"gridcolor\":\"white\",\"linecolor\":\"white\",\"ticks\":\"\"},\"bgcolor\":\"#E5ECF6\",\"caxis\":{\"gridcolor\":\"white\",\"linecolor\":\"white\",\"ticks\":\"\"}},\"title\":{\"x\":0.05},\"xaxis\":{\"automargin\":true,\"gridcolor\":\"white\",\"linecolor\":\"white\",\"ticks\":\"\",\"title\":{\"standoff\":15},\"zerolinecolor\":\"white\",\"zerolinewidth\":2},\"yaxis\":{\"automargin\":true,\"gridcolor\":\"white\",\"linecolor\":\"white\",\"ticks\":\"\",\"title\":{\"standoff\":15},\"zerolinecolor\":\"white\",\"zerolinewidth\":2}}},\"xaxis\":{\"anchor\":\"y\",\"domain\":[0.0,1.0],\"title\":{\"text\":\"experience_level\"}},\"yaxis\":{\"anchor\":\"x\",\"domain\":[0.0,1.0],\"title\":{\"text\":\"count\"}},\"legend\":{\"tracegroupgap\":0},\"margin\":{\"t\":60},\"barmode\":\"relative\",\"title\":{\"text\":\"<b>experience_level</b>\",\"x\":0.5}},                        {\"responsive\": true}                    ).then(function(){\n                            \nvar gd = document.getElementById('c7520218-19f4-48bf-9b73-eed0812266ba');\nvar x = new MutationObserver(function (mutations, observer) {{\n        var display = window.getComputedStyle(gd).display;\n        if (!display || display === 'none') {{\n            console.log([gd, 'removed!']);\n            Plotly.purge(gd);\n            observer.disconnect();\n        }}\n}});\n\n// Listen for the removal of the full notebook cells\nvar notebookContainer = gd.closest('#notebook-container');\nif (notebookContainer) {{\n    x.observe(notebookContainer, {childList: true});\n}}\n\n// Listen for the clearing of the current output cell\nvar outputEl = gd.closest('.output');\nif (outputEl) {{\n    x.observe(outputEl, {childList: true});\n}}\n\n                        })                };                            </script>        </div>\n</body>\n</html>"
        },
        "metadata": {},
        "output_type": "display_data"
       }
      ]
     }
    },
    "6bebfe198a1645e9854ef1699076e4d6": {
     "model_module": "@jupyter-widgets/controls",
     "model_module_version": "1.5.0",
     "model_name": "DescriptionStyleModel",
     "state": {
      "_model_module": "@jupyter-widgets/controls",
      "_model_module_version": "1.5.0",
      "_model_name": "DescriptionStyleModel",
      "_view_count": null,
      "_view_module": "@jupyter-widgets/base",
      "_view_module_version": "1.2.0",
      "_view_name": "StyleView",
      "description_width": ""
     }
    },
    "79983c5d238d425aadbbd546742f0770": {
     "model_module": "@jupyter-widgets/controls",
     "model_module_version": "1.5.0",
     "model_name": "DropdownModel",
     "state": {
      "_dom_classes": [],
      "_model_module": "@jupyter-widgets/controls",
      "_model_module_version": "1.5.0",
      "_model_name": "DropdownModel",
      "_options_labels": [
       "work_year",
       "experience_level",
       "employment_type",
       "job_title",
       "salary",
       "salary_currency",
       "salary_in_usd",
       "employee_residence",
       "remote_ratio",
       "company_location",
       "company_size"
      ],
      "_view_count": null,
      "_view_module": "@jupyter-widgets/controls",
      "_view_module_version": "1.5.0",
      "_view_name": "DropdownView",
      "description": "hue",
      "description_tooltip": null,
      "disabled": false,
      "index": 8,
      "layout": "IPY_MODEL_c3d238853abc42f4a97fef7e06fcb156",
      "style": "IPY_MODEL_7c4adec3e0354e35a23673543ca61cf6"
     }
    },
    "7c4adec3e0354e35a23673543ca61cf6": {
     "model_module": "@jupyter-widgets/controls",
     "model_module_version": "1.5.0",
     "model_name": "DescriptionStyleModel",
     "state": {
      "_model_module": "@jupyter-widgets/controls",
      "_model_module_version": "1.5.0",
      "_model_name": "DescriptionStyleModel",
      "_view_count": null,
      "_view_module": "@jupyter-widgets/base",
      "_view_module_version": "1.2.0",
      "_view_name": "StyleView",
      "description_width": ""
     }
    },
    "83415cc8290948b8a651bebc71c3b8e8": {
     "model_module": "@jupyter-widgets/base",
     "model_module_version": "1.2.0",
     "model_name": "LayoutModel",
     "state": {
      "_model_module": "@jupyter-widgets/base",
      "_model_module_version": "1.2.0",
      "_model_name": "LayoutModel",
      "_view_count": null,
      "_view_module": "@jupyter-widgets/base",
      "_view_module_version": "1.2.0",
      "_view_name": "LayoutView",
      "align_content": null,
      "align_items": null,
      "align_self": null,
      "border": null,
      "bottom": null,
      "display": null,
      "flex": null,
      "flex_flow": null,
      "grid_area": null,
      "grid_auto_columns": null,
      "grid_auto_flow": null,
      "grid_auto_rows": null,
      "grid_column": null,
      "grid_gap": null,
      "grid_row": null,
      "grid_template_areas": null,
      "grid_template_columns": null,
      "grid_template_rows": null,
      "height": null,
      "justify_content": null,
      "justify_items": null,
      "left": null,
      "margin": null,
      "max_height": null,
      "max_width": null,
      "min_height": null,
      "min_width": null,
      "object_fit": null,
      "object_position": null,
      "order": null,
      "overflow": null,
      "overflow_x": null,
      "overflow_y": null,
      "padding": null,
      "right": null,
      "top": null,
      "visibility": null,
      "width": null
     }
    },
    "8540b530f76345a1a9e47bac6d1d3b5f": {
     "model_module": "@jupyter-widgets/output",
     "model_module_version": "1.0.0",
     "model_name": "OutputModel",
     "state": {
      "_dom_classes": [],
      "_model_module": "@jupyter-widgets/output",
      "_model_module_version": "1.0.0",
      "_model_name": "OutputModel",
      "_view_count": null,
      "_view_module": "@jupyter-widgets/output",
      "_view_module_version": "1.0.0",
      "_view_name": "OutputView",
      "layout": "IPY_MODEL_fef38aef72894b90966b54601344fd9b",
      "msg_id": "",
      "outputs": [
       {
        "data": {
         "text/html": "<html>\n<head><meta charset=\"utf-8\" /></head>\n<body>\n    <div>            <script src=\"https://cdnjs.cloudflare.com/ajax/libs/mathjax/2.7.5/MathJax.js?config=TeX-AMS-MML_SVG\"></script><script type=\"text/javascript\">if (window.MathJax) {MathJax.Hub.Config({SVG: {font: \"STIX-Web\"}});}</script>                <script type=\"text/javascript\">window.PlotlyConfig = {MathJaxConfig: 'local'};</script>\n        <script src=\"https://cdn.plot.ly/plotly-2.8.3.min.js\"></script>                <div id=\"bebf0a3e-82b9-4e76-84f7-ac6d0a025ca2\" class=\"plotly-graph-div\" style=\"height:525px; width:100%;\"></div>            <script type=\"text/javascript\">                                    window.PLOTLYENV=window.PLOTLYENV || {};                                    if (document.getElementById(\"bebf0a3e-82b9-4e76-84f7-ac6d0a025ca2\")) {                    Plotly.newPlot(                        \"bebf0a3e-82b9-4e76-84f7-ac6d0a025ca2\",                        [{\"domain\":{\"x\":[0.0,1.0],\"y\":[0.0,1.0]},\"hovertemplate\":\"experience_level=%{label}<br>count=%{value}<extra></extra>\",\"labels\":[\"SE\",\"MI\",\"EN\",\"EX\"],\"legendgroup\":\"\",\"name\":\"\",\"showlegend\":true,\"values\":[243,208,88,26],\"type\":\"pie\"}],                        {\"template\":{\"data\":{\"bar\":[{\"error_x\":{\"color\":\"#2a3f5f\"},\"error_y\":{\"color\":\"#2a3f5f\"},\"marker\":{\"line\":{\"color\":\"#E5ECF6\",\"width\":0.5},\"pattern\":{\"fillmode\":\"overlay\",\"size\":10,\"solidity\":0.2}},\"type\":\"bar\"}],\"barpolar\":[{\"marker\":{\"line\":{\"color\":\"#E5ECF6\",\"width\":0.5},\"pattern\":{\"fillmode\":\"overlay\",\"size\":10,\"solidity\":0.2}},\"type\":\"barpolar\"}],\"carpet\":[{\"aaxis\":{\"endlinecolor\":\"#2a3f5f\",\"gridcolor\":\"white\",\"linecolor\":\"white\",\"minorgridcolor\":\"white\",\"startlinecolor\":\"#2a3f5f\"},\"baxis\":{\"endlinecolor\":\"#2a3f5f\",\"gridcolor\":\"white\",\"linecolor\":\"white\",\"minorgridcolor\":\"white\",\"startlinecolor\":\"#2a3f5f\"},\"type\":\"carpet\"}],\"choropleth\":[{\"colorbar\":{\"outlinewidth\":0,\"ticks\":\"\"},\"type\":\"choropleth\"}],\"contour\":[{\"colorbar\":{\"outlinewidth\":0,\"ticks\":\"\"},\"colorscale\":[[0.0,\"#0d0887\"],[0.1111111111111111,\"#46039f\"],[0.2222222222222222,\"#7201a8\"],[0.3333333333333333,\"#9c179e\"],[0.4444444444444444,\"#bd3786\"],[0.5555555555555556,\"#d8576b\"],[0.6666666666666666,\"#ed7953\"],[0.7777777777777778,\"#fb9f3a\"],[0.8888888888888888,\"#fdca26\"],[1.0,\"#f0f921\"]],\"type\":\"contour\"}],\"contourcarpet\":[{\"colorbar\":{\"outlinewidth\":0,\"ticks\":\"\"},\"type\":\"contourcarpet\"}],\"heatmap\":[{\"colorbar\":{\"outlinewidth\":0,\"ticks\":\"\"},\"colorscale\":[[0.0,\"#0d0887\"],[0.1111111111111111,\"#46039f\"],[0.2222222222222222,\"#7201a8\"],[0.3333333333333333,\"#9c179e\"],[0.4444444444444444,\"#bd3786\"],[0.5555555555555556,\"#d8576b\"],[0.6666666666666666,\"#ed7953\"],[0.7777777777777778,\"#fb9f3a\"],[0.8888888888888888,\"#fdca26\"],[1.0,\"#f0f921\"]],\"type\":\"heatmap\"}],\"heatmapgl\":[{\"colorbar\":{\"outlinewidth\":0,\"ticks\":\"\"},\"colorscale\":[[0.0,\"#0d0887\"],[0.1111111111111111,\"#46039f\"],[0.2222222222222222,\"#7201a8\"],[0.3333333333333333,\"#9c179e\"],[0.4444444444444444,\"#bd3786\"],[0.5555555555555556,\"#d8576b\"],[0.6666666666666666,\"#ed7953\"],[0.7777777777777778,\"#fb9f3a\"],[0.8888888888888888,\"#fdca26\"],[1.0,\"#f0f921\"]],\"type\":\"heatmapgl\"}],\"histogram\":[{\"marker\":{\"pattern\":{\"fillmode\":\"overlay\",\"size\":10,\"solidity\":0.2}},\"type\":\"histogram\"}],\"histogram2d\":[{\"colorbar\":{\"outlinewidth\":0,\"ticks\":\"\"},\"colorscale\":[[0.0,\"#0d0887\"],[0.1111111111111111,\"#46039f\"],[0.2222222222222222,\"#7201a8\"],[0.3333333333333333,\"#9c179e\"],[0.4444444444444444,\"#bd3786\"],[0.5555555555555556,\"#d8576b\"],[0.6666666666666666,\"#ed7953\"],[0.7777777777777778,\"#fb9f3a\"],[0.8888888888888888,\"#fdca26\"],[1.0,\"#f0f921\"]],\"type\":\"histogram2d\"}],\"histogram2dcontour\":[{\"colorbar\":{\"outlinewidth\":0,\"ticks\":\"\"},\"colorscale\":[[0.0,\"#0d0887\"],[0.1111111111111111,\"#46039f\"],[0.2222222222222222,\"#7201a8\"],[0.3333333333333333,\"#9c179e\"],[0.4444444444444444,\"#bd3786\"],[0.5555555555555556,\"#d8576b\"],[0.6666666666666666,\"#ed7953\"],[0.7777777777777778,\"#fb9f3a\"],[0.8888888888888888,\"#fdca26\"],[1.0,\"#f0f921\"]],\"type\":\"histogram2dcontour\"}],\"mesh3d\":[{\"colorbar\":{\"outlinewidth\":0,\"ticks\":\"\"},\"type\":\"mesh3d\"}],\"parcoords\":[{\"line\":{\"colorbar\":{\"outlinewidth\":0,\"ticks\":\"\"}},\"type\":\"parcoords\"}],\"pie\":[{\"automargin\":true,\"type\":\"pie\"}],\"scatter\":[{\"marker\":{\"colorbar\":{\"outlinewidth\":0,\"ticks\":\"\"}},\"type\":\"scatter\"}],\"scatter3d\":[{\"line\":{\"colorbar\":{\"outlinewidth\":0,\"ticks\":\"\"}},\"marker\":{\"colorbar\":{\"outlinewidth\":0,\"ticks\":\"\"}},\"type\":\"scatter3d\"}],\"scattercarpet\":[{\"marker\":{\"colorbar\":{\"outlinewidth\":0,\"ticks\":\"\"}},\"type\":\"scattercarpet\"}],\"scattergeo\":[{\"marker\":{\"colorbar\":{\"outlinewidth\":0,\"ticks\":\"\"}},\"type\":\"scattergeo\"}],\"scattergl\":[{\"marker\":{\"colorbar\":{\"outlinewidth\":0,\"ticks\":\"\"}},\"type\":\"scattergl\"}],\"scattermapbox\":[{\"marker\":{\"colorbar\":{\"outlinewidth\":0,\"ticks\":\"\"}},\"type\":\"scattermapbox\"}],\"scatterpolar\":[{\"marker\":{\"colorbar\":{\"outlinewidth\":0,\"ticks\":\"\"}},\"type\":\"scatterpolar\"}],\"scatterpolargl\":[{\"marker\":{\"colorbar\":{\"outlinewidth\":0,\"ticks\":\"\"}},\"type\":\"scatterpolargl\"}],\"scatterternary\":[{\"marker\":{\"colorbar\":{\"outlinewidth\":0,\"ticks\":\"\"}},\"type\":\"scatterternary\"}],\"surface\":[{\"colorbar\":{\"outlinewidth\":0,\"ticks\":\"\"},\"colorscale\":[[0.0,\"#0d0887\"],[0.1111111111111111,\"#46039f\"],[0.2222222222222222,\"#7201a8\"],[0.3333333333333333,\"#9c179e\"],[0.4444444444444444,\"#bd3786\"],[0.5555555555555556,\"#d8576b\"],[0.6666666666666666,\"#ed7953\"],[0.7777777777777778,\"#fb9f3a\"],[0.8888888888888888,\"#fdca26\"],[1.0,\"#f0f921\"]],\"type\":\"surface\"}],\"table\":[{\"cells\":{\"fill\":{\"color\":\"#EBF0F8\"},\"line\":{\"color\":\"white\"}},\"header\":{\"fill\":{\"color\":\"#C8D4E3\"},\"line\":{\"color\":\"white\"}},\"type\":\"table\"}]},\"layout\":{\"annotationdefaults\":{\"arrowcolor\":\"#2a3f5f\",\"arrowhead\":0,\"arrowwidth\":1},\"autotypenumbers\":\"strict\",\"coloraxis\":{\"colorbar\":{\"outlinewidth\":0,\"ticks\":\"\"}},\"colorscale\":{\"diverging\":[[0,\"#8e0152\"],[0.1,\"#c51b7d\"],[0.2,\"#de77ae\"],[0.3,\"#f1b6da\"],[0.4,\"#fde0ef\"],[0.5,\"#f7f7f7\"],[0.6,\"#e6f5d0\"],[0.7,\"#b8e186\"],[0.8,\"#7fbc41\"],[0.9,\"#4d9221\"],[1,\"#276419\"]],\"sequential\":[[0.0,\"#0d0887\"],[0.1111111111111111,\"#46039f\"],[0.2222222222222222,\"#7201a8\"],[0.3333333333333333,\"#9c179e\"],[0.4444444444444444,\"#bd3786\"],[0.5555555555555556,\"#d8576b\"],[0.6666666666666666,\"#ed7953\"],[0.7777777777777778,\"#fb9f3a\"],[0.8888888888888888,\"#fdca26\"],[1.0,\"#f0f921\"]],\"sequentialminus\":[[0.0,\"#0d0887\"],[0.1111111111111111,\"#46039f\"],[0.2222222222222222,\"#7201a8\"],[0.3333333333333333,\"#9c179e\"],[0.4444444444444444,\"#bd3786\"],[0.5555555555555556,\"#d8576b\"],[0.6666666666666666,\"#ed7953\"],[0.7777777777777778,\"#fb9f3a\"],[0.8888888888888888,\"#fdca26\"],[1.0,\"#f0f921\"]]},\"colorway\":[\"#636efa\",\"#EF553B\",\"#00cc96\",\"#ab63fa\",\"#FFA15A\",\"#19d3f3\",\"#FF6692\",\"#B6E880\",\"#FF97FF\",\"#FECB52\"],\"font\":{\"color\":\"#2a3f5f\"},\"geo\":{\"bgcolor\":\"white\",\"lakecolor\":\"white\",\"landcolor\":\"#E5ECF6\",\"showlakes\":true,\"showland\":true,\"subunitcolor\":\"white\"},\"hoverlabel\":{\"align\":\"left\"},\"hovermode\":\"closest\",\"mapbox\":{\"style\":\"light\"},\"paper_bgcolor\":\"white\",\"plot_bgcolor\":\"#E5ECF6\",\"polar\":{\"angularaxis\":{\"gridcolor\":\"white\",\"linecolor\":\"white\",\"ticks\":\"\"},\"bgcolor\":\"#E5ECF6\",\"radialaxis\":{\"gridcolor\":\"white\",\"linecolor\":\"white\",\"ticks\":\"\"}},\"scene\":{\"xaxis\":{\"backgroundcolor\":\"#E5ECF6\",\"gridcolor\":\"white\",\"gridwidth\":2,\"linecolor\":\"white\",\"showbackground\":true,\"ticks\":\"\",\"zerolinecolor\":\"white\"},\"yaxis\":{\"backgroundcolor\":\"#E5ECF6\",\"gridcolor\":\"white\",\"gridwidth\":2,\"linecolor\":\"white\",\"showbackground\":true,\"ticks\":\"\",\"zerolinecolor\":\"white\"},\"zaxis\":{\"backgroundcolor\":\"#E5ECF6\",\"gridcolor\":\"white\",\"gridwidth\":2,\"linecolor\":\"white\",\"showbackground\":true,\"ticks\":\"\",\"zerolinecolor\":\"white\"}},\"shapedefaults\":{\"line\":{\"color\":\"#2a3f5f\"}},\"ternary\":{\"aaxis\":{\"gridcolor\":\"white\",\"linecolor\":\"white\",\"ticks\":\"\"},\"baxis\":{\"gridcolor\":\"white\",\"linecolor\":\"white\",\"ticks\":\"\"},\"bgcolor\":\"#E5ECF6\",\"caxis\":{\"gridcolor\":\"white\",\"linecolor\":\"white\",\"ticks\":\"\"}},\"title\":{\"x\":0.05},\"xaxis\":{\"automargin\":true,\"gridcolor\":\"white\",\"linecolor\":\"white\",\"ticks\":\"\",\"title\":{\"standoff\":15},\"zerolinecolor\":\"white\",\"zerolinewidth\":2},\"yaxis\":{\"automargin\":true,\"gridcolor\":\"white\",\"linecolor\":\"white\",\"ticks\":\"\",\"title\":{\"standoff\":15},\"zerolinecolor\":\"white\",\"zerolinewidth\":2}}},\"legend\":{\"tracegroupgap\":0},\"margin\":{\"t\":60},\"title\":{\"text\":\"<b>experience_level</b>\",\"x\":0.5}},                        {\"responsive\": true}                    ).then(function(){\n                            \nvar gd = document.getElementById('bebf0a3e-82b9-4e76-84f7-ac6d0a025ca2');\nvar x = new MutationObserver(function (mutations, observer) {{\n        var display = window.getComputedStyle(gd).display;\n        if (!display || display === 'none') {{\n            console.log([gd, 'removed!']);\n            Plotly.purge(gd);\n            observer.disconnect();\n        }}\n}});\n\n// Listen for the removal of the full notebook cells\nvar notebookContainer = gd.closest('#notebook-container');\nif (notebookContainer) {{\n    x.observe(notebookContainer, {childList: true});\n}}\n\n// Listen for the clearing of the current output cell\nvar outputEl = gd.closest('.output');\nif (outputEl) {{\n    x.observe(outputEl, {childList: true});\n}}\n\n                        })                };                            </script>        </div>\n</body>\n</html>"
        },
        "metadata": {},
        "output_type": "display_data"
       }
      ]
     }
    },
    "8762127f1f4d4e77a7cc33e2d6336f9f": {
     "model_module": "@jupyter-widgets/controls",
     "model_module_version": "1.5.0",
     "model_name": "DescriptionStyleModel",
     "state": {
      "_model_module": "@jupyter-widgets/controls",
      "_model_module_version": "1.5.0",
      "_model_name": "DescriptionStyleModel",
      "_view_count": null,
      "_view_module": "@jupyter-widgets/base",
      "_view_module_version": "1.2.0",
      "_view_name": "StyleView",
      "description_width": ""
     }
    },
    "94fe685c5c8346468cea0c1c37b1aa29": {
     "model_module": "@jupyter-widgets/controls",
     "model_module_version": "1.5.0",
     "model_name": "DropdownModel",
     "state": {
      "_dom_classes": [],
      "_model_module": "@jupyter-widgets/controls",
      "_model_module_version": "1.5.0",
      "_model_name": "DropdownModel",
      "_options_labels": [
       "experience_level",
       "employment_type",
       "remote_ratio",
       "company_size"
      ],
      "_view_count": null,
      "_view_module": "@jupyter-widgets/controls",
      "_view_module_version": "1.5.0",
      "_view_name": "DropdownView",
      "description": "categorical_column",
      "description_tooltip": null,
      "disabled": false,
      "index": 0,
      "layout": "IPY_MODEL_33387779e2814f44bf4f488324bb6b05",
      "style": "IPY_MODEL_6bebfe198a1645e9854ef1699076e4d6"
     }
    },
    "c294220ff1b44388bb4d2034b0f53ae1": {
     "model_module": "@jupyter-widgets/controls",
     "model_module_version": "1.5.0",
     "model_name": "VBoxModel",
     "state": {
      "_dom_classes": [
       "widget-interact"
      ],
      "_model_module": "@jupyter-widgets/controls",
      "_model_module_version": "1.5.0",
      "_model_name": "VBoxModel",
      "_view_count": null,
      "_view_module": "@jupyter-widgets/controls",
      "_view_module_version": "1.5.0",
      "_view_name": "VBoxView",
      "box_style": "",
      "children": [
       "IPY_MODEL_4946b68fa53a40a88f9d7265e4a7a6bf",
       "IPY_MODEL_79983c5d238d425aadbbd546742f0770",
       "IPY_MODEL_c5cab094da0544428884a1f6d9cd733a"
      ],
      "layout": "IPY_MODEL_f82a4f61c0c04b0f8521a4aed1856be4"
     }
    },
    "c3d238853abc42f4a97fef7e06fcb156": {
     "model_module": "@jupyter-widgets/base",
     "model_module_version": "1.2.0",
     "model_name": "LayoutModel",
     "state": {
      "_model_module": "@jupyter-widgets/base",
      "_model_module_version": "1.2.0",
      "_model_name": "LayoutModel",
      "_view_count": null,
      "_view_module": "@jupyter-widgets/base",
      "_view_module_version": "1.2.0",
      "_view_name": "LayoutView",
      "align_content": null,
      "align_items": null,
      "align_self": null,
      "border": null,
      "bottom": null,
      "display": null,
      "flex": null,
      "flex_flow": null,
      "grid_area": null,
      "grid_auto_columns": null,
      "grid_auto_flow": null,
      "grid_auto_rows": null,
      "grid_column": null,
      "grid_gap": null,
      "grid_row": null,
      "grid_template_areas": null,
      "grid_template_columns": null,
      "grid_template_rows": null,
      "height": null,
      "justify_content": null,
      "justify_items": null,
      "left": null,
      "margin": null,
      "max_height": null,
      "max_width": null,
      "min_height": null,
      "min_width": null,
      "object_fit": null,
      "object_position": null,
      "order": null,
      "overflow": null,
      "overflow_x": null,
      "overflow_y": null,
      "padding": null,
      "right": null,
      "top": null,
      "visibility": null,
      "width": null
     }
    },
    "c5cab094da0544428884a1f6d9cd733a": {
     "model_module": "@jupyter-widgets/output",
     "model_module_version": "1.0.0",
     "model_name": "OutputModel",
     "state": {
      "_dom_classes": [],
      "_model_module": "@jupyter-widgets/output",
      "_model_module_version": "1.0.0",
      "_model_name": "OutputModel",
      "_view_count": null,
      "_view_module": "@jupyter-widgets/output",
      "_view_module_version": "1.0.0",
      "_view_name": "OutputView",
      "layout": "IPY_MODEL_83415cc8290948b8a651bebc71c3b8e8",
      "msg_id": "",
      "outputs": [
       {
        "data": {
         "image/png": "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\n",
         "text/plain": "<Figure size 864x576 with 1 Axes>"
        },
        "metadata": {},
        "output_type": "display_data"
       }
      ]
     }
    },
    "d5dc9465b45d42c28d2329703922a423": {
     "model_module": "@jupyter-widgets/base",
     "model_module_version": "1.2.0",
     "model_name": "LayoutModel",
     "state": {
      "_model_module": "@jupyter-widgets/base",
      "_model_module_version": "1.2.0",
      "_model_name": "LayoutModel",
      "_view_count": null,
      "_view_module": "@jupyter-widgets/base",
      "_view_module_version": "1.2.0",
      "_view_name": "LayoutView",
      "align_content": null,
      "align_items": null,
      "align_self": null,
      "border": null,
      "bottom": null,
      "display": null,
      "flex": null,
      "flex_flow": null,
      "grid_area": null,
      "grid_auto_columns": null,
      "grid_auto_flow": null,
      "grid_auto_rows": null,
      "grid_column": null,
      "grid_gap": null,
      "grid_row": null,
      "grid_template_areas": null,
      "grid_template_columns": null,
      "grid_template_rows": null,
      "height": null,
      "justify_content": null,
      "justify_items": null,
      "left": null,
      "margin": null,
      "max_height": null,
      "max_width": null,
      "min_height": null,
      "min_width": null,
      "object_fit": null,
      "object_position": null,
      "order": null,
      "overflow": null,
      "overflow_x": null,
      "overflow_y": null,
      "padding": null,
      "right": null,
      "top": null,
      "visibility": null,
      "width": null
     }
    },
    "efab1d1fd2984d4ea0fc1674a191fecf": {
     "model_module": "@jupyter-widgets/base",
     "model_module_version": "1.2.0",
     "model_name": "LayoutModel",
     "state": {
      "_model_module": "@jupyter-widgets/base",
      "_model_module_version": "1.2.0",
      "_model_name": "LayoutModel",
      "_view_count": null,
      "_view_module": "@jupyter-widgets/base",
      "_view_module_version": "1.2.0",
      "_view_name": "LayoutView",
      "align_content": null,
      "align_items": null,
      "align_self": null,
      "border": null,
      "bottom": null,
      "display": null,
      "flex": null,
      "flex_flow": null,
      "grid_area": null,
      "grid_auto_columns": null,
      "grid_auto_flow": null,
      "grid_auto_rows": null,
      "grid_column": null,
      "grid_gap": null,
      "grid_row": null,
      "grid_template_areas": null,
      "grid_template_columns": null,
      "grid_template_rows": null,
      "height": null,
      "justify_content": null,
      "justify_items": null,
      "left": null,
      "margin": null,
      "max_height": null,
      "max_width": null,
      "min_height": null,
      "min_width": null,
      "object_fit": null,
      "object_position": null,
      "order": null,
      "overflow": null,
      "overflow_x": null,
      "overflow_y": null,
      "padding": null,
      "right": null,
      "top": null,
      "visibility": null,
      "width": null
     }
    },
    "f82a4f61c0c04b0f8521a4aed1856be4": {
     "model_module": "@jupyter-widgets/base",
     "model_module_version": "1.2.0",
     "model_name": "LayoutModel",
     "state": {
      "_model_module": "@jupyter-widgets/base",
      "_model_module_version": "1.2.0",
      "_model_name": "LayoutModel",
      "_view_count": null,
      "_view_module": "@jupyter-widgets/base",
      "_view_module_version": "1.2.0",
      "_view_name": "LayoutView",
      "align_content": null,
      "align_items": null,
      "align_self": null,
      "border": null,
      "bottom": null,
      "display": null,
      "flex": null,
      "flex_flow": null,
      "grid_area": null,
      "grid_auto_columns": null,
      "grid_auto_flow": null,
      "grid_auto_rows": null,
      "grid_column": null,
      "grid_gap": null,
      "grid_row": null,
      "grid_template_areas": null,
      "grid_template_columns": null,
      "grid_template_rows": null,
      "height": null,
      "justify_content": null,
      "justify_items": null,
      "left": null,
      "margin": null,
      "max_height": null,
      "max_width": null,
      "min_height": null,
      "min_width": null,
      "object_fit": null,
      "object_position": null,
      "order": null,
      "overflow": null,
      "overflow_x": null,
      "overflow_y": null,
      "padding": null,
      "right": null,
      "top": null,
      "visibility": null,
      "width": null
     }
    },
    "fbec92aff635429081fea65d9d9d5f44": {
     "model_module": "@jupyter-widgets/controls",
     "model_module_version": "1.5.0",
     "model_name": "DescriptionStyleModel",
     "state": {
      "_model_module": "@jupyter-widgets/controls",
      "_model_module_version": "1.5.0",
      "_model_name": "DescriptionStyleModel",
      "_view_count": null,
      "_view_module": "@jupyter-widgets/base",
      "_view_module_version": "1.2.0",
      "_view_name": "StyleView",
      "description_width": ""
     }
    },
    "fef38aef72894b90966b54601344fd9b": {
     "model_module": "@jupyter-widgets/base",
     "model_module_version": "1.2.0",
     "model_name": "LayoutModel",
     "state": {
      "_model_module": "@jupyter-widgets/base",
      "_model_module_version": "1.2.0",
      "_model_name": "LayoutModel",
      "_view_count": null,
      "_view_module": "@jupyter-widgets/base",
      "_view_module_version": "1.2.0",
      "_view_name": "LayoutView",
      "align_content": null,
      "align_items": null,
      "align_self": null,
      "border": null,
      "bottom": null,
      "display": null,
      "flex": null,
      "flex_flow": null,
      "grid_area": null,
      "grid_auto_columns": null,
      "grid_auto_flow": null,
      "grid_auto_rows": null,
      "grid_column": null,
      "grid_gap": null,
      "grid_row": null,
      "grid_template_areas": null,
      "grid_template_columns": null,
      "grid_template_rows": null,
      "height": null,
      "justify_content": null,
      "justify_items": null,
      "left": null,
      "margin": null,
      "max_height": null,
      "max_width": null,
      "min_height": null,
      "min_width": null,
      "object_fit": null,
      "object_position": null,
      "order": null,
      "overflow": null,
      "overflow_x": null,
      "overflow_y": null,
      "padding": null,
      "right": null,
      "top": null,
      "visibility": null,
      "width": null
     }
    }
   }
  }
 },
 "nbformat": 4,
 "nbformat_minor": 4
}
